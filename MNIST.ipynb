{
 "metadata": {
  "name": "",
  "signature": "sha256:478b0855395a1ca924d82dd00bfb7d5b24bc154348576eca8b39b9ca851e79d2"
 },
 "nbformat": 3,
 "nbformat_minor": 0,
 "worksheets": [
  {
   "cells": [
    {
     "cell_type": "heading",
     "level": 1,
     "metadata": {},
     "source": [
      "MNIST"
     ]
    },
    {
     "cell_type": "markdown",
     "metadata": {},
     "source": [
      "Showing off some nice features of _netz_ by example of the MNIST data set."
     ]
    },
    {
     "cell_type": "heading",
     "level": 2,
     "metadata": {},
     "source": [
      "Imports"
     ]
    },
    {
     "cell_type": "code",
     "collapsed": false,
     "input": [
      "# -*- coding: utf-8 -*-\n",
      "from __future__ import division\n",
      "from copy import deepcopy\n",
      "\n",
      "import numpy as np\n",
      "import pandas as pd\n",
      "import matplotlib.pyplot as plt\n",
      "from sklearn.decomposition import PCA, RandomizedPCA\n",
      "import theano\n",
      "import theano.tensor as T"
     ],
     "language": "python",
     "metadata": {},
     "outputs": [],
     "prompt_number": 1
    },
    {
     "cell_type": "code",
     "collapsed": false,
     "input": [
      "from netz.layers import InputLayer, DenseLayer, OutputLayer, InputConcatLayer, PartialInputLayer\n",
      "from netz.neuralnet import NeuralNet, MultipleInputNet\n",
      "from netz.costfunctions import mse, crossentropy\n",
      "from netz.nonlinearities import softmax\n",
      "from netz.iterators import MultipleInputsBatchIterator\n",
      "from netz.updaters import Momentum, Nesterov, SGD\n",
      "from netz.visualize import plot_loss"
     ],
     "language": "python",
     "metadata": {},
     "outputs": [],
     "prompt_number": 2
    },
    {
     "cell_type": "code",
     "collapsed": false,
     "input": [
      "np.random.seed(17411)"
     ],
     "language": "python",
     "metadata": {},
     "outputs": [],
     "prompt_number": 3
    },
    {
     "cell_type": "code",
     "collapsed": false,
     "input": [
      "%pylab inline"
     ],
     "language": "python",
     "metadata": {},
     "outputs": [
      {
       "output_type": "stream",
       "stream": "stdout",
       "text": [
        "Populating the interactive namespace from numpy and matplotlib\n"
       ]
      }
     ],
     "prompt_number": 4
    },
    {
     "cell_type": "heading",
     "level": 2,
     "metadata": {},
     "source": [
      "Data"
     ]
    },
    {
     "cell_type": "markdown",
     "metadata": {},
     "source": [
      "Make sure you have the MNIST data set ready. You can get it here: http://www.kaggle.com/c/digit-recognizer/data."
     ]
    },
    {
     "cell_type": "heading",
     "level": 3,
     "metadata": {},
     "source": [
      "Load data"
     ]
    },
    {
     "cell_type": "code",
     "collapsed": false,
     "input": [
      "df = pd.read_csv('../data/mnist.csv')"
     ],
     "language": "python",
     "metadata": {},
     "outputs": [],
     "prompt_number": 5
    },
    {
     "cell_type": "code",
     "collapsed": false,
     "input": [
      "y = df.values[:, 0].copy().astype(np.int32)\n",
      "X = df.values[:, 1:].copy().astype(np.float32) / 255"
     ],
     "language": "python",
     "metadata": {},
     "outputs": [],
     "prompt_number": 6
    },
    {
     "cell_type": "code",
     "collapsed": false,
     "input": [
      "X = (X - X.mean()) / X.std()"
     ],
     "language": "python",
     "metadata": {},
     "outputs": [],
     "prompt_number": 7
    },
    {
     "cell_type": "heading",
     "level": 3,
     "metadata": {},
     "source": [
      "Plot data"
     ]
    },
    {
     "cell_type": "code",
     "collapsed": false,
     "input": [
      "figs, axes = plt.subplots(4, 4, figsize=(6, 6))\n",
      "for i in range(4):\n",
      "    for j in range(4):\n",
      "        axes[i, j].imshow(-X[i + 4 * j].reshape(28, 28), cmap='gray', interpolation='nearest')\n",
      "        axes[i, j].set_xticks([])\n",
      "        axes[i, j].set_yticks([])\n",
      "        axes[i, j].set_title(\"Label: {}\".format(y[i + 4 * j]))\n",
      "        axes[i, j].axis('off')"
     ],
     "language": "python",
     "metadata": {},
     "outputs": [
      {
       "metadata": {},
       "output_type": "display_data",
       "png": "[encoded data removed]",
       "text": [
        "<matplotlib.figure.Figure at 0x241aae10>"
       ]
      }
     ],
     "prompt_number": 8
    },
    {
     "cell_type": "heading",
     "level": 2,
     "metadata": {},
     "source": [
      "Neural nets"
     ]
    },
    {
     "cell_type": "heading",
     "level": 3,
     "metadata": {},
     "source": [
      "1 hidden layer"
     ]
    },
    {
     "cell_type": "heading",
     "level": 4,
     "metadata": {},
     "source": [
      "Here we want to train a simple neural net with just one hidden layer that has 100 units. For updating, we use vanilla stochastic gradient descent (SGD) with a learning rate  of 0.02."
     ]
    },
    {
     "cell_type": "code",
     "collapsed": false,
     "input": [
      "updater = SGD(0.02)"
     ],
     "language": "python",
     "metadata": {},
     "outputs": [],
     "prompt_number": 9
    },
    {
     "cell_type": "code",
     "collapsed": false,
     "input": [
      "layers1 = [InputLayer(),\n",
      "           DenseLayer(100),\n",
      "           OutputLayer()]"
     ],
     "language": "python",
     "metadata": {},
     "outputs": [],
     "prompt_number": 10
    },
    {
     "cell_type": "code",
     "collapsed": false,
     "input": [
      "net1 = NeuralNet(layers1, cost_function=crossentropy, updater=updater, verbose=1)"
     ],
     "language": "python",
     "metadata": {},
     "outputs": [],
     "prompt_number": 11
    },
    {
     "cell_type": "code",
     "collapsed": false,
     "input": [
      "%time net1.fit(X, y, max_iter=10)"
     ],
     "language": "python",
     "metadata": {},
     "outputs": [
      {
       "output_type": "stream",
       "stream": "stdout",
       "text": [
        "# ~=* Neural Network with 79510 learnable parameters *=~ \n",
        "\n",
        "\n",
        "## Layer information\n",
        "  # | name               | output shape       |        total \n",
        "----|--------------------|--------------------|--------------\n",
        "  0 | input0             | (None, 784)        |          784\n",
        "  1 | dense0             | (None, 100)        |          100\n",
        "  2 | output0            | (None, 10)         |           10\n",
        "\n",
        "\n",
        "## Training Information\n",
        " Epoch | Train loss | Valid loss | Train/Val | Valid acc | Dur\n",
        "-------|------------|------------|-----------|-----------|------"
       ]
      },
      {
       "output_type": "stream",
       "stream": "stdout",
       "text": [
        "\n",
        "     0 |   1.283699 |   0.813845 |    1.577  |  0.8382   | 0.9s"
       ]
      },
      {
       "output_type": "stream",
       "stream": "stdout",
       "text": [
        "\n",
        "     1 |   0.679015 |   0.580584 |    1.170  |  0.8708   | 0.8s"
       ]
      },
      {
       "output_type": "stream",
       "stream": "stdout",
       "text": [
        "\n",
        "     2 |   0.527942 |   0.486208 |    1.086  |  0.8847   | 0.8s"
       ]
      },
      {
       "output_type": "stream",
       "stream": "stdout",
       "text": [
        "\n",
        "     3 |   0.455599 |   0.434062 |    1.050  |  0.8920   | 0.9s"
       ]
      },
      {
       "output_type": "stream",
       "stream": "stdout",
       "text": [
        "\n",
        "     4 |   0.411986 |   0.400313 |    1.029  |  0.8977   | 0.9s"
       ]
      },
      {
       "output_type": "stream",
       "stream": "stdout",
       "text": [
        "\n",
        "     5 |   0.382172 |   0.376240 |    1.016  |  0.9029   | 0.9s"
       ]
      },
      {
       "output_type": "stream",
       "stream": "stdout",
       "text": [
        "\n",
        "     6 |   0.360066 |   0.357899 |    1.006  |  0.9061   | 0.9s"
       ]
      },
      {
       "output_type": "stream",
       "stream": "stdout",
       "text": [
        "\n",
        "     7 |   0.342715 |   0.343247 |    0.998  |  0.9070   | 0.8s"
       ]
      },
      {
       "output_type": "stream",
       "stream": "stdout",
       "text": [
        "\n",
        "     8 |   0.328514 |   0.331121 |    0.992  |  0.9090   | 0.9s"
       ]
      },
      {
       "output_type": "stream",
       "stream": "stdout",
       "text": [
        "\n",
        "     9 |   0.316515 |   0.320808 |    0.987  |  0.9118   | 1.2s"
       ]
      },
      {
       "output_type": "stream",
       "stream": "stdout",
       "text": [
        "\n",
        "Wall time: 13.6 s\n"
       ]
      },
      {
       "metadata": {},
       "output_type": "pyout",
       "prompt_number": 12,
       "text": [
        "NeuralNet(cost_function=<function crossentropy at 0x0000000017C1E588>,\n",
        "     eval_size=0.2,\n",
        "     iterator=<nolearn.lasagne.BatchIterator object at 0x0000000017DACC88>,\n",
        "     lambda2=None, layers=[input0, dense0, output0],\n",
        "     updater=<netz.updaters.SGD object at 0x0000000017DCBB38>, verbose=1)"
       ]
      }
     ],
     "prompt_number": 12
    },
    {
     "cell_type": "heading",
     "level": 4,
     "metadata": {},
     "source": [
      "We may continue training from here on (no cold start)."
     ]
    },
    {
     "cell_type": "code",
     "collapsed": false,
     "input": [
      "%time net1.fit(X, y, max_iter=5)"
     ],
     "language": "python",
     "metadata": {},
     "outputs": [
      {
       "output_type": "stream",
       "stream": "stdout",
       "text": [
        "## Training Information\n",
        " Epoch | Train loss | Valid loss | Train/Val | Valid acc | Dur\n",
        "-------|------------|------------|-----------|-----------|------\n",
        "    10 |   0.306122 |   0.311847 |    0.982  |  0.9142   | 0.8s"
       ]
      },
      {
       "output_type": "stream",
       "stream": "stdout",
       "text": [
        "\n",
        "    11 |   0.296945 |   0.303928 |    0.977  |  0.9166   | 0.8s"
       ]
      },
      {
       "output_type": "stream",
       "stream": "stdout",
       "text": [
        "\n",
        "    12 |   0.288714 |   0.296831 |    0.973  |  0.9175   | 0.9s"
       ]
      },
      {
       "output_type": "stream",
       "stream": "stdout",
       "text": [
        "\n",
        "    13 |   0.281239 |   0.290397 |    0.968  |  0.9192   | 0.9s"
       ]
      },
      {
       "output_type": "stream",
       "stream": "stdout",
       "text": [
        "\n",
        "    14 |   0.274379 |   0.284511 |    0.964  |  0.9206   | 0.9s"
       ]
      },
      {
       "output_type": "stream",
       "stream": "stdout",
       "text": [
        "\n",
        "Wall time: 5.09 s\n"
       ]
      },
      {
       "metadata": {},
       "output_type": "pyout",
       "prompt_number": 13,
       "text": [
        "NeuralNet(cost_function=<function crossentropy at 0x0000000017C1E588>,\n",
        "     eval_size=0.2,\n",
        "     iterator=<nolearn.lasagne.BatchIterator object at 0x0000000017DACC88>,\n",
        "     lambda2=None, layers=[input0, dense0, output0],\n",
        "     updater=<netz.updaters.SGD object at 0x0000000017DCBB38>, verbose=1)"
       ]
      }
     ],
     "prompt_number": 13
    },
    {
     "cell_type": "code",
     "collapsed": false,
     "input": [
      "plot_loss(net1)"
     ],
     "language": "python",
     "metadata": {},
     "outputs": [
      {
       "metadata": {},
       "output_type": "display_data",
       "png": "[encoded data removed]",
       "text": [
        "<matplotlib.figure.Figure at 0x2bb9a518>"
       ]
      }
     ],
     "prompt_number": 14
    },
    {
     "cell_type": "code",
     "collapsed": false,
     "input": [
      "X_valid, y_valid = net1.get_valid_data(X, y)"
     ],
     "language": "python",
     "metadata": {},
     "outputs": [],
     "prompt_number": 15
    },
    {
     "cell_type": "code",
     "collapsed": false,
     "input": [
      "accuracy = net1.score(X_valid, y_valid, accuracy=True)"
     ],
     "language": "python",
     "metadata": {},
     "outputs": [],
     "prompt_number": 16
    },
    {
     "cell_type": "code",
     "collapsed": false,
     "input": [
      "print(\"Accuracy: {:.4f}\".format(accuracy))"
     ],
     "language": "python",
     "metadata": {},
     "outputs": [
      {
       "output_type": "stream",
       "stream": "stdout",
       "text": [
        "Accuracy: 0.9206\n"
       ]
      }
     ],
     "prompt_number": 17
    },
    {
     "cell_type": "heading",
     "level": 4,
     "metadata": {},
     "source": [
      "If data has changed, which could result in contamination of the validation set, a _warning_ is printed."
     ]
    },
    {
     "cell_type": "code",
     "collapsed": false,
     "input": [
      "__ = net1.get_valid_data(X[1:], y[1:])"
     ],
     "language": "python",
     "metadata": {},
     "outputs": [
      {
       "output_type": "stream",
       "stream": "stderr",
       "text": [
        "netz\\neuralnet.py:271: UserWarning: Input data has changed since last usage\n",
        "  warnings.warn(\"Input data has changed since last usage\")\n"
       ]
      }
     ],
     "prompt_number": 18
    },
    {
     "cell_type": "heading",
     "level": 3,
     "metadata": {},
     "source": [
      "1 hidden layer using different update function"
     ]
    },
    {
     "cell_type": "heading",
     "level": 4,
     "metadata": {},
     "source": [
      "Again, we just use 1 hidden layer but this time, we set a different update function for this layer."
     ]
    },
    {
     "cell_type": "code",
     "collapsed": false,
     "input": [
      "updater_dense = Momentum(learn_rate=0.005, momentum=0.95)"
     ],
     "language": "python",
     "metadata": {},
     "outputs": [],
     "prompt_number": 19
    },
    {
     "cell_type": "code",
     "collapsed": false,
     "input": [
      "updater_rest = Nesterov()"
     ],
     "language": "python",
     "metadata": {},
     "outputs": [],
     "prompt_number": 20
    },
    {
     "cell_type": "code",
     "collapsed": false,
     "input": [
      "layers1b = [InputLayer(),\n",
      "           DenseLayer(100, updater=updater_dense),\n",
      "           OutputLayer()]"
     ],
     "language": "python",
     "metadata": {},
     "outputs": [],
     "prompt_number": 21
    },
    {
     "cell_type": "code",
     "collapsed": false,
     "input": [
      "net1b = NeuralNet(layers1b, cost_function=crossentropy, updater=updater_rest, verbose=1)"
     ],
     "language": "python",
     "metadata": {},
     "outputs": [],
     "prompt_number": 22
    },
    {
     "cell_type": "code",
     "collapsed": false,
     "input": [
      "%time net1b.fit(X, y, max_iter=25)"
     ],
     "language": "python",
     "metadata": {},
     "outputs": [
      {
       "output_type": "stream",
       "stream": "stdout",
       "text": [
        "# ~=* Neural Network with 79510 learnable parameters *=~ \n",
        "\n",
        "\n",
        "## Layer information\n",
        "  # | name               | output shape       |        total \n",
        "----|--------------------|--------------------|--------------\n",
        "  0 | input0             | (None, 784)        |          784\n",
        "  1 | dense0             | (None, 100)        |          100\n",
        "  2 | output0            | (None, 10)         |           10\n",
        "\n",
        "\n",
        "## Training Information\n",
        " Epoch | Train loss | Valid loss | Train/Val | Valid acc | Dur\n",
        "-------|------------|------------|-----------|-----------|------"
       ]
      },
      {
       "output_type": "stream",
       "stream": "stdout",
       "text": [
        "\n",
        "     0 |   0.786266 |   0.407281 |    1.931  |  0.8946   | 0.9s"
       ]
      },
      {
       "output_type": "stream",
       "stream": "stdout",
       "text": [
        "\n",
        "     1 |   0.355606 |   0.323959 |    1.098  |  0.9103   | 1.0s"
       ]
      },
      {
       "output_type": "stream",
       "stream": "stdout",
       "text": [
        "\n",
        "     2 |   0.296737 |   0.287727 |    1.031  |  0.9197   | 1.1s"
       ]
      },
      {
       "output_type": "stream",
       "stream": "stdout",
       "text": [
        "\n",
        "     3 |   0.263974 |   0.264717 |    0.997  |  0.9248   | 0.9s"
       ]
      },
      {
       "output_type": "stream",
       "stream": "stdout",
       "text": [
        "\n",
        "     4 |   0.240591 |   0.247626 |    0.972  |  0.9289   | 0.9s"
       ]
      },
      {
       "output_type": "stream",
       "stream": "stdout",
       "text": [
        "\n",
        "     5 |   0.222082 |   0.233914 |    0.949  |  0.9324   | 0.8s"
       ]
      },
      {
       "output_type": "stream",
       "stream": "stdout",
       "text": [
        "\n",
        "     6 |   0.206648 |   0.222422 |    0.929  |  0.9358   | 0.8s"
       ]
      },
      {
       "output_type": "stream",
       "stream": "stdout",
       "text": [
        "\n",
        "     7 |   0.193418 |   0.212543 |    0.910  |  0.9385   | 0.9s"
       ]
      },
      {
       "output_type": "stream",
       "stream": "stdout",
       "text": [
        "\n",
        "     8 |   0.181858 |   0.203899 |    0.892  |  0.9418   | 0.9s"
       ]
      },
      {
       "output_type": "stream",
       "stream": "stdout",
       "text": [
        "\n",
        "     9 |   0.171606 |   0.196237 |    0.874  |  0.9435   | 0.9s"
       ]
      },
      {
       "output_type": "stream",
       "stream": "stdout",
       "text": [
        "\n",
        "    10 |   0.162420 |   0.189381 |    0.858  |  0.9461   | 1.0s"
       ]
      },
      {
       "output_type": "stream",
       "stream": "stdout",
       "text": [
        "\n",
        "    11 |   0.154121 |   0.183205 |    0.841  |  0.9478   | 0.9s"
       ]
      },
      {
       "output_type": "stream",
       "stream": "stdout",
       "text": [
        "\n",
        "    12 |   0.146577 |   0.177610 |    0.825  |  0.9499   | 0.9s"
       ]
      },
      {
       "output_type": "stream",
       "stream": "stdout",
       "text": [
        "\n",
        "    13 |   0.139678 |   0.172517 |    0.810  |  0.9516   | 1.0s"
       ]
      },
      {
       "output_type": "stream",
       "stream": "stdout",
       "text": [
        "\n",
        "    14 |   0.133336 |   0.167863 |    0.794  |  0.9526   | 0.9s"
       ]
      },
      {
       "output_type": "stream",
       "stream": "stdout",
       "text": [
        "\n",
        "    15 |   0.127480 |   0.163597 |    0.779  |  0.9546   | 0.8s"
       ]
      },
      {
       "output_type": "stream",
       "stream": "stdout",
       "text": [
        "\n",
        "    16 |   0.122050 |   0.159677 |    0.764  |  0.9551   | 1.0s"
       ]
      },
      {
       "output_type": "stream",
       "stream": "stdout",
       "text": [
        "\n",
        "    17 |   0.117001 |   0.156068 |    0.750  |  0.9566   | 0.9s"
       ]
      },
      {
       "output_type": "stream",
       "stream": "stdout",
       "text": [
        "\n",
        "    18 |   0.112295 |   0.152739 |    0.735  |  0.9574   | 0.8s"
       ]
      },
      {
       "output_type": "stream",
       "stream": "stdout",
       "text": [
        "\n",
        "    19 |   0.107900 |   0.149662 |    0.721  |  0.9582   | 0.9s"
       ]
      },
      {
       "output_type": "stream",
       "stream": "stdout",
       "text": [
        "\n",
        "    20 |   0.103788 |   0.146813 |    0.707  |  0.9588   | 0.9s"
       ]
      },
      {
       "output_type": "stream",
       "stream": "stdout",
       "text": [
        "\n",
        "    21 |   0.099932 |   0.144170 |    0.693  |  0.9598   | 0.9s"
       ]
      },
      {
       "output_type": "stream",
       "stream": "stdout",
       "text": [
        "\n",
        "    22 |   0.096310 |   0.141714 |    0.680  |  0.9603   | 0.9s"
       ]
      },
      {
       "output_type": "stream",
       "stream": "stdout",
       "text": [
        "\n",
        "    23 |   0.092901 |   0.139428 |    0.666  |  0.9609   | 0.9s"
       ]
      },
      {
       "output_type": "stream",
       "stream": "stdout",
       "text": [
        "\n",
        "    24 |   0.089685 |   0.137295 |    0.653  |  0.9612   | 0.9s"
       ]
      },
      {
       "output_type": "stream",
       "stream": "stdout",
       "text": [
        "\n",
        "Wall time: 25.1 s\n"
       ]
      },
      {
       "metadata": {},
       "output_type": "pyout",
       "prompt_number": 23,
       "text": [
        "NeuralNet(cost_function=<function crossentropy at 0x0000000017C1E588>,\n",
        "     eval_size=0.2,\n",
        "     iterator=<nolearn.lasagne.BatchIterator object at 0x0000000017DACC88>,\n",
        "     lambda2=None, layers=[input0, dense0, output0],\n",
        "     updater=<netz.updaters.Nesterov object at 0x000000002D2B2358>,\n",
        "     verbose=1)"
       ]
      }
     ],
     "prompt_number": 23
    },
    {
     "cell_type": "code",
     "collapsed": false,
     "input": [
      "plot_loss(net1b)"
     ],
     "language": "python",
     "metadata": {},
     "outputs": [
      {
       "metadata": {},
       "output_type": "display_data",
       "png": "[encoded data removed]",
       "text": [
        "<matplotlib.figure.Figure at 0x27413080>"
       ]
      }
     ],
     "prompt_number": 24
    },
    {
     "cell_type": "heading",
     "level": 3,
     "metadata": {},
     "source": [
      "Regularization"
     ]
    },
    {
     "cell_type": "heading",
     "level": 4,
     "metadata": {},
     "source": [
      "Here we want to regularize the hidden layer by using L2 regularizaton. We don't regularize the other layers."
     ]
    },
    {
     "cell_type": "code",
     "collapsed": false,
     "input": [
      "layers1c = [InputLayer(),\n",
      "           DenseLayer(100, lambda2=1),\n",
      "           OutputLayer()]"
     ],
     "language": "python",
     "metadata": {},
     "outputs": [],
     "prompt_number": 25
    },
    {
     "cell_type": "code",
     "collapsed": false,
     "input": [
      "net1c = NeuralNet(layers1c, cost_function=crossentropy, verbose=1)"
     ],
     "language": "python",
     "metadata": {},
     "outputs": [],
     "prompt_number": 26
    },
    {
     "cell_type": "code",
     "collapsed": false,
     "input": [
      "%time net1c.fit(X, y, max_iter=25)"
     ],
     "language": "python",
     "metadata": {},
     "outputs": [
      {
       "output_type": "stream",
       "stream": "stdout",
       "text": [
        "# ~=* Neural Network with 79510 learnable parameters *=~ \n",
        "\n",
        "\n",
        "## Layer information\n",
        "  # | name               | output shape       |        total \n",
        "----|--------------------|--------------------|--------------\n",
        "  0 | input0             | (None, 784)        |          784\n",
        "  1 | dense0             | (None, 100)        |          100\n",
        "  2 | output0            | (None, 10)         |           10\n",
        "\n",
        "\n",
        "## Training Information\n",
        " Epoch | Train loss | Valid loss | Train/Val | Valid acc | Dur\n",
        "-------|------------|------------|-----------|-----------|------"
       ]
      },
      {
       "output_type": "stream",
       "stream": "stdout",
       "text": [
        "\n",
        "     0 |  18.799860 |   2.210419 |    8.505  |  0.7634   | 1.0s"
       ]
      },
      {
       "output_type": "stream",
       "stream": "stdout",
       "text": [
        "\n",
        "     1 |   1.816177 |   1.693118 |    1.073  |  0.7820   | 1.0s"
       ]
      },
      {
       "output_type": "stream",
       "stream": "stdout",
       "text": [
        "\n",
        "     2 |   1.664072 |   1.627300 |    1.023  |  0.7905   | 0.9s"
       ]
      },
      {
       "output_type": "stream",
       "stream": "stdout",
       "text": [
        "\n",
        "     3 |   1.604308 |   1.571548 |    1.021  |  0.7971   | 1.0s"
       ]
      },
      {
       "output_type": "stream",
       "stream": "stdout",
       "text": [
        "\n",
        "     4 |   1.552150 |   1.522454 |    1.020  |  0.8037   | 1.0s"
       ]
      },
      {
       "output_type": "stream",
       "stream": "stdout",
       "text": [
        "\n",
        "     5 |   1.506045 |   1.478933 |    1.018  |  0.8094   | 1.0s"
       ]
      },
      {
       "output_type": "stream",
       "stream": "stdout",
       "text": [
        "\n",
        "     6 |   1.465012 |   1.440081 |    1.017  |  0.8143   | 1.0s"
       ]
      },
      {
       "output_type": "stream",
       "stream": "stdout",
       "text": [
        "\n",
        "     7 |   1.428238 |   1.405160 |    1.016  |  0.8201   | 0.9s"
       ]
      },
      {
       "output_type": "stream",
       "stream": "stdout",
       "text": [
        "\n",
        "     8 |   1.395060 |   1.373570 |    1.016  |  0.8251   | 1.0s"
       ]
      },
      {
       "output_type": "stream",
       "stream": "stdout",
       "text": [
        "\n",
        "     9 |   1.364945 |   1.344825 |    1.015  |  0.8295   | 0.9s"
       ]
      },
      {
       "output_type": "stream",
       "stream": "stdout",
       "text": [
        "\n",
        "    10 |   1.337453 |   1.318529 |    1.014  |  0.8316   | 1.1s"
       ]
      },
      {
       "output_type": "stream",
       "stream": "stdout",
       "text": [
        "\n",
        "    11 |   1.312230 |   1.294354 |    1.014  |  0.8351   | 1.0s"
       ]
      },
      {
       "output_type": "stream",
       "stream": "stdout",
       "text": [
        "\n",
        "    12 |   1.288978 |   1.272031 |    1.013  |  0.8377   | 1.0s"
       ]
      },
      {
       "output_type": "stream",
       "stream": "stdout",
       "text": [
        "\n",
        "    13 |   1.267457 |   1.251337 |    1.013  |  0.8402   | 0.9s"
       ]
      },
      {
       "output_type": "stream",
       "stream": "stdout",
       "text": [
        "\n",
        "    14 |   1.247459 |   1.232081 |    1.012  |  0.8434   | 0.9s"
       ]
      },
      {
       "output_type": "stream",
       "stream": "stdout",
       "text": [
        "\n",
        "    15 |   1.228810 |   1.214103 |    1.012  |  0.8452   | 0.9s"
       ]
      },
      {
       "output_type": "stream",
       "stream": "stdout",
       "text": [
        "\n",
        "    16 |   1.211366 |   1.197269 |    1.012  |  0.8471   | 1.0s"
       ]
      },
      {
       "output_type": "stream",
       "stream": "stdout",
       "text": [
        "\n",
        "    17 |   1.195002 |   1.181460 |    1.011  |  0.8475   | 1.0s"
       ]
      },
      {
       "output_type": "stream",
       "stream": "stdout",
       "text": [
        "\n",
        "    18 |   1.179608 |   1.166576 |    1.011  |  0.8495   | 1.0s"
       ]
      },
      {
       "output_type": "stream",
       "stream": "stdout",
       "text": [
        "\n",
        "    19 |   1.165091 |   1.152529 |    1.011  |  0.8504   | 1.0s"
       ]
      },
      {
       "output_type": "stream",
       "stream": "stdout",
       "text": [
        "\n",
        "    20 |   1.151371 |   1.139242 |    1.011  |  0.8516   | 1.1s"
       ]
      },
      {
       "output_type": "stream",
       "stream": "stdout",
       "text": [
        "\n",
        "    21 |   1.138376 |   1.126650 |    1.010  |  0.8529   | 0.9s"
       ]
      },
      {
       "output_type": "stream",
       "stream": "stdout",
       "text": [
        "\n",
        "    22 |   1.126042 |   1.114692 |    1.010  |  0.8543   | 1.1s"
       ]
      },
      {
       "output_type": "stream",
       "stream": "stdout",
       "text": [
        "\n",
        "    23 |   1.114316 |   1.103318 |    1.010  |  0.8553   | 0.9s"
       ]
      },
      {
       "output_type": "stream",
       "stream": "stdout",
       "text": [
        "\n",
        "    24 |   1.103149 |   1.092479 |    1.010  |  0.8570   | 1.0s"
       ]
      },
      {
       "output_type": "stream",
       "stream": "stdout",
       "text": [
        "\n",
        "Wall time: 26.5 s\n"
       ]
      },
      {
       "metadata": {},
       "output_type": "pyout",
       "prompt_number": 27,
       "text": [
        "NeuralNet(cost_function=<function crossentropy at 0x0000000017C1E588>,\n",
        "     eval_size=0.2,\n",
        "     iterator=<nolearn.lasagne.BatchIterator object at 0x0000000017DACC88>,\n",
        "     lambda2=None, layers=[input0, dense0, output0],\n",
        "     updater=<netz.updaters.SGD object at 0x0000000017DACC50>, verbose=1)"
       ]
      }
     ],
     "prompt_number": 27
    },
    {
     "cell_type": "heading",
     "level": 4,
     "metadata": {},
     "source": [
      "The regularized layer's weights are much smaller, as expected from regularization."
     ]
    },
    {
     "cell_type": "code",
     "collapsed": false,
     "input": [
      "mean_wo_reg = np.abs(net1b.layers[1].W.get_value()).mean()\n",
      "mean_with_reg = np.abs(net1c.layers[1].W.get_value()).mean()\n",
      "print(\"Consequences of turning on regularization:\")\n",
      "print(\"Mean absolute weights before: {:.5f}.\".format(mean_wo_reg))\n",
      "print(\"Mean absolute weights after:  {:.5f}.\".format(mean_with_reg))"
     ],
     "language": "python",
     "metadata": {},
     "outputs": [
      {
       "output_type": "stream",
       "stream": "stdout",
       "text": [
        "Consequences of turning on regularization:\n",
        "Mean absolute weights before: 0.04842.\n",
        "Mean absolute weights after:  0.00162.\n"
       ]
      }
     ],
     "prompt_number": 28
    },
    {
     "cell_type": "code",
     "collapsed": false,
     "input": [
      "mean_wo_reg = np.abs(net1b.layers[2].W.get_value()).mean()\n",
      "mean_with_reg = np.abs(net1c.layers[2].W.get_value()).mean()\n",
      "print(\"Output layer is unregularized:\")\n",
      "print(\"Mean absolute weights before: {:.5f}.\".format(mean_wo_reg))\n",
      "print(\"Mean absolute weights after:  {:.5f}.\".format(mean_with_reg))"
     ],
     "language": "python",
     "metadata": {},
     "outputs": [
      {
       "output_type": "stream",
       "stream": "stdout",
       "text": [
        "Output layer is unregularized:\n",
        "Mean absolute weights before: 0.34247.\n",
        "Mean absolute weights after:  0.28272.\n"
       ]
      }
     ],
     "prompt_number": 29
    },
    {
     "cell_type": "code",
     "collapsed": false,
     "input": [
      "mean_wo_reg = np.abs(net1b.layers[1].b.get_value()).mean()\n",
      "mean_with_reg = np.abs(net1c.layers[1].b.get_value()).mean()\n",
      "print(\"As is the bias of the regularized layer:\")\n",
      "print(\"Mean absolute bias before: {:.5f}.\".format(mean_wo_reg))\n",
      "print(\"Mean absolute bias after:  {:.5f}.\".format(mean_with_reg))"
     ],
     "language": "python",
     "metadata": {},
     "outputs": [
      {
       "output_type": "stream",
       "stream": "stdout",
       "text": [
        "As is the bias of the regularized layer:\n",
        "Mean absolute bias before: 0.11597.\n",
        "Mean absolute bias after:  0.10648.\n"
       ]
      }
     ],
     "prompt_number": 30
    },
    {
     "cell_type": "heading",
     "level": 2,
     "metadata": {},
     "source": [
      "2 hidden layers"
     ]
    },
    {
     "cell_type": "markdown",
     "metadata": {},
     "source": [
      "An example with 2 hidden layers."
     ]
    },
    {
     "cell_type": "code",
     "collapsed": false,
     "input": [
      "layers2 = [InputLayer(),\n",
      "           DenseLayer(200),\n",
      "           DenseLayer(200),\n",
      "           OutputLayer()]"
     ],
     "language": "python",
     "metadata": {},
     "outputs": [],
     "prompt_number": 31
    },
    {
     "cell_type": "code",
     "collapsed": false,
     "input": [
      "net2 = NeuralNet(layers2, updater=Nesterov(), verbose=1)"
     ],
     "language": "python",
     "metadata": {},
     "outputs": [],
     "prompt_number": 32
    },
    {
     "cell_type": "code",
     "collapsed": false,
     "input": [
      "%time net2.fit(X, y, max_iter=25)"
     ],
     "language": "python",
     "metadata": {},
     "outputs": [
      {
       "output_type": "stream",
       "stream": "stdout",
       "text": [
        "# ~=* Neural Network with 199210 learnable parameters *=~ \n",
        "\n",
        "\n",
        "## Layer information\n",
        "  # | name               | output shape       |        total \n",
        "----|--------------------|--------------------|--------------\n",
        "  0 | input0             | (None, 784)        |          784\n",
        "  1 | dense0             | (None, 200)        |          200\n",
        "  2 | dense1             | (None, 200)        |          200\n",
        "  3 | output0            | (None, 10)         |           10\n",
        "\n",
        "\n",
        "## Training Information\n",
        " Epoch | Train loss | Valid loss | Train/Val | Valid acc | Dur\n",
        "-------|------------|------------|-----------|-----------|------"
       ]
      },
      {
       "output_type": "stream",
       "stream": "stdout",
       "text": [
        "\n",
        "     0 |   1.377071 |   0.665702 |    2.069  |  0.8503   | 2.5s"
       ]
      },
      {
       "output_type": "stream",
       "stream": "stdout",
       "text": [
        "\n",
        "     1 |   0.508073 |   0.410679 |    1.237  |  0.8924   | 2.5s"
       ]
      },
      {
       "output_type": "stream",
       "stream": "stdout",
       "text": [
        "\n",
        "     2 |   0.369508 |   0.340176 |    1.086  |  0.9030   | 2.4s"
       ]
      },
      {
       "output_type": "stream",
       "stream": "stdout",
       "text": [
        "\n",
        "     3 |   0.316665 |   0.304903 |    1.039  |  0.9110   | 2.7s"
       ]
      },
      {
       "output_type": "stream",
       "stream": "stdout",
       "text": [
        "\n",
        "     4 |   0.285027 |   0.281519 |    1.012  |  0.9189   | 2.8s"
       ]
      },
      {
       "output_type": "stream",
       "stream": "stdout",
       "text": [
        "\n",
        "     5 |   0.261798 |   0.263644 |    0.993  |  0.9240   | 3.4s"
       ]
      },
      {
       "output_type": "stream",
       "stream": "stdout",
       "text": [
        "\n",
        "     6 |   0.242900 |   0.248818 |    0.976  |  0.9279   | 3.3s"
       ]
      },
      {
       "output_type": "stream",
       "stream": "stdout",
       "text": [
        "\n",
        "     7 |   0.226635 |   0.235927 |    0.961  |  0.9314   | 3.3s"
       ]
      },
      {
       "output_type": "stream",
       "stream": "stdout",
       "text": [
        "\n",
        "     8 |   0.212191 |   0.224424 |    0.945  |  0.9348   | 3.9s"
       ]
      },
      {
       "output_type": "stream",
       "stream": "stdout",
       "text": [
        "\n",
        "     9 |   0.199135 |   0.214026 |    0.930  |  0.9373   | 4.0s"
       ]
      },
      {
       "output_type": "stream",
       "stream": "stdout",
       "text": [
        "\n",
        "    10 |   0.187216 |   0.204571 |    0.915  |  0.9399   | 4.1s"
       ]
      },
      {
       "output_type": "stream",
       "stream": "stdout",
       "text": [
        "\n",
        "    11 |   0.176278 |   0.195949 |    0.900  |  0.9419   | 3.7s"
       ]
      },
      {
       "output_type": "stream",
       "stream": "stdout",
       "text": [
        "\n",
        "    12 |   0.166210 |   0.188074 |    0.884  |  0.9443   | 3.5s"
       ]
      },
      {
       "output_type": "stream",
       "stream": "stdout",
       "text": [
        "\n",
        "    13 |   0.156921 |   0.180872 |    0.868  |  0.9472   | 4.0s"
       ]
      },
      {
       "output_type": "stream",
       "stream": "stdout",
       "text": [
        "\n",
        "    14 |   0.148334 |   0.174282 |    0.851  |  0.9492   | 3.8s"
       ]
      },
      {
       "output_type": "stream",
       "stream": "stdout",
       "text": [
        "\n",
        "    15 |   0.140383 |   0.168247 |    0.834  |  0.9503   | 3.6s"
       ]
      },
      {
       "output_type": "stream",
       "stream": "stdout",
       "text": [
        "\n",
        "    16 |   0.133008 |   0.162720 |    0.817  |  0.9516   | 3.5s"
       ]
      },
      {
       "output_type": "stream",
       "stream": "stdout",
       "text": [
        "\n",
        "    17 |   0.126155 |   0.157656 |    0.800  |  0.9536   | 3.4s"
       ]
      },
      {
       "output_type": "stream",
       "stream": "stdout",
       "text": [
        "\n",
        "    18 |   0.119775 |   0.153016 |    0.783  |  0.9549   | 3.7s"
       ]
      },
      {
       "output_type": "stream",
       "stream": "stdout",
       "text": [
        "\n",
        "    19 |   0.113826 |   0.148763 |    0.765  |  0.9565   | 3.5s"
       ]
      },
      {
       "output_type": "stream",
       "stream": "stdout",
       "text": [
        "\n",
        "    20 |   0.108266 |   0.144862 |    0.747  |  0.9579   | 3.7s"
       ]
      },
      {
       "output_type": "stream",
       "stream": "stdout",
       "text": [
        "\n",
        "    21 |   0.103061 |   0.141282 |    0.729  |  0.9595   | 3.6s"
       ]
      },
      {
       "output_type": "stream",
       "stream": "stdout",
       "text": [
        "\n",
        "    22 |   0.098177 |   0.137992 |    0.711  |  0.9599   | 3.3s"
       ]
      },
      {
       "output_type": "stream",
       "stream": "stdout",
       "text": [
        "\n",
        "    23 |   0.093588 |   0.134966 |    0.693  |  0.9612   | 3.0s"
       ]
      },
      {
       "output_type": "stream",
       "stream": "stdout",
       "text": [
        "\n",
        "    24 |   0.089267 |   0.132177 |    0.675  |  0.9619   | 3.0s"
       ]
      },
      {
       "output_type": "stream",
       "stream": "stdout",
       "text": [
        "\n",
        "Wall time: 1min 26s\n"
       ]
      },
      {
       "metadata": {},
       "output_type": "pyout",
       "prompt_number": 33,
       "text": [
        "NeuralNet(cost_function=<function crossentropy at 0x0000000017C1E588>,\n",
        "     eval_size=0.2,\n",
        "     iterator=<nolearn.lasagne.BatchIterator object at 0x0000000017DACC88>,\n",
        "     lambda2=None, layers=[input0, dense0, dense1, output0],\n",
        "     updater=<netz.updaters.Nesterov object at 0x000000002798B4A8>,\n",
        "     verbose=1)"
       ]
      }
     ],
     "prompt_number": 33
    },
    {
     "cell_type": "code",
     "collapsed": false,
     "input": [
      "plot_loss(net2)"
     ],
     "language": "python",
     "metadata": {},
     "outputs": [
      {
       "metadata": {},
       "output_type": "display_data",
       "png": "[encoded data removed]",
       "text": [
        "<matplotlib.figure.Figure at 0x2c2b7c50>"
       ]
      }
     ],
     "prompt_number": 34
    },
    {
     "cell_type": "code",
     "collapsed": false,
     "input": [
      "accuracy = net2.score(X_valid, y_valid, accuracy=True)"
     ],
     "language": "python",
     "metadata": {},
     "outputs": [],
     "prompt_number": 35
    },
    {
     "cell_type": "code",
     "collapsed": false,
     "input": [
      "print(\"Accuracy: {:.4f}\".format(accuracy))"
     ],
     "language": "python",
     "metadata": {},
     "outputs": [
      {
       "output_type": "stream",
       "stream": "stdout",
       "text": [
        "Accuracy: 0.9619\n"
       ]
      }
     ],
     "prompt_number": 36
    },
    {
     "cell_type": "heading",
     "level": 3,
     "metadata": {},
     "source": [
      "Splitting and joining outputs"
     ]
    },
    {
     "cell_type": "markdown",
     "metadata": {},
     "source": [
      "Our goal in this section is to have two seperate dense layers that work in parallel on the input data, and then to concatenate those layers' outputs and feed them to the output layer."
     ]
    },
    {
     "cell_type": "markdown",
     "metadata": {},
     "source": [
      "The easiest way to have layers that are not simply connected one to the next is to indicate a _connection pattern_. To do this, give each layer a name with the _name_ keyword. Then write a connection pattern that indicates with an arrow, <b>-></b>, which layer connects to which."
     ]
    },
    {
     "cell_type": "code",
     "collapsed": false,
     "input": [
      "layers3 = [InputLayer(name='input'),\n",
      "           DenseLayer(100, name='dense0'),\n",
      "           DenseLayer(200, name='dense1'),\n",
      "           InputConcatLayer(name='concat'),\n",
      "           OutputLayer(name='output')]"
     ],
     "language": "python",
     "metadata": {},
     "outputs": [],
     "prompt_number": 12
    },
    {
     "cell_type": "code",
     "collapsed": false,
     "input": [
      "connection_pattern = \"\"\"\n",
      "input->dense0\n",
      "input->dense1\n",
      "dense0->concat\n",
      "dense1->concat\n",
      "concat->output\n",
      "\"\"\""
     ],
     "language": "python",
     "metadata": {},
     "outputs": [],
     "prompt_number": 13
    },
    {
     "cell_type": "code",
     "collapsed": false,
     "input": [
      "net3 = NeuralNet(\n",
      "    layers3, cost_function=crossentropy,\n",
      "    updater=Nesterov(),\n",
      "    eval_size=0.2,\n",
      "    verbose=1,\n",
      "    connection_pattern=connection_pattern,\n",
      ")"
     ],
     "language": "python",
     "metadata": {},
     "outputs": [],
     "prompt_number": 14
    },
    {
     "cell_type": "code",
     "collapsed": false,
     "input": [
      "%time net3.fit(X, y, max_iter=25)"
     ],
     "language": "python",
     "metadata": {},
     "outputs": [
      {
       "output_type": "stream",
       "stream": "stdout",
       "text": [
        "# ~=* Neural Network with 238510 learnable parameters *=~ \n",
        "\n",
        "\n",
        "## Layer information\n",
        "  # | name               | output shape       |        total \n",
        "----|--------------------|--------------------|--------------\n",
        "  0 | input              | (None, 784)        |          784\n",
        "  1 | dense0             | (None, 100)        |          100\n",
        "  2 | dense1             | (None, 200)        |          200\n",
        "  3 | concat             | (None, 300)        |          300\n",
        "  4 | output             | (None, 10)         |           10\n",
        "\n",
        "\n",
        "## Training Information\n",
        " Epoch | Train loss | Valid loss | Train/Val | Valid acc | Dur\n",
        "-------|------------|------------|-----------|-----------|------"
       ]
      },
      {
       "output_type": "stream",
       "stream": "stdout",
       "text": [
        "\n",
        "     0 |   0.637435 |   0.372645 |    1.711  |  0.8945   | 3.2s"
       ]
      },
      {
       "output_type": "stream",
       "stream": "stdout",
       "text": [
        "\n",
        "     1 |   0.332480 |   0.310693 |    1.070  |  0.9101   | 3.2s"
       ]
      },
      {
       "output_type": "stream",
       "stream": "stdout",
       "text": [
        "\n",
        "     2 |   0.286219 |   0.280619 |    1.020  |  0.9198   | 3.2s"
       ]
      },
      {
       "output_type": "stream",
       "stream": "stdout",
       "text": [
        "\n",
        "     3 |   0.257723 |   0.259509 |    0.993  |  0.9266   | 3.2s"
       ]
      },
      {
       "output_type": "stream",
       "stream": "stdout",
       "text": [
        "\n",
        "     4 |   0.235656 |   0.242506 |    0.972  |  0.9331   | 3.2s"
       ]
      },
      {
       "output_type": "stream",
       "stream": "stdout",
       "text": [
        "\n",
        "     5 |   0.217111 |   0.228067 |    0.952  |  0.9361   | 3.2s"
       ]
      },
      {
       "output_type": "stream",
       "stream": "stdout",
       "text": [
        "\n",
        "     6 |   0.201025 |   0.215528 |    0.933  |  0.9391   | 3.2s"
       ]
      },
      {
       "output_type": "stream",
       "stream": "stdout",
       "text": [
        "\n",
        "     7 |   0.186871 |   0.204507 |    0.914  |  0.9423   | 3.7s"
       ]
      },
      {
       "output_type": "stream",
       "stream": "stdout",
       "text": [
        "\n",
        "     8 |   0.174308 |   0.194738 |    0.895  |  0.9456   | 3.6s"
       ]
      },
      {
       "output_type": "stream",
       "stream": "stdout",
       "text": [
        "\n",
        "     9 |   0.163081 |   0.186026 |    0.877  |  0.9479   | 3.4s"
       ]
      },
      {
       "output_type": "stream",
       "stream": "stdout",
       "text": [
        "\n",
        "    10 |   0.152991 |   0.178225 |    0.858  |  0.9490   | 3.4s"
       ]
      },
      {
       "output_type": "stream",
       "stream": "stdout",
       "text": [
        "\n",
        "    11 |   0.143876 |   0.171223 |    0.840  |  0.9510   | 3.1s"
       ]
      },
      {
       "output_type": "stream",
       "stream": "stdout",
       "text": [
        "\n",
        "    12 |   0.135607 |   0.164925 |    0.822  |  0.9530   | 2.7s"
       ]
      },
      {
       "output_type": "stream",
       "stream": "stdout",
       "text": [
        "\n",
        "    13 |   0.128076 |   0.159248 |    0.804  |  0.9549   | 2.6s"
       ]
      },
      {
       "output_type": "stream",
       "stream": "stdout",
       "text": [
        "\n",
        "    14 |   0.121192 |   0.154120 |    0.786  |  0.9563   | 2.8s"
       ]
      },
      {
       "output_type": "stream",
       "stream": "stdout",
       "text": [
        "\n",
        "    15 |   0.114879 |   0.149475 |    0.769  |  0.9573   | 2.7s"
       ]
      },
      {
       "output_type": "stream",
       "stream": "stdout",
       "text": [
        "\n",
        "    16 |   0.109069 |   0.145253 |    0.751  |  0.9587   | 2.4s"
       ]
      },
      {
       "output_type": "stream",
       "stream": "stdout",
       "text": [
        "\n",
        "    17 |   0.103707 |   0.141406 |    0.733  |  0.9595   | 2.4s"
       ]
      },
      {
       "output_type": "stream",
       "stream": "stdout",
       "text": [
        "\n",
        "    18 |   0.098742 |   0.137890 |    0.716  |  0.9612   | 2.4s"
       ]
      },
      {
       "output_type": "stream",
       "stream": "stdout",
       "text": [
        "\n",
        "    19 |   0.094133 |   0.134666 |    0.699  |  0.9620   | 2.6s"
       ]
      },
      {
       "output_type": "stream",
       "stream": "stdout",
       "text": [
        "\n",
        "    20 |   0.089844 |   0.131702 |    0.682  |  0.9632   | 2.8s"
       ]
      },
      {
       "output_type": "stream",
       "stream": "stdout",
       "text": [
        "\n",
        "    21 |   0.085843 |   0.128971 |    0.666  |  0.9635   | 2.9s"
       ]
      },
      {
       "output_type": "stream",
       "stream": "stdout",
       "text": [
        "\n",
        "    22 |   0.082102 |   0.126448 |    0.649  |  0.9638   | 2.8s"
       ]
      },
      {
       "output_type": "stream",
       "stream": "stdout",
       "text": [
        "\n",
        "    23 |   0.078600 |   0.124111 |    0.633  |  0.9641   | 2.7s"
       ]
      },
      {
       "output_type": "stream",
       "stream": "stdout",
       "text": [
        "\n",
        "    24 |   0.075314 |   0.121944 |    0.618  |  0.9645   | 2.6s"
       ]
      },
      {
       "output_type": "stream",
       "stream": "stdout",
       "text": [
        "\n",
        "Wall time: 1min 17s\n"
       ]
      },
      {
       "metadata": {},
       "output_type": "pyout",
       "prompt_number": 15,
       "text": [
        "NeuralNet(connection_pattern='\\ninput->dense0\\ninput->dense1\\ndense0->concat\\ndense1->concat\\nconcat->output\\n',\n",
        "     cost_function=<function crossentropy at 0x0000000017A156D8>,\n",
        "     eval_size=0.2,\n",
        "     iterator=<nolearn.lasagne.BatchIterator object at 0x0000000017B9F9E8>,\n",
        "     lambda2=None, layers=[input, dense0, dense1, concat, output],\n",
        "     updater=<netz.updaters.Nesterov object at 0x00000000252C9828>,\n",
        "     verbose=1)"
       ]
      }
     ],
     "prompt_number": 15
    },
    {
     "cell_type": "code",
     "collapsed": false,
     "input": [
      "plot_loss(net3)"
     ],
     "language": "python",
     "metadata": {},
     "outputs": [
      {
       "metadata": {},
       "output_type": "display_data",
       "png": "[encoded data removed]",
       "text": [
        "<matplotlib.figure.Figure at 0x17bc2898>"
       ]
      }
     ],
     "prompt_number": 16
    },
    {
     "cell_type": "code",
     "collapsed": false,
     "input": [
      "accuracy = net3.score(X_valid, y_valid, accuracy=True)"
     ],
     "language": "python",
     "metadata": {},
     "outputs": [
      {
       "ename": "NameError",
       "evalue": "name 'X_valid' is not defined",
       "output_type": "pyerr",
       "traceback": [
        "\u001b[1;31m---------------------------------------------------------------------------\u001b[0m\n\u001b[1;31mNameError\u001b[0m                                 Traceback (most recent call last)",
        "\u001b[1;32m<ipython-input-17-159e55676f9b>\u001b[0m in \u001b[0;36m<module>\u001b[1;34m()\u001b[0m\n\u001b[1;32m----> 1\u001b[1;33m \u001b[0maccuracy\u001b[0m \u001b[1;33m=\u001b[0m \u001b[0mnet3\u001b[0m\u001b[1;33m.\u001b[0m\u001b[0mscore\u001b[0m\u001b[1;33m(\u001b[0m\u001b[0mX_valid\u001b[0m\u001b[1;33m,\u001b[0m \u001b[0my_valid\u001b[0m\u001b[1;33m,\u001b[0m \u001b[0maccuracy\u001b[0m\u001b[1;33m=\u001b[0m\u001b[0mTrue\u001b[0m\u001b[1;33m)\u001b[0m\u001b[1;33m\u001b[0m\u001b[0m\n\u001b[0m",
        "\u001b[1;31mNameError\u001b[0m: name 'X_valid' is not defined"
       ]
      }
     ],
     "prompt_number": 17
    },
    {
     "cell_type": "code",
     "collapsed": false,
     "input": [
      "print(\"Accuracy: {:.4f}\".format(accuracy))"
     ],
     "language": "python",
     "metadata": {},
     "outputs": []
    },
    {
     "cell_type": "heading",
     "level": 3,
     "metadata": {},
     "source": [
      "Multiple inputs"
     ]
    },
    {
     "cell_type": "markdown",
     "metadata": {},
     "source": [
      "The idea here is that the net could be more robust if we also feed it tranformed features, which should still get the same label. In this case, we mirror the image along the vertical axis."
     ]
    },
    {
     "cell_type": "code",
     "collapsed": false,
     "input": [
      "X2D = X.reshape(-1, 28, 28).copy()\n",
      "X2D = X2D[:, :, ::-1]\n",
      "Xt = X2D.reshape(-1, 28 * 28)"
     ],
     "language": "python",
     "metadata": {},
     "outputs": [],
     "prompt_number": 8
    },
    {
     "cell_type": "code",
     "collapsed": false,
     "input": [
      "figs, axes = plt.subplots(4, 4, figsize=(6, 6))\n",
      "for i in range(4):\n",
      "    for j in range(4):\n",
      "        axes[i, j].imshow(-Xt[i + 4 * j].reshape(28, 28), cmap='gray', interpolation='nearest')\n",
      "        axes[i, j].set_xticks([])\n",
      "        axes[i, j].set_yticks([])\n",
      "        axes[i, j].set_title(\"Label: {}\".format(y[i + 4 * j]))\n",
      "        axes[i, j].axis('off')"
     ],
     "language": "python",
     "metadata": {},
     "outputs": [
      {
       "metadata": {},
       "output_type": "display_data",
       "png": "[encoded data removed]",
       "text": [
        "<matplotlib.figure.Figure at 0x2c8eaa20>"
       ]
      }
     ],
     "prompt_number": 9
    },
    {
     "cell_type": "markdown",
     "metadata": {},
     "source": [
      "We want to feed both inputs, the mirrored and the original. Instead of concatenating them, we can use the _PartialInputLayer_. To do this, we must fit the model with a list of inputs, i.e. [X, Xt], and indicate for the PartialInputLayers which of the inputs to return with the help of the _idx_ keyword."
     ]
    },
    {
     "cell_type": "code",
     "collapsed": false,
     "input": [
      "layers4 = [PartialInputLayer(idx=0, name='partial0'),  # returns the 0th input\n",
      "           PartialInputLayer(idx=1, name='partial1'),  # returns the 1st input\n",
      "           DenseLayer(100, name='dense0'),  # receives the 0th input\n",
      "           DenseLayer(100, name='dense1'),  # receives the 1st input\n",
      "           InputConcatLayer(name='concat'),  # receives from the two dense layers\n",
      "           OutputLayer(name='output')]"
     ],
     "language": "python",
     "metadata": {},
     "outputs": [],
     "prompt_number": 10
    },
    {
     "cell_type": "markdown",
     "metadata": {},
     "source": [
      "Again, we make use of the _connection_pattern_ to easily connect the layers."
     ]
    },
    {
     "cell_type": "code",
     "collapsed": false,
     "input": [
      "connection_pattern = \"\"\"\n",
      "partial0->dense0\n",
      "partial1->dense1\n",
      "dense0->concat\n",
      "dense1->concat\n",
      "concat->output\n",
      "\"\"\""
     ],
     "language": "python",
     "metadata": {},
     "outputs": [],
     "prompt_number": 11
    },
    {
     "cell_type": "markdown",
     "metadata": {},
     "source": [
      "The normal _BatchIterator_ does not support multiple inputs; therefore, we use the _MultipleInputsBatchIterator_."
     ]
    },
    {
     "cell_type": "code",
     "collapsed": false,
     "input": [
      "iterator = MultipleInputsBatchIterator(128)"
     ],
     "language": "python",
     "metadata": {},
     "outputs": [],
     "prompt_number": 12
    },
    {
     "cell_type": "code",
     "collapsed": false,
     "input": [
      "net4 = MultipleInputNet(\n",
      "    layers4, cost_function=crossentropy,\n",
      "    updater=Nesterov(),\n",
      "    eval_size=0.2,\n",
      "    verbose=1,\n",
      "    iterator=MultipleInputsBatchIterator(128),\n",
      "    connection_pattern=connection_pattern,\n",
      ")"
     ],
     "language": "python",
     "metadata": {},
     "outputs": [],
     "prompt_number": 13
    },
    {
     "cell_type": "code",
     "collapsed": false,
     "input": [
      "%time net4.fit([X, Xt], y, max_iter=25)"
     ],
     "language": "python",
     "metadata": {},
     "outputs": [
      {
       "output_type": "stream",
       "stream": "stdout",
       "text": [
        "# ~=* Neural Network with 159010 learnable parameters *=~ \n",
        "\n",
        "\n",
        "## Layer information\n",
        "  # | name               | output shape       |        total \n",
        "----|--------------------|--------------------|--------------\n",
        "  0 | partial0           | (None, 784)        |          784\n",
        "  1 | partial1           | (None, 784)        |          784\n",
        "  2 | dense0             | (None, 100)        |          100\n",
        "  3 | dense1             | (None, 100)        |          100\n",
        "  4 | concat             | (None, 200)        |          200\n",
        "  5 | output             | (None, 10)         |           10\n",
        "\n",
        "\n",
        "## Training Information\n",
        " Epoch | Train loss | Valid loss | Train/Val | Valid acc | Dur\n",
        "-------|------------|------------|-----------|-----------|------"
       ]
      },
      {
       "output_type": "stream",
       "stream": "stdout",
       "text": [
        "\n",
        "     0 |   0.660597 |   0.380677 |    1.735  |  0.8964   | 2.0s"
       ]
      },
      {
       "output_type": "stream",
       "stream": "stdout",
       "text": [
        "\n",
        "     1 |   0.336874 |   0.314955 |    1.070  |  0.9103   | 2.2s"
       ]
      },
      {
       "output_type": "stream",
       "stream": "stdout",
       "text": [
        "\n",
        "     2 |   0.288071 |   0.283276 |    1.017  |  0.9191   | 2.6s"
       ]
      },
      {
       "output_type": "stream",
       "stream": "stdout",
       "text": [
        "\n",
        "     3 |   0.258380 |   0.261384 |    0.989  |  0.9248   | 2.7s"
       ]
      },
      {
       "output_type": "stream",
       "stream": "stdout",
       "text": [
        "\n",
        "     4 |   0.235809 |   0.244079 |    0.966  |  0.9300   | 2.3s"
       ]
      },
      {
       "output_type": "stream",
       "stream": "stdout",
       "text": [
        "\n",
        "     5 |   0.217192 |   0.229629 |    0.946  |  0.9353   | 2.5s"
       ]
      },
      {
       "output_type": "stream",
       "stream": "stdout",
       "text": [
        "\n",
        "     6 |   0.201301 |   0.217279 |    0.926  |  0.9396   | 3.0s"
       ]
      },
      {
       "output_type": "stream",
       "stream": "stdout",
       "text": [
        "\n",
        "     7 |   0.187507 |   0.206584 |    0.908  |  0.9415   | 2.3s"
       ]
      },
      {
       "output_type": "stream",
       "stream": "stdout",
       "text": [
        "\n",
        "     8 |   0.175390 |   0.197236 |    0.889  |  0.9452   | 2.2s"
       ]
      },
      {
       "output_type": "stream",
       "stream": "stdout",
       "text": [
        "\n",
        "     9 |   0.164639 |   0.189001 |    0.871  |  0.9477   | 2.5s"
       ]
      },
      {
       "output_type": "stream",
       "stream": "stdout",
       "text": [
        "\n",
        "    10 |   0.155016 |   0.181702 |    0.853  |  0.9496   | 2.1s"
       ]
      },
      {
       "output_type": "stream",
       "stream": "stdout",
       "text": [
        "\n",
        "    11 |   0.146343 |   0.175197 |    0.835  |  0.9511   | 2.1s"
       ]
      },
      {
       "output_type": "stream",
       "stream": "stdout",
       "text": [
        "\n",
        "    12 |   0.138478 |   0.169373 |    0.818  |  0.9523   | 2.1s"
       ]
      },
      {
       "output_type": "stream",
       "stream": "stdout",
       "text": [
        "\n",
        "    13 |   0.131310 |   0.164134 |    0.800  |  0.9529   | 2.1s"
       ]
      },
      {
       "output_type": "stream",
       "stream": "stdout",
       "text": [
        "\n",
        "    14 |   0.124746 |   0.159402 |    0.783  |  0.9538   | 2.1s"
       ]
      },
      {
       "output_type": "stream",
       "stream": "stdout",
       "text": [
        "\n",
        "    15 |   0.118710 |   0.155109 |    0.765  |  0.9544   | 1.9s"
       ]
      },
      {
       "output_type": "stream",
       "stream": "stdout",
       "text": [
        "\n",
        "    16 |   0.113137 |   0.151199 |    0.748  |  0.9556   | 2.2s"
       ]
      },
      {
       "output_type": "stream",
       "stream": "stdout",
       "text": [
        "\n",
        "    17 |   0.107975 |   0.147624 |    0.731  |  0.9565   | 2.1s"
       ]
      },
      {
       "output_type": "stream",
       "stream": "stdout",
       "text": [
        "\n",
        "    18 |   0.103177 |   0.144344 |    0.715  |  0.9573   | 2.4s"
       ]
      },
      {
       "output_type": "stream",
       "stream": "stdout",
       "text": [
        "\n",
        "    19 |   0.098705 |   0.141325 |    0.698  |  0.9584   | 2.4s"
       ]
      },
      {
       "output_type": "stream",
       "stream": "stdout",
       "text": [
        "\n",
        "    20 |   0.094527 |   0.138538 |    0.682  |  0.9598   | 2.1s"
       ]
      },
      {
       "output_type": "stream",
       "stream": "stdout",
       "text": [
        "\n",
        "    21 |   0.090614 |   0.135957 |    0.666  |  0.9604   | 2.2s"
       ]
      },
      {
       "output_type": "stream",
       "stream": "stdout",
       "text": [
        "\n",
        "    22 |   0.086942 |   0.133560 |    0.651  |  0.9613   | 2.3s"
       ]
      },
      {
       "output_type": "stream",
       "stream": "stdout",
       "text": [
        "\n",
        "    23 |   0.083489 |   0.131328 |    0.636  |  0.9625   | 2.1s"
       ]
      },
      {
       "output_type": "stream",
       "stream": "stdout",
       "text": [
        "\n",
        "    24 |   0.080237 |   0.129245 |    0.621  |  0.9625   | 2.1s"
       ]
      },
      {
       "output_type": "stream",
       "stream": "stdout",
       "text": [
        "\n",
        "Wall time: 1min 1s\n"
       ]
      },
      {
       "metadata": {},
       "output_type": "pyout",
       "prompt_number": 14,
       "text": [
        "MultipleInputNet(connection_pattern='\\npartial0->dense0\\npartial1->dense1\\ndense0->concat\\ndense1->concat\\nconcat->output\\n',\n",
        "         cost_function=<function crossentropy at 0x0000000017A2B748>,\n",
        "         eval_size=0.2,\n",
        "         iterator=<netz.iterators.MultipleInputsBatchIterator object at 0x0000000017BCEC50>,\n",
        "         lambda2=None,\n",
        "         layers=[partial0, partial1, dense0, dense1, concat, output],\n",
        "         updater=<netz.updaters.Nesterov object at 0x0000000017BCE320>,\n",
        "         verbose=1)"
       ]
      }
     ],
     "prompt_number": 14
    },
    {
     "cell_type": "code",
     "collapsed": false,
     "input": [
      "X_valid, y_valid = net4.get_valid_data([X, Xt], y)"
     ],
     "language": "python",
     "metadata": {},
     "outputs": [],
     "prompt_number": 15
    },
    {
     "cell_type": "code",
     "collapsed": false,
     "input": [
      "accuracy = net4.score(X_valid, y_valid, accuracy=True)"
     ],
     "language": "python",
     "metadata": {},
     "outputs": [],
     "prompt_number": 16
    },
    {
     "cell_type": "code",
     "collapsed": false,
     "input": [
      "print(\"Accuracy: {:.4f}\".format(accuracy))"
     ],
     "language": "python",
     "metadata": {},
     "outputs": [
      {
       "output_type": "stream",
       "stream": "stdout",
       "text": [
        "Accuracy: 0.9625\n"
       ]
      }
     ],
     "prompt_number": 17
    },
    {
     "cell_type": "code",
     "collapsed": false,
     "input": [],
     "language": "python",
     "metadata": {},
     "outputs": [],
     "prompt_number": 17
    }
   ],
   "metadata": {}
  }
 ]
}