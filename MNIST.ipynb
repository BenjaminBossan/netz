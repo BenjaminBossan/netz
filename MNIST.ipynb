{
 "metadata": {
  "name": "",
  "signature": "sha256:86df9c09a4873a76559e4ef2d4600f1323ac899611be425d72830827eb598e79"
 },
 "nbformat": 3,
 "nbformat_minor": 0,
 "worksheets": [
  {
   "cells": [
    {
     "cell_type": "heading",
     "level": 1,
     "metadata": {},
     "source": [
      "MNIST"
     ]
    },
    {
     "cell_type": "markdown",
     "metadata": {},
     "source": [
      "Showing off some nice features of _netz_ by example of the MNIST data set."
     ]
    },
    {
     "cell_type": "heading",
     "level": 2,
     "metadata": {},
     "source": [
      "Imports"
     ]
    },
    {
     "cell_type": "code",
     "collapsed": false,
     "input": [
      "# -*- coding: utf-8 -*-\n",
      "from __future__ import division\n",
      "from copy import deepcopy\n",
      "\n",
      "import numpy as np\n",
      "import pandas as pd\n",
      "import matplotlib.pyplot as plt\n",
      "import theano\n",
      "import theano.tensor as T"
     ],
     "language": "python",
     "metadata": {},
     "outputs": [],
     "prompt_number": 1
    },
    {
     "cell_type": "code",
     "collapsed": false,
     "input": [
      "from netz.layers import InputLayer, DenseLayer, OutputLayer\n",
      "from netz.neuralnet import NeuralNet\n",
      "from netz.costfunctions import mse, crossentropy\n",
      "from netz.nonlinearities import softmax\n",
      "from netz.updaters import Momentum, Nesterov, SGD\n",
      "from netz.visualize import plot_loss"
     ],
     "language": "python",
     "metadata": {},
     "outputs": [],
     "prompt_number": 2
    },
    {
     "cell_type": "code",
     "collapsed": false,
     "input": [
      "%pylab inline"
     ],
     "language": "python",
     "metadata": {},
     "outputs": [
      {
       "output_type": "stream",
       "stream": "stdout",
       "text": [
        "Populating the interactive namespace from numpy and matplotlib\n"
       ]
      }
     ],
     "prompt_number": 3
    },
    {
     "cell_type": "heading",
     "level": 2,
     "metadata": {},
     "source": [
      "Data"
     ]
    },
    {
     "cell_type": "markdown",
     "metadata": {},
     "source": [
      "Make sure you have the MNIST data set ready. You can get it here: http://www.kaggle.com/c/digit-recognizer/data."
     ]
    },
    {
     "cell_type": "heading",
     "level": 3,
     "metadata": {},
     "source": [
      "Load data"
     ]
    },
    {
     "cell_type": "code",
     "collapsed": false,
     "input": [
      "df = pd.read_csv('data/mnist.csv', nrows=4000)"
     ],
     "language": "python",
     "metadata": {},
     "outputs": [],
     "prompt_number": 4
    },
    {
     "cell_type": "code",
     "collapsed": false,
     "input": [
      "y = df.values[:, 0]\n",
      "X = df.values[:, 1:] / 255"
     ],
     "language": "python",
     "metadata": {},
     "outputs": [],
     "prompt_number": 5
    },
    {
     "cell_type": "code",
     "collapsed": false,
     "input": [
      "X = (X - X.mean()) / X.std()"
     ],
     "language": "python",
     "metadata": {},
     "outputs": [],
     "prompt_number": 6
    },
    {
     "cell_type": "heading",
     "level": 3,
     "metadata": {},
     "source": [
      "Plot data"
     ]
    },
    {
     "cell_type": "code",
     "collapsed": false,
     "input": [
      "figs, axes = plt.subplots(4, 4, figsize=(6, 6))\n",
      "for i in range(4):\n",
      "    for j in range(4):\n",
      "        axes[i, j].imshow(-X[i + 4 * j].reshape(28, 28), cmap='gray', interpolation='nearest')\n",
      "        axes[i, j].set_xticks([])\n",
      "        axes[i, j].set_yticks([])\n",
      "        axes[i, j].set_title(\"Label: {}\".format(y[i + 4 * j]))\n",
      "        axes[i, j].axis('off')"
     ],
     "language": "python",
     "metadata": {},
     "outputs": [
      {
       "metadata": {},
       "output_type": "display_data",
       "png": "[encoded data removed]",
       "text": [
        "<matplotlib.figure.Figure at 0x16c57d68>"
       ]
      }
     ],
     "prompt_number": 7
    },
    {
     "cell_type": "heading",
     "level": 2,
     "metadata": {},
     "source": [
      "Neural nets"
     ]
    },
    {
     "cell_type": "heading",
     "level": 3,
     "metadata": {},
     "source": [
      "1 hidden layer"
     ]
    },
    {
     "cell_type": "heading",
     "level": 4,
     "metadata": {},
     "source": [
      "Here we want to train a simple neural net with just one hidden layer that has 100 units. For updating, we use vanilla stochastic gradient descent (SGD)."
     ]
    },
    {
     "cell_type": "code",
     "collapsed": false,
     "input": [
      "update = SGD(theano.shared(0.02))"
     ],
     "language": "python",
     "metadata": {},
     "outputs": [],
     "prompt_number": 8
    },
    {
     "cell_type": "code",
     "collapsed": false,
     "input": [
      "layers1 = [InputLayer(),\n",
      "           DenseLayer(100),\n",
      "           OutputLayer()]"
     ],
     "language": "python",
     "metadata": {},
     "outputs": [],
     "prompt_number": 9
    },
    {
     "cell_type": "code",
     "collapsed": false,
     "input": [
      "net1 = NeuralNet(layers1, cost_function=crossentropy, update=update, verbose=1)"
     ],
     "language": "python",
     "metadata": {},
     "outputs": [],
     "prompt_number": 10
    },
    {
     "cell_type": "code",
     "collapsed": false,
     "input": [
      "%time net1.fit(X, y, max_iter=10)"
     ],
     "language": "python",
     "metadata": {},
     "outputs": [
      {
       "output_type": "stream",
       "stream": "stdout",
       "text": [
        "Epoch | Train loss | Valid loss | Train/Val | Valid acc | Dur\n",
        "------|------------|------------|-----------|-----------|------\n",
        "    0 |   2.135678 |   1.886693 |    1.132  |  0.5093   | 0.2s"
       ]
      },
      {
       "output_type": "stream",
       "stream": "stdout",
       "text": [
        "\n",
        "    1 |   1.709476 |   1.554071 |    1.100  |  0.6476   | 0.2s"
       ]
      },
      {
       "output_type": "stream",
       "stream": "stdout",
       "text": [
        "\n",
        "    2 |   1.436812 |   1.327397 |    1.082  |  0.7285   | 0.2s"
       ]
      },
      {
       "output_type": "stream",
       "stream": "stdout",
       "text": [
        "\n",
        "    3 |   1.245722 |   1.165813 |    1.069  |  0.7733   | 0.3s"
       ]
      },
      {
       "output_type": "stream",
       "stream": "stdout",
       "text": [
        "\n",
        "    4 |   1.106892 |   1.046284 |    1.058  |  0.7945   | 0.2s"
       ]
      },
      {
       "output_type": "stream",
       "stream": "stdout",
       "text": [
        "\n",
        "    5 |   1.002656 |   0.954820 |    1.050  |  0.8107   | 0.2s"
       ]
      },
      {
       "output_type": "stream",
       "stream": "stdout",
       "text": [
        "\n",
        "    6 |   0.921863 |   0.882633 |    1.044  |  0.8194   | 0.2s"
       ]
      },
      {
       "output_type": "stream",
       "stream": "stdout",
       "text": [
        "\n",
        "    7 |   0.857410 |   0.824114 |    1.040  |  0.8294   | 0.3s"
       ]
      },
      {
       "output_type": "stream",
       "stream": "stdout",
       "text": [
        "\n",
        "    8 |   0.804706 |   0.775593 |    1.038  |  0.8319   | 0.2s"
       ]
      },
      {
       "output_type": "stream",
       "stream": "stdout",
       "text": [
        "\n",
        "    9 |   0.760706 |   0.734600 |    1.036  |  0.8418   | 0.2s"
       ]
      },
      {
       "output_type": "stream",
       "stream": "stdout",
       "text": [
        "\n",
        "Wall time: 3.91 s\n"
       ]
      },
      {
       "metadata": {},
       "output_type": "pyout",
       "prompt_number": 11,
       "text": [
        "NeuralNet(cost_function=<function crossentropy at 0x000000001688D128>,\n",
        "     eval_size=0.2,\n",
        "     iterator=<nolearn.lasagne.BatchIterator object at 0x0000000016BD18D0>,\n",
        "     layers=[<netz.layers.InputLayer object at 0x0000000016C576A0>, <netz.layers.DenseLayer object at 0x0000000016C576D8>, <netz.layers.OutputLayer object at 0x0000000016C57710>],\n",
        "     update=<netz.updaters.SGD object at 0x0000000016BF9B00>, verbose=1)"
       ]
      }
     ],
     "prompt_number": 11
    },
    {
     "cell_type": "heading",
     "level": 4,
     "metadata": {},
     "source": [
      "We may continue training from here on (no cold start)."
     ]
    },
    {
     "cell_type": "code",
     "collapsed": false,
     "input": [
      "%time net1.fit(X, y, max_iter=5)"
     ],
     "language": "python",
     "metadata": {},
     "outputs": [
      {
       "output_type": "stream",
       "stream": "stdout",
       "text": [
        "Epoch | Train loss | Valid loss | Train/Val | Valid acc | Dur\n",
        "------|------------|------------|-----------|-----------|------\n",
        "    0 |   0.723330 |   0.699419 |    1.034  |  0.8543   | 0.2s"
       ]
      },
      {
       "output_type": "stream",
       "stream": "stdout",
       "text": [
        "\n",
        "    1 |   0.691115 |   0.668823 |    1.033  |  0.8618   | 0.2s"
       ]
      },
      {
       "output_type": "stream",
       "stream": "stdout",
       "text": [
        "\n",
        "    2 |   0.663001 |   0.641913 |    1.033  |  0.8655   | 0.3s"
       ]
      },
      {
       "output_type": "stream",
       "stream": "stdout",
       "text": [
        "\n",
        "    3 |   0.638204 |   0.618014 |    1.033  |  0.8717   | 0.3s"
       ]
      },
      {
       "output_type": "stream",
       "stream": "stdout",
       "text": [
        "\n",
        "    4 |   0.616131 |   0.596610 |    1.033  |  0.8742   | 0.2s"
       ]
      },
      {
       "output_type": "stream",
       "stream": "stdout",
       "text": [
        "\n",
        "Wall time: 1.42 s\n"
       ]
      },
      {
       "metadata": {},
       "output_type": "pyout",
       "prompt_number": 12,
       "text": [
        "NeuralNet(cost_function=<function crossentropy at 0x000000001688D128>,\n",
        "     eval_size=0.2,\n",
        "     iterator=<nolearn.lasagne.BatchIterator object at 0x0000000016BD18D0>,\n",
        "     layers=[<netz.layers.InputLayer object at 0x0000000016C576A0>, <netz.layers.DenseLayer object at 0x0000000016C576D8>, <netz.layers.OutputLayer object at 0x0000000016C57710>],\n",
        "     update=<netz.updaters.SGD object at 0x0000000016BF9B00>, verbose=1)"
       ]
      }
     ],
     "prompt_number": 12
    },
    {
     "cell_type": "code",
     "collapsed": false,
     "input": [
      "plot_loss(net1)"
     ],
     "language": "python",
     "metadata": {},
     "outputs": [
      {
       "metadata": {},
       "output_type": "display_data",
       "png": "[encoded data removed]",
       "text": [
        "<matplotlib.figure.Figure at 0x1b485ef0>"
       ]
      }
     ],
     "prompt_number": 13
    },
    {
     "cell_type": "code",
     "collapsed": false,
     "input": [
      "X_valid, y_valid = net1.get_valid_data(X, y)"
     ],
     "language": "python",
     "metadata": {},
     "outputs": [],
     "prompt_number": 14
    },
    {
     "cell_type": "code",
     "collapsed": false,
     "input": [
      "accuracy = net1.score(X_valid, y_valid, accuracy=True)"
     ],
     "language": "python",
     "metadata": {},
     "outputs": [],
     "prompt_number": 15
    },
    {
     "cell_type": "code",
     "collapsed": false,
     "input": [
      "print(\"Accuracy: {:.4f}\".format(accuracy))"
     ],
     "language": "python",
     "metadata": {},
     "outputs": [
      {
       "output_type": "stream",
       "stream": "stdout",
       "text": [
        "Accuracy: 0.8742\n"
       ]
      }
     ],
     "prompt_number": 16
    },
    {
     "cell_type": "heading",
     "level": 4,
     "metadata": {},
     "source": [
      "If data has changed, which could result in contamination of the validation set, a _warning_ is printed."
     ]
    },
    {
     "cell_type": "code",
     "collapsed": false,
     "input": [
      "__ = net1.get_valid_data(X[1:], y[1:])"
     ],
     "language": "python",
     "metadata": {},
     "outputs": [
      {
       "output_type": "stream",
       "stream": "stderr",
       "text": [
        "netz\\neuralnet.py:218: UserWarning: Input data has changed since last usage\n",
        "  warnings.warn(\"Input data has changed since last usage\")\n"
       ]
      }
     ],
     "prompt_number": 17
    },
    {
     "cell_type": "heading",
     "level": 3,
     "metadata": {},
     "source": [
      "1 hidden layer using different update function"
     ]
    },
    {
     "cell_type": "heading",
     "level": 4,
     "metadata": {},
     "source": [
      "Again, we just use 1 hidden layer but this time, we set a different update function for just this layer."
     ]
    },
    {
     "cell_type": "code",
     "collapsed": false,
     "input": [
      "update_dense = Momentum(learn_rate=theano.shared(0.005), momentum=theano.shared(0.95))"
     ],
     "language": "python",
     "metadata": {},
     "outputs": [],
     "prompt_number": 18
    },
    {
     "cell_type": "code",
     "collapsed": false,
     "input": [
      "update_rest = Nesterov()"
     ],
     "language": "python",
     "metadata": {},
     "outputs": [],
     "prompt_number": 19
    },
    {
     "cell_type": "code",
     "collapsed": false,
     "input": [
      "layers1b = [InputLayer(),\n",
      "           DenseLayer(100, update=update_dense),\n",
      "           OutputLayer()]"
     ],
     "language": "python",
     "metadata": {},
     "outputs": [],
     "prompt_number": 20
    },
    {
     "cell_type": "code",
     "collapsed": false,
     "input": [
      "net1b = NeuralNet(layers1b, cost_function=crossentropy, update=update_rest, verbose=1)"
     ],
     "language": "python",
     "metadata": {},
     "outputs": [],
     "prompt_number": 21
    },
    {
     "cell_type": "code",
     "collapsed": false,
     "input": [
      "%time net1b.fit(X, y, max_iter=25)"
     ],
     "language": "python",
     "metadata": {},
     "outputs": [
      {
       "output_type": "stream",
       "stream": "stdout",
       "text": [
        "Epoch | Train loss | Valid loss | Train/Val | Valid acc | Dur\n",
        "------|------------|------------|-----------|-----------|------\n",
        "    0 |   2.097636 |   1.448626 |    1.448  |  0.7161   | 0.2s"
       ]
      },
      {
       "output_type": "stream",
       "stream": "stdout",
       "text": [
        "\n",
        "    1 |   1.096934 |   0.863436 |    1.270  |  0.8169   | 0.3s"
       ]
      },
      {
       "output_type": "stream",
       "stream": "stdout",
       "text": [
        "\n",
        "    2 |   0.742367 |   0.653419 |    1.136  |  0.8493   | 0.3s"
       ]
      },
      {
       "output_type": "stream",
       "stream": "stdout",
       "text": [
        "\n",
        "    3 |   0.600087 |   0.549098 |    1.093  |  0.8742   | 0.3s"
       ]
      },
      {
       "output_type": "stream",
       "stream": "stdout",
       "text": [
        "\n",
        "    4 |   0.521739 |   0.484306 |    1.077  |  0.8804   | 0.2s"
       ]
      },
      {
       "output_type": "stream",
       "stream": "stdout",
       "text": [
        "\n",
        "    5 |   0.470061 |   0.439074 |    1.071  |  0.8854   | 0.2s"
       ]
      },
      {
       "output_type": "stream",
       "stream": "stdout",
       "text": [
        "\n",
        "    6 |   0.432525 |   0.405048 |    1.068  |  0.8917   | 0.2s"
       ]
      },
      {
       "output_type": "stream",
       "stream": "stdout",
       "text": [
        "\n",
        "    7 |   0.403527 |   0.378103 |    1.067  |  0.8979   | 0.3s"
       ]
      },
      {
       "output_type": "stream",
       "stream": "stdout",
       "text": [
        "\n",
        "    8 |   0.380123 |   0.355931 |    1.068  |  0.9004   | 0.2s"
       ]
      },
      {
       "output_type": "stream",
       "stream": "stdout",
       "text": [
        "\n",
        "    9 |   0.360601 |   0.337149 |    1.070  |  0.9054   | 0.2s"
       ]
      },
      {
       "output_type": "stream",
       "stream": "stdout",
       "text": [
        "\n",
        "   10 |   0.343896 |   0.320877 |    1.072  |  0.9103   | 0.2s"
       ]
      },
      {
       "output_type": "stream",
       "stream": "stdout",
       "text": [
        "\n",
        "   11 |   0.329309 |   0.306528 |    1.074  |  0.9153   | 0.2s"
       ]
      },
      {
       "output_type": "stream",
       "stream": "stdout",
       "text": [
        "\n",
        "   12 |   0.316360 |   0.293695 |    1.077  |  0.9166   | 0.2s"
       ]
      },
      {
       "output_type": "stream",
       "stream": "stdout",
       "text": [
        "\n",
        "   13 |   0.304712 |   0.282085 |    1.080  |  0.9240   | 0.2s"
       ]
      },
      {
       "output_type": "stream",
       "stream": "stdout",
       "text": [
        "\n",
        "   14 |   0.294118 |   0.271484 |    1.083  |  0.9265   | 0.2s"
       ]
      },
      {
       "output_type": "stream",
       "stream": "stdout",
       "text": [
        "\n",
        "   15 |   0.284395 |   0.261729 |    1.087  |  0.9290   | 0.2s"
       ]
      },
      {
       "output_type": "stream",
       "stream": "stdout",
       "text": [
        "\n",
        "   16 |   0.275404 |   0.252695 |    1.090  |  0.9315   | 0.3s"
       ]
      },
      {
       "output_type": "stream",
       "stream": "stdout",
       "text": [
        "\n",
        "   17 |   0.267036 |   0.244288 |    1.093  |  0.9365   | 0.3s"
       ]
      },
      {
       "output_type": "stream",
       "stream": "stdout",
       "text": [
        "\n",
        "   18 |   0.259210 |   0.236432 |    1.096  |  0.9390   | 0.2s"
       ]
      },
      {
       "output_type": "stream",
       "stream": "stdout",
       "text": [
        "\n",
        "   19 |   0.251856 |   0.229067 |    1.099  |  0.9390   | 0.2s"
       ]
      },
      {
       "output_type": "stream",
       "stream": "stdout",
       "text": [
        "\n",
        "   20 |   0.244922 |   0.222142 |    1.103  |  0.9415   | 0.3s"
       ]
      },
      {
       "output_type": "stream",
       "stream": "stdout",
       "text": [
        "\n",
        "   21 |   0.238362 |   0.215615 |    1.106  |  0.9427   | 0.2s"
       ]
      },
      {
       "output_type": "stream",
       "stream": "stdout",
       "text": [
        "\n",
        "   22 |   0.232139 |   0.209448 |    1.108  |  0.9427   | 0.2s"
       ]
      },
      {
       "output_type": "stream",
       "stream": "stdout",
       "text": [
        "\n",
        "   23 |   0.226219 |   0.203607 |    1.111  |  0.9440   | 0.2s"
       ]
      },
      {
       "output_type": "stream",
       "stream": "stdout",
       "text": [
        "\n",
        "   24 |   0.220576 |   0.198065 |    1.114  |  0.9477   | 0.4s"
       ]
      },
      {
       "output_type": "stream",
       "stream": "stdout",
       "text": [
        "\n",
        "Wall time: 7.62 s\n"
       ]
      },
      {
       "metadata": {},
       "output_type": "pyout",
       "prompt_number": 22,
       "text": [
        "NeuralNet(cost_function=<function crossentropy at 0x000000001688D128>,\n",
        "     eval_size=0.2,\n",
        "     iterator=<nolearn.lasagne.BatchIterator object at 0x0000000016BD18D0>,\n",
        "     layers=[<netz.layers.InputLayer object at 0x000000001B9E0710>, <netz.layers.DenseLayer object at 0x000000001B9E0780>, <netz.layers.OutputLayer object at 0x000000001B9E0978>],\n",
        "     update=<netz.updaters.Nesterov object at 0x000000001B9E01D0>,\n",
        "     verbose=1)"
       ]
      }
     ],
     "prompt_number": 22
    },
    {
     "cell_type": "code",
     "collapsed": false,
     "input": [
      "plot_loss(net1b)"
     ],
     "language": "python",
     "metadata": {},
     "outputs": [
      {
       "metadata": {},
       "output_type": "display_data",
       "png": "[encoded data removed]",
       "text": [
        "<matplotlib.figure.Figure at 0x185e9da0>"
       ]
      }
     ],
     "prompt_number": 23
    },
    {
     "cell_type": "heading",
     "level": 3,
     "metadata": {},
     "source": [
      "Regularization"
     ]
    },
    {
     "cell_type": "heading",
     "level": 4,
     "metadata": {},
     "source": [
      "Here we want to regularize the hidden layer by using L1 and L2 regularizaton. We don't regularize the other layers."
     ]
    },
    {
     "cell_type": "code",
     "collapsed": false,
     "input": [
      "update_dense = Momentum(learn_rate=theano.shared(0.005), momentum=theano.shared(0.95),\n",
      "                        lambda1=theano.shared(0.001), lambda2=theano.shared(0.001))"
     ],
     "language": "python",
     "metadata": {},
     "outputs": [],
     "prompt_number": 24
    },
    {
     "cell_type": "code",
     "collapsed": false,
     "input": [
      "update_rest = Nesterov()"
     ],
     "language": "python",
     "metadata": {},
     "outputs": [],
     "prompt_number": 25
    },
    {
     "cell_type": "code",
     "collapsed": false,
     "input": [
      "layers1c = [InputLayer(),\n",
      "           DenseLayer(100, update=update_dense),\n",
      "           OutputLayer()]"
     ],
     "language": "python",
     "metadata": {},
     "outputs": [],
     "prompt_number": 26
    },
    {
     "cell_type": "code",
     "collapsed": false,
     "input": [
      "net1c = NeuralNet(layers1c, cost_function=crossentropy, update=update_rest, verbose=1)"
     ],
     "language": "python",
     "metadata": {},
     "outputs": [],
     "prompt_number": 27
    },
    {
     "cell_type": "code",
     "collapsed": false,
     "input": [
      "%time net1c.fit(X, y, max_iter=25)"
     ],
     "language": "python",
     "metadata": {},
     "outputs": [
      {
       "output_type": "stream",
       "stream": "stdout",
       "text": [
        "Epoch | Train loss | Valid loss | Train/Val | Valid acc | Dur\n",
        "------|------------|------------|-----------|-----------|------\n",
        "    0 |   2.093244 |   1.463011 |    1.431  |  0.7123   | 0.2s"
       ]
      },
      {
       "output_type": "stream",
       "stream": "stdout",
       "text": [
        "\n",
        "    1 |   1.101706 |   0.919072 |    1.199  |  0.8207   | 0.3s"
       ]
      },
      {
       "output_type": "stream",
       "stream": "stdout",
       "text": [
        "\n",
        "    2 |   0.851475 |   0.821209 |    1.037  |  0.8518   | 0.2s"
       ]
      },
      {
       "output_type": "stream",
       "stream": "stdout",
       "text": [
        "\n",
        "    3 |   0.814909 |   0.800345 |    1.018  |  0.8580   | 0.2s"
       ]
      },
      {
       "output_type": "stream",
       "stream": "stdout",
       "text": [
        "\n",
        "    4 |   0.782087 |   0.754103 |    1.037  |  0.8655   | 0.2s"
       ]
      },
      {
       "output_type": "stream",
       "stream": "stdout",
       "text": [
        "\n",
        "    5 |   0.736032 |   0.712352 |    1.033  |  0.8692   | 0.2s"
       ]
      },
      {
       "output_type": "stream",
       "stream": "stdout",
       "text": [
        "\n",
        "    6 |   0.702863 |   0.684494 |    1.027  |  0.8730   | 0.2s"
       ]
      },
      {
       "output_type": "stream",
       "stream": "stdout",
       "text": [
        "\n",
        "    7 |   0.678476 |   0.661187 |    1.026  |  0.8742   | 0.2s"
       ]
      },
      {
       "output_type": "stream",
       "stream": "stdout",
       "text": [
        "\n",
        "    8 |   0.656936 |   0.640033 |    1.026  |  0.8755   | 0.2s"
       ]
      },
      {
       "output_type": "stream",
       "stream": "stdout",
       "text": [
        "\n",
        "    9 |   0.638011 |   0.621768 |    1.026  |  0.8780   | 0.2s"
       ]
      },
      {
       "output_type": "stream",
       "stream": "stdout",
       "text": [
        "\n",
        "   10 |   0.621724 |   0.605856 |    1.026  |  0.8804   | 0.2s"
       ]
      },
      {
       "output_type": "stream",
       "stream": "stdout",
       "text": [
        "\n",
        "   11 |   0.607398 |   0.591646 |    1.027  |  0.8817   | 0.2s"
       ]
      },
      {
       "output_type": "stream",
       "stream": "stdout",
       "text": [
        "\n",
        "   12 |   0.594580 |   0.578887 |    1.027  |  0.8842   | 0.3s"
       ]
      },
      {
       "output_type": "stream",
       "stream": "stdout",
       "text": [
        "\n",
        "   13 |   0.583036 |   0.567396 |    1.028  |  0.8842   | 0.2s"
       ]
      },
      {
       "output_type": "stream",
       "stream": "stdout",
       "text": [
        "\n",
        "   14 |   0.572563 |   0.556989 |    1.028  |  0.8867   | 0.2s"
       ]
      },
      {
       "output_type": "stream",
       "stream": "stdout",
       "text": [
        "\n",
        "   15 |   0.562990 |   0.547519 |    1.028  |  0.8904   | 0.2s"
       ]
      },
      {
       "output_type": "stream",
       "stream": "stdout",
       "text": [
        "\n",
        "   16 |   0.554187 |   0.538867 |    1.028  |  0.8904   | 0.2s"
       ]
      },
      {
       "output_type": "stream",
       "stream": "stdout",
       "text": [
        "\n",
        "   17 |   0.546053 |   0.530930 |    1.028  |  0.8929   | 0.2s"
       ]
      },
      {
       "output_type": "stream",
       "stream": "stdout",
       "text": [
        "\n",
        "   18 |   0.538505 |   0.523617 |    1.028  |  0.8929   | 0.3s"
       ]
      },
      {
       "output_type": "stream",
       "stream": "stdout",
       "text": [
        "\n",
        "   19 |   0.531475 |   0.516850 |    1.028  |  0.8941   | 0.2s"
       ]
      },
      {
       "output_type": "stream",
       "stream": "stdout",
       "text": [
        "\n",
        "   20 |   0.524906 |   0.510565 |    1.028  |  0.8954   | 0.2s"
       ]
      },
      {
       "output_type": "stream",
       "stream": "stdout",
       "text": [
        "\n",
        "   21 |   0.518752 |   0.504703 |    1.028  |  0.8979   | 0.2s"
       ]
      },
      {
       "output_type": "stream",
       "stream": "stdout",
       "text": [
        "\n",
        "   22 |   0.512971 |   0.499217 |    1.028  |  0.8979   | 0.3s"
       ]
      },
      {
       "output_type": "stream",
       "stream": "stdout",
       "text": [
        "\n",
        "   23 |   0.507529 |   0.494066 |    1.027  |  0.8991   | 0.2s"
       ]
      },
      {
       "output_type": "stream",
       "stream": "stdout",
       "text": [
        "\n",
        "   24 |   0.502396 |   0.489213 |    1.027  |  0.8991   | 0.2s"
       ]
      },
      {
       "output_type": "stream",
       "stream": "stdout",
       "text": [
        "\n",
        "Wall time: 7.38 s\n"
       ]
      },
      {
       "metadata": {},
       "output_type": "pyout",
       "prompt_number": 28,
       "text": [
        "NeuralNet(cost_function=<function crossentropy at 0x000000001688D128>,\n",
        "     eval_size=0.2,\n",
        "     iterator=<nolearn.lasagne.BatchIterator object at 0x0000000016BD18D0>,\n",
        "     layers=[<netz.layers.InputLayer object at 0x000000001B648160>, <netz.layers.DenseLayer object at 0x000000001B6484A8>, <netz.layers.OutputLayer object at 0x000000001B648128>],\n",
        "     update=<netz.updaters.Nesterov object at 0x000000001B648358>,\n",
        "     verbose=1)"
       ]
      }
     ],
     "prompt_number": 28
    },
    {
     "cell_type": "heading",
     "level": 4,
     "metadata": {},
     "source": [
      "The regularized layer's weights are much smaller, as expected from regularization."
     ]
    },
    {
     "cell_type": "code",
     "collapsed": false,
     "input": [
      "mean_wo_reg = np.abs(net1b.layers[1].W.get_value()).mean()\n",
      "mean_with_reg = np.abs(net1c.layers[1].W.get_value()).mean()\n",
      "print(\"Consequences of turning on regularization:\")\n",
      "print(\"Mean absolute weights before: {:.5f}.\".format(mean_wo_reg))\n",
      "print(\"Mean absolute weights after:  {:.5f}.\".format(mean_with_reg))"
     ],
     "language": "python",
     "metadata": {},
     "outputs": [
      {
       "output_type": "stream",
       "stream": "stdout",
       "text": [
        "Consequences of turning on regularization:\n",
        "Mean absolute weights before: 0.04351.\n",
        "Mean absolute weights after:  0.00314.\n"
       ]
      }
     ],
     "prompt_number": 29
    },
    {
     "cell_type": "code",
     "collapsed": false,
     "input": [
      "mean_wo_reg = np.abs(net1b.layers[2].W.get_value()).mean()\n",
      "mean_with_reg = np.abs(net1c.layers[2].W.get_value()).mean()\n",
      "print(\"Output layer is unregularized:\")\n",
      "print(\"Mean absolute weights before: {:.5f}.\".format(mean_wo_reg))\n",
      "print(\"Mean absolute weights after:  {:.5f}.\".format(mean_with_reg))"
     ],
     "language": "python",
     "metadata": {},
     "outputs": [
      {
       "output_type": "stream",
       "stream": "stdout",
       "text": [
        "Output layer is unregularized:\n",
        "Mean absolute weights before: 0.21614.\n",
        "Mean absolute weights after:  0.28165.\n"
       ]
      }
     ],
     "prompt_number": 30
    },
    {
     "cell_type": "code",
     "collapsed": false,
     "input": [
      "mean_wo_reg = np.abs(net1b.layers[1].b.get_value()).mean()\n",
      "mean_with_reg = np.abs(net1c.layers[1].b.get_value()).mean()\n",
      "print(\"As is the bias of the regularized layer:\")\n",
      "print(\"Mean absolute bias before: {:.5f}.\".format(mean_wo_reg))\n",
      "print(\"Mean absolute bias after:  {:.5f}.\".format(mean_with_reg))"
     ],
     "language": "python",
     "metadata": {},
     "outputs": [
      {
       "output_type": "stream",
       "stream": "stdout",
       "text": [
        "As is the bias of the regularized layer:\n",
        "Mean absolute bias before: 0.11359.\n",
        "Mean absolute bias after:  0.11918.\n"
       ]
      }
     ],
     "prompt_number": 31
    },
    {
     "cell_type": "heading",
     "level": 2,
     "metadata": {},
     "source": [
      "2 hidden layers"
     ]
    },
    {
     "cell_type": "markdown",
     "metadata": {},
     "source": [
      "An example with 2 hidden layers."
     ]
    },
    {
     "cell_type": "code",
     "collapsed": false,
     "input": [
      "layers2 = [InputLayer(),\n",
      "           DenseLayer(200),\n",
      "           DenseLayer(200),\n",
      "           OutputLayer()]"
     ],
     "language": "python",
     "metadata": {},
     "outputs": [],
     "prompt_number": 32
    },
    {
     "cell_type": "code",
     "collapsed": false,
     "input": [
      "net2 = NeuralNet(layers2, cost_function=crossentropy, update=Nesterov(), verbose=1)"
     ],
     "language": "python",
     "metadata": {},
     "outputs": [],
     "prompt_number": 33
    },
    {
     "cell_type": "code",
     "collapsed": false,
     "input": [
      "%time net2.fit(X, y, max_iter=25)"
     ],
     "language": "python",
     "metadata": {},
     "outputs": [
      {
       "output_type": "stream",
       "stream": "stdout",
       "text": [
        "Epoch | Train loss | Valid loss | Train/Val | Valid acc | Dur\n",
        "------|------------|------------|-----------|-----------|------\n",
        "    0 |   2.305582 |   2.172950 |    1.061  |  0.3499   | 0.5s"
       ]
      },
      {
       "output_type": "stream",
       "stream": "stdout",
       "text": [
        "\n",
        "    1 |   2.043439 |   1.915454 |    1.067  |  0.5579   | 0.5s"
       ]
      },
      {
       "output_type": "stream",
       "stream": "stdout",
       "text": [
        "\n",
        "    2 |   1.765589 |   1.609996 |    1.097  |  0.6687   | 0.5s"
       ]
      },
      {
       "output_type": "stream",
       "stream": "stdout",
       "text": [
        "\n",
        "    3 |   1.454850 |   1.303906 |    1.116  |  0.7235   | 0.6s"
       ]
      },
      {
       "output_type": "stream",
       "stream": "stdout",
       "text": [
        "\n",
        "    4 |   1.178740 |   1.059304 |    1.113  |  0.7733   | 0.5s"
       ]
      },
      {
       "output_type": "stream",
       "stream": "stdout",
       "text": [
        "\n",
        "    5 |   0.973517 |   0.885891 |    1.099  |  0.8032   | 0.5s"
       ]
      },
      {
       "output_type": "stream",
       "stream": "stdout",
       "text": [
        "\n",
        "    6 |   0.830492 |   0.764132 |    1.087  |  0.8356   | 0.5s"
       ]
      },
      {
       "output_type": "stream",
       "stream": "stdout",
       "text": [
        "\n",
        "    7 |   0.728842 |   0.675070 |    1.080  |  0.8506   | 0.5s"
       ]
      },
      {
       "output_type": "stream",
       "stream": "stdout",
       "text": [
        "\n",
        "    8 |   0.653194 |   0.606974 |    1.076  |  0.8643   | 0.5s"
       ]
      },
      {
       "output_type": "stream",
       "stream": "stdout",
       "text": [
        "\n",
        "    9 |   0.594573 |   0.553226 |    1.075  |  0.8717   | 0.5s"
       ]
      },
      {
       "output_type": "stream",
       "stream": "stdout",
       "text": [
        "\n",
        "   10 |   0.547805 |   0.509895 |    1.074  |  0.8842   | 0.5s"
       ]
      },
      {
       "output_type": "stream",
       "stream": "stdout",
       "text": [
        "\n",
        "   11 |   0.509693 |   0.474389 |    1.074  |  0.8879   | 0.5s"
       ]
      },
      {
       "output_type": "stream",
       "stream": "stdout",
       "text": [
        "\n",
        "   12 |   0.478107 |   0.444859 |    1.075  |  0.8941   | 0.5s"
       ]
      },
      {
       "output_type": "stream",
       "stream": "stdout",
       "text": [
        "\n",
        "   13 |   0.451546 |   0.419941 |    1.075  |  0.8941   | 0.5s"
       ]
      },
      {
       "output_type": "stream",
       "stream": "stdout",
       "text": [
        "\n",
        "   14 |   0.428916 |   0.398613 |    1.076  |  0.8941   | 0.5s"
       ]
      },
      {
       "output_type": "stream",
       "stream": "stdout",
       "text": [
        "\n",
        "   15 |   0.409396 |   0.380106 |    1.077  |  0.8941   | 0.6s"
       ]
      },
      {
       "output_type": "stream",
       "stream": "stdout",
       "text": [
        "\n",
        "   16 |   0.392364 |   0.363837 |    1.078  |  0.8991   | 0.5s"
       ]
      },
      {
       "output_type": "stream",
       "stream": "stdout",
       "text": [
        "\n",
        "   17 |   0.377336 |   0.349365 |    1.080  |  0.9078   | 0.5s"
       ]
      },
      {
       "output_type": "stream",
       "stream": "stdout",
       "text": [
        "\n",
        "   18 |   0.363940 |   0.336355 |    1.082  |  0.9091   | 0.5s"
       ]
      },
      {
       "output_type": "stream",
       "stream": "stdout",
       "text": [
        "\n",
        "   19 |   0.351881 |   0.324549 |    1.084  |  0.9091   | 0.5s"
       ]
      },
      {
       "output_type": "stream",
       "stream": "stdout",
       "text": [
        "\n",
        "   20 |   0.340928 |   0.313747 |    1.087  |  0.9103   | 0.5s"
       ]
      },
      {
       "output_type": "stream",
       "stream": "stdout",
       "text": [
        "\n",
        "   21 |   0.330899 |   0.303792 |    1.089  |  0.9153   | 0.5s"
       ]
      },
      {
       "output_type": "stream",
       "stream": "stdout",
       "text": [
        "\n",
        "   22 |   0.321647 |   0.294564 |    1.092  |  0.9178   | 0.5s"
       ]
      },
      {
       "output_type": "stream",
       "stream": "stdout",
       "text": [
        "\n",
        "   23 |   0.313056 |   0.285962 |    1.095  |  0.9228   | 0.5s"
       ]
      },
      {
       "output_type": "stream",
       "stream": "stdout",
       "text": [
        "\n",
        "   24 |   0.305031 |   0.277909 |    1.098  |  0.9240   | 0.5s"
       ]
      },
      {
       "output_type": "stream",
       "stream": "stdout",
       "text": [
        "\n",
        "Wall time: 14.8 s\n"
       ]
      },
      {
       "metadata": {},
       "output_type": "pyout",
       "prompt_number": 34,
       "text": [
        "NeuralNet(cost_function=<function crossentropy at 0x000000001688D128>,\n",
        "     eval_size=0.2,\n",
        "     iterator=<nolearn.lasagne.BatchIterator object at 0x0000000016BD18D0>,\n",
        "     layers=[<netz.layers.InputLayer object at 0x0000000018715A20>, <netz.layers.DenseLayer object at 0x0000000018715A58>, <netz.layers.DenseLayer object at 0x0000000018715748>, <netz.layers.OutputLayer object at 0x0000000018715940>],\n",
        "     update=<netz.updaters.Nesterov object at 0x000000001A057D30>,\n",
        "     verbose=1)"
       ]
      }
     ],
     "prompt_number": 34
    },
    {
     "cell_type": "code",
     "collapsed": false,
     "input": [
      "plot_loss(net2)"
     ],
     "language": "python",
     "metadata": {},
     "outputs": [
      {
       "metadata": {},
       "output_type": "display_data",
       "png": "[encoded data removed]",
       "text": [
        "<matplotlib.figure.Figure at 0x191078d0>"
       ]
      }
     ],
     "prompt_number": 35
    },
    {
     "cell_type": "code",
     "collapsed": false,
     "input": [
      "accuracy = net2.score(X_valid, y_valid, accuracy=True)"
     ],
     "language": "python",
     "metadata": {},
     "outputs": [],
     "prompt_number": 36
    },
    {
     "cell_type": "code",
     "collapsed": false,
     "input": [
      "print(\"Accuracy: {:.4f}\".format(accuracy))"
     ],
     "language": "python",
     "metadata": {},
     "outputs": [
      {
       "output_type": "stream",
       "stream": "stdout",
       "text": [
        "Accuracy: 0.9240\n"
       ]
      }
     ],
     "prompt_number": 37
    },
    {
     "cell_type": "code",
     "collapsed": false,
     "input": [],
     "language": "python",
     "metadata": {},
     "outputs": [],
     "prompt_number": 37
    }
   ],
   "metadata": {}
  }
 ]
}