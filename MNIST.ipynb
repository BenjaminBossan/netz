{
 "metadata": {
  "name": "",
  "signature": "sha256:b3ce35450042b14ca5953232592a4f0ca6e0f671c4befbc3c8aa1c3bb09b53a6"
 },
 "nbformat": 3,
 "nbformat_minor": 0,
 "worksheets": [
  {
   "cells": [
    {
     "cell_type": "heading",
     "level": 1,
     "metadata": {},
     "source": [
      "MNIST"
     ]
    },
    {
     "cell_type": "markdown",
     "metadata": {},
     "source": [
      "Showing off some nice features of _netz_ by example of the MNIST data set."
     ]
    },
    {
     "cell_type": "heading",
     "level": 2,
     "metadata": {},
     "source": [
      "Imports"
     ]
    },
    {
     "cell_type": "code",
     "collapsed": false,
     "input": [
      "# -*- coding: utf-8 -*-\n",
      "from __future__ import division\n",
      "from copy import deepcopy\n",
      "\n",
      "import numpy as np\n",
      "import pandas as pd\n",
      "import matplotlib.pyplot as plt\n",
      "import theano\n",
      "import theano.tensor as T"
     ],
     "language": "python",
     "metadata": {},
     "outputs": [],
     "prompt_number": 1
    },
    {
     "cell_type": "code",
     "collapsed": false,
     "input": [
      "from netz.layers import InputLayer, DenseLayer, OutputLayer\n",
      "from netz.neuralnet import NeuralNet\n",
      "from netz.costfunctions import mse, crossentropy\n",
      "from netz.nonlinearities import softmax\n",
      "from netz.updaters import Momentum, Nesterov, SGD\n",
      "from netz.visualize import plot_loss"
     ],
     "language": "python",
     "metadata": {},
     "outputs": [],
     "prompt_number": 2
    },
    {
     "cell_type": "code",
     "collapsed": false,
     "input": [
      "%pylab inline"
     ],
     "language": "python",
     "metadata": {},
     "outputs": [
      {
       "output_type": "stream",
       "stream": "stdout",
       "text": [
        "Populating the interactive namespace from numpy and matplotlib\n"
       ]
      }
     ],
     "prompt_number": 3
    },
    {
     "cell_type": "heading",
     "level": 2,
     "metadata": {},
     "source": [
      "Data"
     ]
    },
    {
     "cell_type": "markdown",
     "metadata": {},
     "source": [
      "Make sure you have the MNIST data set ready. You can get it here: http://www.kaggle.com/c/digit-recognizer/data."
     ]
    },
    {
     "cell_type": "heading",
     "level": 3,
     "metadata": {},
     "source": [
      "Load data"
     ]
    },
    {
     "cell_type": "code",
     "collapsed": false,
     "input": [
      "df = pd.read_csv('../data/mnist.csv', nrows=4000)"
     ],
     "language": "python",
     "metadata": {},
     "outputs": [],
     "prompt_number": 4
    },
    {
     "cell_type": "code",
     "collapsed": false,
     "input": [
      "y = df.values[:, 0]\n",
      "X = df.values[:, 1:] / 255"
     ],
     "language": "python",
     "metadata": {},
     "outputs": [],
     "prompt_number": 5
    },
    {
     "cell_type": "code",
     "collapsed": false,
     "input": [
      "X = (X - X.mean()) / X.std()"
     ],
     "language": "python",
     "metadata": {},
     "outputs": [],
     "prompt_number": 6
    },
    {
     "cell_type": "heading",
     "level": 3,
     "metadata": {},
     "source": [
      "Plot data"
     ]
    },
    {
     "cell_type": "code",
     "collapsed": false,
     "input": [
      "figs, axes = plt.subplots(4, 4, figsize=(6, 6))\n",
      "for i in range(4):\n",
      "    for j in range(4):\n",
      "        axes[i, j].imshow(-X[i + 4 * j].reshape(28, 28), cmap='gray', interpolation='nearest')\n",
      "        axes[i, j].set_xticks([])\n",
      "        axes[i, j].set_yticks([])\n",
      "        axes[i, j].set_title(\"Label: {}\".format(y[i + 4 * j]))\n",
      "        axes[i, j].axis('off')"
     ],
     "language": "python",
     "metadata": {},
     "outputs": [
      {
       "metadata": {},
       "output_type": "display_data",
       "png": "[encoded data removed]",
       "text": [
        "<matplotlib.figure.Figure at 0x1aed9588>"
       ]
      }
     ],
     "prompt_number": 7
    },
    {
     "cell_type": "heading",
     "level": 2,
     "metadata": {},
     "source": [
      "Neural nets"
     ]
    },
    {
     "cell_type": "heading",
     "level": 3,
     "metadata": {},
     "source": [
      "1 hidden layer"
     ]
    },
    {
     "cell_type": "heading",
     "level": 4,
     "metadata": {},
     "source": [
      "Here we want to train a simple neural net with just one hidden layer that has 100 units. For updating, we use vanilla stochastic gradient descent (SGD)."
     ]
    },
    {
     "cell_type": "code",
     "collapsed": false,
     "input": [
      "update = SGD(theano.shared(0.02))"
     ],
     "language": "python",
     "metadata": {},
     "outputs": [],
     "prompt_number": 8
    },
    {
     "cell_type": "code",
     "collapsed": false,
     "input": [
      "layers1 = [InputLayer(),\n",
      "           DenseLayer(100),\n",
      "           OutputLayer()]"
     ],
     "language": "python",
     "metadata": {},
     "outputs": [],
     "prompt_number": 9
    },
    {
     "cell_type": "code",
     "collapsed": false,
     "input": [
      "net1 = NeuralNet(layers1, cost_function=crossentropy, update=update, verbose=1)"
     ],
     "language": "python",
     "metadata": {},
     "outputs": [],
     "prompt_number": 10
    },
    {
     "cell_type": "code",
     "collapsed": false,
     "input": [
      "%time net1.fit(X, y, max_iter=10)"
     ],
     "language": "python",
     "metadata": {},
     "outputs": [
      {
       "output_type": "stream",
       "stream": "stdout",
       "text": [
        " ~=* Neural Network with 79510 learnable parameters *=~ \n",
        "  input0            \t(None, 784)         \tproduces     784 outputs\n",
        "  dense0            \t(None, 100)         \tproduces     100 outputs\n",
        "  output0           \t(None, 10)          \tproduces      10 outputs\n",
        " Epoch | Train loss | Valid loss | Train/Val | Valid acc | Dur\n",
        "-------|------------|------------|-----------|-----------|------"
       ]
      },
      {
       "output_type": "stream",
       "stream": "stdout",
       "text": [
        "\n",
        "     0 |   2.277331 |   2.012699 |    1.131  |  0.4222   | 0.3s"
       ]
      },
      {
       "output_type": "stream",
       "stream": "stdout",
       "text": [
        "\n",
        "     1 |   1.876058 |   1.720909 |    1.090  |  0.6102   | 0.4s"
       ]
      },
      {
       "output_type": "stream",
       "stream": "stdout",
       "text": [
        "\n",
        "     2 |   1.620715 |   1.506784 |    1.076  |  0.6974   | 0.3s"
       ]
      },
      {
       "output_type": "stream",
       "stream": "stdout",
       "text": [
        "\n",
        "     3 |   1.429508 |   1.344885 |    1.063  |  0.7447   | 0.3s"
       ]
      },
      {
       "output_type": "stream",
       "stream": "stdout",
       "text": [
        "\n",
        "     4 |   1.283350 |   1.219390 |    1.052  |  0.7808   | 0.2s"
       ]
      },
      {
       "output_type": "stream",
       "stream": "stdout",
       "text": [
        "\n",
        "     5 |   1.168666 |   1.119506 |    1.044  |  0.8057   | 0.3s"
       ]
      },
      {
       "output_type": "stream",
       "stream": "stdout",
       "text": [
        "\n",
        "     6 |   1.076365 |   1.038142 |    1.037  |  0.8132   | 0.4s"
       ]
      },
      {
       "output_type": "stream",
       "stream": "stdout",
       "text": [
        "\n",
        "     7 |   1.000473 |   0.970605 |    1.031  |  0.8194   | 0.4s"
       ]
      },
      {
       "output_type": "stream",
       "stream": "stdout",
       "text": [
        "\n",
        "     8 |   0.936976 |   0.913679 |    1.025  |  0.8294   | 0.4s"
       ]
      },
      {
       "output_type": "stream",
       "stream": "stdout",
       "text": [
        "\n",
        "     9 |   0.883078 |   0.865075 |    1.021  |  0.8344   | 0.4s"
       ]
      },
      {
       "output_type": "stream",
       "stream": "stdout",
       "text": [
        "\n",
        "Wall time: 6.14 s\n"
       ]
      },
      {
       "metadata": {},
       "output_type": "pyout",
       "prompt_number": 11,
       "text": [
        "NeuralNet(cost_function=<function crossentropy at 0x0000000016884978>,\n",
        "     eval_size=0.2,\n",
        "     iterator=<nolearn.lasagne.BatchIterator object at 0x0000000016BB5F60>,\n",
        "     layers=[<netz.layers.InputLayer object at 0x000000001B61EAC8>, <netz.layers.DenseLayer object at 0x000000001B61EB00>, <netz.layers.OutputLayer object at 0x0000000016BD7EB8>],\n",
        "     update=<netz.updaters.SGD object at 0x0000000016C14278>, verbose=1)"
       ]
      }
     ],
     "prompt_number": 11
    },
    {
     "cell_type": "heading",
     "level": 4,
     "metadata": {},
     "source": [
      "We may continue training from here on (no cold start)."
     ]
    },
    {
     "cell_type": "code",
     "collapsed": false,
     "input": [
      "%time net1.fit(X, y, max_iter=5)"
     ],
     "language": "python",
     "metadata": {},
     "outputs": [
      {
       "output_type": "stream",
       "stream": "stdout",
       "text": [
        " Epoch | Train loss | Valid loss | Train/Val | Valid acc | Dur\n",
        "-------|------------|------------|-----------|-----------|------\n",
        "     0 |   0.836763 |   0.823116 |    1.017  |  0.8394   | 0.5s"
       ]
      },
      {
       "output_type": "stream",
       "stream": "stdout",
       "text": [
        "\n",
        "     1 |   0.796537 |   0.786539 |    1.013  |  0.8456   | 0.2s"
       ]
      },
      {
       "output_type": "stream",
       "stream": "stdout",
       "text": [
        "\n",
        "     2 |   0.761268 |   0.754377 |    1.009  |  0.8493   | 0.5s"
       ]
      },
      {
       "output_type": "stream",
       "stream": "stdout",
       "text": [
        "\n",
        "     3 |   0.730083 |   0.725879 |    1.006  |  0.8506   | 0.3s"
       ]
      },
      {
       "output_type": "stream",
       "stream": "stdout",
       "text": [
        "\n",
        "     4 |   0.702302 |   0.700454 |    1.003  |  0.8555   | 0.3s"
       ]
      },
      {
       "output_type": "stream",
       "stream": "stdout",
       "text": [
        "\n",
        "Wall time: 2.09 s\n"
       ]
      },
      {
       "metadata": {},
       "output_type": "pyout",
       "prompt_number": 12,
       "text": [
        "NeuralNet(cost_function=<function crossentropy at 0x0000000016884978>,\n",
        "     eval_size=0.2,\n",
        "     iterator=<nolearn.lasagne.BatchIterator object at 0x0000000016BB5F60>,\n",
        "     layers=[<netz.layers.InputLayer object at 0x000000001B61EAC8>, <netz.layers.DenseLayer object at 0x000000001B61EB00>, <netz.layers.OutputLayer object at 0x0000000016BD7EB8>],\n",
        "     update=<netz.updaters.SGD object at 0x0000000016C14278>, verbose=1)"
       ]
      }
     ],
     "prompt_number": 12
    },
    {
     "cell_type": "code",
     "collapsed": false,
     "input": [
      "plot_loss(net1)"
     ],
     "language": "python",
     "metadata": {},
     "outputs": [
      {
       "metadata": {},
       "output_type": "display_data",
       "png": "[encoded data removed]",
       "text": [
        "<matplotlib.figure.Figure at 0x1ba152b0>"
       ]
      }
     ],
     "prompt_number": 13
    },
    {
     "cell_type": "code",
     "collapsed": false,
     "input": [
      "X_valid, y_valid = net1.get_valid_data(X, y)"
     ],
     "language": "python",
     "metadata": {},
     "outputs": [],
     "prompt_number": 14
    },
    {
     "cell_type": "code",
     "collapsed": false,
     "input": [
      "accuracy = net1.score(X_valid, y_valid, accuracy=True)"
     ],
     "language": "python",
     "metadata": {},
     "outputs": [],
     "prompt_number": 15
    },
    {
     "cell_type": "code",
     "collapsed": false,
     "input": [
      "print(\"Accuracy: {:.4f}\".format(accuracy))"
     ],
     "language": "python",
     "metadata": {},
     "outputs": [
      {
       "output_type": "stream",
       "stream": "stdout",
       "text": [
        "Accuracy: 0.8555\n"
       ]
      }
     ],
     "prompt_number": 16
    },
    {
     "cell_type": "heading",
     "level": 4,
     "metadata": {},
     "source": [
      "If data has changed, which could result in contamination of the validation set, a _warning_ is printed."
     ]
    },
    {
     "cell_type": "code",
     "collapsed": false,
     "input": [
      "__ = net1.get_valid_data(X[1:], y[1:])"
     ],
     "language": "python",
     "metadata": {},
     "outputs": [
      {
       "output_type": "stream",
       "stream": "stderr",
       "text": [
        "netz\\neuralnet.py:258: UserWarning: Input data has changed since last usage\n",
        "  warnings.warn(\"Input data has changed since last usage\")\n"
       ]
      }
     ],
     "prompt_number": 17
    },
    {
     "cell_type": "heading",
     "level": 3,
     "metadata": {},
     "source": [
      "1 hidden layer using different update function"
     ]
    },
    {
     "cell_type": "heading",
     "level": 4,
     "metadata": {},
     "source": [
      "Again, we just use 1 hidden layer but this time, we set a different update function for just this layer."
     ]
    },
    {
     "cell_type": "code",
     "collapsed": false,
     "input": [
      "update_dense = Momentum(learn_rate=theano.shared(0.005), momentum=theano.shared(0.95))"
     ],
     "language": "python",
     "metadata": {},
     "outputs": [],
     "prompt_number": 18
    },
    {
     "cell_type": "code",
     "collapsed": false,
     "input": [
      "update_rest = Nesterov()"
     ],
     "language": "python",
     "metadata": {},
     "outputs": [],
     "prompt_number": 19
    },
    {
     "cell_type": "code",
     "collapsed": false,
     "input": [
      "layers1b = [InputLayer(),\n",
      "           DenseLayer(100, update=update_dense),\n",
      "           OutputLayer()]"
     ],
     "language": "python",
     "metadata": {},
     "outputs": [],
     "prompt_number": 20
    },
    {
     "cell_type": "code",
     "collapsed": false,
     "input": [
      "net1b = NeuralNet(layers1b, cost_function=crossentropy, update=update_rest, verbose=1)"
     ],
     "language": "python",
     "metadata": {},
     "outputs": [],
     "prompt_number": 21
    },
    {
     "cell_type": "code",
     "collapsed": false,
     "input": [
      "%time net1b.fit(X, y, max_iter=25)"
     ],
     "language": "python",
     "metadata": {},
     "outputs": [
      {
       "output_type": "stream",
       "stream": "stdout",
       "text": [
        " ~=* Neural Network with 79510 learnable parameters *=~ \n",
        "  input0            \t(None, 784)         \tproduces     784 outputs\n",
        "  dense0            \t(None, 100)         \tproduces     100 outputs\n",
        "  output0           \t(None, 10)          \tproduces      10 outputs\n",
        " Epoch | Train loss | Valid loss | Train/Val | Valid acc | Dur\n",
        "-------|------------|------------|-----------|-----------|------"
       ]
      },
      {
       "output_type": "stream",
       "stream": "stdout",
       "text": [
        "\n",
        "     0 |   2.068074 |   1.565803 |    1.321  |  0.6227   | 0.3s"
       ]
      },
      {
       "output_type": "stream",
       "stream": "stdout",
       "text": [
        "\n",
        "     1 |   1.235593 |   0.975267 |    1.267  |  0.7821   | 0.3s"
       ]
      },
      {
       "output_type": "stream",
       "stream": "stdout",
       "text": [
        "\n",
        "     2 |   0.833044 |   0.736865 |    1.131  |  0.8306   | 0.6s"
       ]
      },
      {
       "output_type": "stream",
       "stream": "stdout",
       "text": [
        "\n",
        "     3 |   0.663320 |   0.623085 |    1.065  |  0.8543   | 0.4s"
       ]
      },
      {
       "output_type": "stream",
       "stream": "stdout",
       "text": [
        "\n",
        "     4 |   0.574281 |   0.556083 |    1.033  |  0.8580   | 0.2s"
       ]
      },
      {
       "output_type": "stream",
       "stream": "stdout",
       "text": [
        "\n",
        "     5 |   0.516831 |   0.511154 |    1.011  |  0.8667   | 0.5s"
       ]
      },
      {
       "output_type": "stream",
       "stream": "stdout",
       "text": [
        "\n",
        "     6 |   0.475471 |   0.478397 |    0.994  |  0.8742   | 0.4s"
       ]
      },
      {
       "output_type": "stream",
       "stream": "stdout",
       "text": [
        "\n",
        "     7 |   0.443530 |   0.453135 |    0.979  |  0.8780   | 0.6s"
       ]
      },
      {
       "output_type": "stream",
       "stream": "stdout",
       "text": [
        "\n",
        "     8 |   0.417717 |   0.432897 |    0.965  |  0.8792   | 0.4s"
       ]
      },
      {
       "output_type": "stream",
       "stream": "stdout",
       "text": [
        "\n",
        "     9 |   0.396162 |   0.416223 |    0.952  |  0.8867   | 0.4s"
       ]
      },
      {
       "output_type": "stream",
       "stream": "stdout",
       "text": [
        "\n",
        "    10 |   0.377718 |   0.402192 |    0.939  |  0.8929   | 0.4s"
       ]
      },
      {
       "output_type": "stream",
       "stream": "stdout",
       "text": [
        "\n",
        "    11 |   0.361632 |   0.390185 |    0.927  |  0.8917   | 0.3s"
       ]
      },
      {
       "output_type": "stream",
       "stream": "stdout",
       "text": [
        "\n",
        "    12 |   0.347379 |   0.379771 |    0.915  |  0.8904   | 0.3s"
       ]
      },
      {
       "output_type": "stream",
       "stream": "stdout",
       "text": [
        "\n",
        "    13 |   0.334586 |   0.370633 |    0.903  |  0.8917   | 0.3s"
       ]
      },
      {
       "output_type": "stream",
       "stream": "stdout",
       "text": [
        "\n",
        "    14 |   0.322978 |   0.362538 |    0.891  |  0.8941   | 0.3s"
       ]
      },
      {
       "output_type": "stream",
       "stream": "stdout",
       "text": [
        "\n",
        "    15 |   0.312348 |   0.355305 |    0.879  |  0.8941   | 0.3s"
       ]
      },
      {
       "output_type": "stream",
       "stream": "stdout",
       "text": [
        "\n",
        "    16 |   0.302540 |   0.348793 |    0.867  |  0.8941   | 0.3s"
       ]
      },
      {
       "output_type": "stream",
       "stream": "stdout",
       "text": [
        "\n",
        "    17 |   0.293433 |   0.342894 |    0.856  |  0.8954   | 0.3s"
       ]
      },
      {
       "output_type": "stream",
       "stream": "stdout",
       "text": [
        "\n",
        "    18 |   0.284932 |   0.337517 |    0.844  |  0.8954   | 0.3s"
       ]
      },
      {
       "output_type": "stream",
       "stream": "stdout",
       "text": [
        "\n",
        "    19 |   0.276958 |   0.332591 |    0.833  |  0.8954   | 0.3s"
       ]
      },
      {
       "output_type": "stream",
       "stream": "stdout",
       "text": [
        "\n",
        "    20 |   0.269448 |   0.328057 |    0.821  |  0.8966   | 0.3s"
       ]
      },
      {
       "output_type": "stream",
       "stream": "stdout",
       "text": [
        "\n",
        "    21 |   0.262351 |   0.323866 |    0.810  |  0.8991   | 0.5s"
       ]
      },
      {
       "output_type": "stream",
       "stream": "stdout",
       "text": [
        "\n",
        "    22 |   0.255620 |   0.319978 |    0.799  |  0.9016   | 0.5s"
       ]
      },
      {
       "output_type": "stream",
       "stream": "stdout",
       "text": [
        "\n",
        "    23 |   0.249221 |   0.316359 |    0.788  |  0.9016   | 0.4s"
       ]
      },
      {
       "output_type": "stream",
       "stream": "stdout",
       "text": [
        "\n",
        "    24 |   0.243121 |   0.312980 |    0.777  |  0.9029   | 0.3s"
       ]
      },
      {
       "output_type": "stream",
       "stream": "stdout",
       "text": [
        "\n",
        "Wall time: 11.4 s\n"
       ]
      },
      {
       "metadata": {},
       "output_type": "pyout",
       "prompt_number": 22,
       "text": [
        "NeuralNet(cost_function=<function crossentropy at 0x0000000016884978>,\n",
        "     eval_size=0.2,\n",
        "     iterator=<nolearn.lasagne.BatchIterator object at 0x0000000016BB5F60>,\n",
        "     layers=[<netz.layers.InputLayer object at 0x000000001BC59320>, <netz.layers.DenseLayer object at 0x000000001BC592B0>, <netz.layers.OutputLayer object at 0x000000001A0C0048>],\n",
        "     update=<netz.updaters.Nesterov object at 0x000000001BC59BA8>,\n",
        "     verbose=1)"
       ]
      }
     ],
     "prompt_number": 22
    },
    {
     "cell_type": "code",
     "collapsed": false,
     "input": [
      "plot_loss(net1b)"
     ],
     "language": "python",
     "metadata": {},
     "outputs": [
      {
       "metadata": {},
       "output_type": "display_data",
       "png": "[encoded data removed]",
       "text": [
        "<matplotlib.figure.Figure at 0x1c6f3b00>"
       ]
      }
     ],
     "prompt_number": 23
    },
    {
     "cell_type": "heading",
     "level": 3,
     "metadata": {},
     "source": [
      "Regularization"
     ]
    },
    {
     "cell_type": "heading",
     "level": 4,
     "metadata": {},
     "source": [
      "Here we want to regularize the hidden layer by using L1 and L2 regularizaton. We don't regularize the other layers."
     ]
    },
    {
     "cell_type": "code",
     "collapsed": false,
     "input": [
      "update_dense = Momentum(learn_rate=theano.shared(0.005), momentum=theano.shared(0.95),\n",
      "                        lambda1=theano.shared(0.001), lambda2=theano.shared(0.001))"
     ],
     "language": "python",
     "metadata": {},
     "outputs": [],
     "prompt_number": 24
    },
    {
     "cell_type": "code",
     "collapsed": false,
     "input": [
      "update_rest = Nesterov()"
     ],
     "language": "python",
     "metadata": {},
     "outputs": [],
     "prompt_number": 25
    },
    {
     "cell_type": "code",
     "collapsed": false,
     "input": [
      "layers1c = [InputLayer(),\n",
      "           DenseLayer(100, update=update_dense),\n",
      "           OutputLayer()]"
     ],
     "language": "python",
     "metadata": {},
     "outputs": [],
     "prompt_number": 26
    },
    {
     "cell_type": "code",
     "collapsed": false,
     "input": [
      "net1c = NeuralNet(layers1c, cost_function=crossentropy, update=update_rest, verbose=1)"
     ],
     "language": "python",
     "metadata": {},
     "outputs": [],
     "prompt_number": 27
    },
    {
     "cell_type": "code",
     "collapsed": false,
     "input": [
      "%time net1c.fit(X, y, max_iter=25)"
     ],
     "language": "python",
     "metadata": {},
     "outputs": [
      {
       "output_type": "stream",
       "stream": "stdout",
       "text": [
        " ~=* Neural Network with 79510 learnable parameters *=~ \n",
        "  input0            \t(None, 784)         \tproduces     784 outputs\n",
        "  dense0            \t(None, 100)         \tproduces     100 outputs\n",
        "  output0           \t(None, 10)          \tproduces      10 outputs\n",
        " Epoch | Train loss | Valid loss | Train/Val | Valid acc | Dur\n",
        "-------|------------|------------|-----------|-----------|------"
       ]
      },
      {
       "output_type": "stream",
       "stream": "stdout",
       "text": [
        "\n",
        "     0 |   2.041446 |   1.546381 |    1.320  |  0.6264   | 0.4s"
       ]
      },
      {
       "output_type": "stream",
       "stream": "stdout",
       "text": [
        "\n",
        "     1 |   1.257522 |   1.029336 |    1.222  |  0.8020   | 0.5s"
       ]
      },
      {
       "output_type": "stream",
       "stream": "stdout",
       "text": [
        "\n",
        "     2 |   0.923034 |   0.863128 |    1.069  |  0.8331   | 0.3s"
       ]
      },
      {
       "output_type": "stream",
       "stream": "stdout",
       "text": [
        "\n",
        "     3 |   0.827026 |   0.824513 |    1.003  |  0.8481   | 0.3s"
       ]
      },
      {
       "output_type": "stream",
       "stream": "stdout",
       "text": [
        "\n",
        "     4 |   0.802659 |   0.803732 |    0.999  |  0.8555   | 0.2s"
       ]
      },
      {
       "output_type": "stream",
       "stream": "stdout",
       "text": [
        "\n",
        "     5 |   0.774159 |   0.769484 |    1.006  |  0.8568   | 0.3s"
       ]
      },
      {
       "output_type": "stream",
       "stream": "stdout",
       "text": [
        "\n",
        "     6 |   0.737694 |   0.735399 |    1.003  |  0.8643   | 0.3s"
       ]
      },
      {
       "output_type": "stream",
       "stream": "stdout",
       "text": [
        "\n",
        "     7 |   0.707041 |   0.709718 |    0.996  |  0.8667   | 0.5s"
       ]
      },
      {
       "output_type": "stream",
       "stream": "stdout",
       "text": [
        "\n",
        "     8 |   0.684085 |   0.689977 |    0.991  |  0.8692   | 0.2s"
       ]
      },
      {
       "output_type": "stream",
       "stream": "stdout",
       "text": [
        "\n",
        "     9 |   0.665087 |   0.672753 |    0.989  |  0.8680   | 0.3s"
       ]
      },
      {
       "output_type": "stream",
       "stream": "stdout",
       "text": [
        "\n",
        "    10 |   0.648028 |   0.657174 |    0.986  |  0.8680   | 0.3s"
       ]
      },
      {
       "output_type": "stream",
       "stream": "stdout",
       "text": [
        "\n",
        "    11 |   0.632749 |   0.643357 |    0.984  |  0.8680   | 0.3s"
       ]
      },
      {
       "output_type": "stream",
       "stream": "stdout",
       "text": [
        "\n",
        "    12 |   0.619232 |   0.631165 |    0.981  |  0.8705   | 0.2s"
       ]
      },
      {
       "output_type": "stream",
       "stream": "stdout",
       "text": [
        "\n",
        "    13 |   0.607184 |   0.620264 |    0.979  |  0.8692   | 0.2s"
       ]
      },
      {
       "output_type": "stream",
       "stream": "stdout",
       "text": [
        "\n",
        "    14 |   0.596298 |   0.610394 |    0.977  |  0.8730   | 0.4s"
       ]
      },
      {
       "output_type": "stream",
       "stream": "stdout",
       "text": [
        "\n",
        "    15 |   0.586386 |   0.601415 |    0.975  |  0.8730   | 0.2s"
       ]
      },
      {
       "output_type": "stream",
       "stream": "stdout",
       "text": [
        "\n",
        "    16 |   0.577322 |   0.593224 |    0.973  |  0.8730   | 0.4s"
       ]
      },
      {
       "output_type": "stream",
       "stream": "stdout",
       "text": [
        "\n",
        "    17 |   0.569002 |   0.585721 |    0.971  |  0.8755   | 0.3s"
       ]
      },
      {
       "output_type": "stream",
       "stream": "stdout",
       "text": [
        "\n",
        "    18 |   0.561328 |   0.578818 |    0.970  |  0.8755   | 0.4s"
       ]
      },
      {
       "output_type": "stream",
       "stream": "stdout",
       "text": [
        "\n",
        "    19 |   0.554221 |   0.572449 |    0.968  |  0.8742   | 0.2s"
       ]
      },
      {
       "output_type": "stream",
       "stream": "stdout",
       "text": [
        "\n",
        "    20 |   0.547617 |   0.566557 |    0.967  |  0.8755   | 0.4s"
       ]
      },
      {
       "output_type": "stream",
       "stream": "stdout",
       "text": [
        "\n",
        "    21 |   0.541459 |   0.561093 |    0.965  |  0.8780   | 0.3s"
       ]
      },
      {
       "output_type": "stream",
       "stream": "stdout",
       "text": [
        "\n",
        "    22 |   0.535702 |   0.556015 |    0.963  |  0.8780   | 0.3s"
       ]
      },
      {
       "output_type": "stream",
       "stream": "stdout",
       "text": [
        "\n",
        "    23 |   0.530304 |   0.551287 |    0.962  |  0.8780   | 0.3s"
       ]
      },
      {
       "output_type": "stream",
       "stream": "stdout",
       "text": [
        "\n",
        "    24 |   0.525230 |   0.546877 |    0.960  |  0.8767   | 0.3s"
       ]
      },
      {
       "output_type": "stream",
       "stream": "stdout",
       "text": [
        "\n",
        "Wall time: 10.1 s\n"
       ]
      },
      {
       "metadata": {},
       "output_type": "pyout",
       "prompt_number": 28,
       "text": [
        "NeuralNet(cost_function=<function crossentropy at 0x0000000016884978>,\n",
        "     eval_size=0.2,\n",
        "     iterator=<nolearn.lasagne.BatchIterator object at 0x0000000016BB5F60>,\n",
        "     layers=[<netz.layers.InputLayer object at 0x000000001C6F3B00>, <netz.layers.DenseLayer object at 0x000000001C6F3588>, <netz.layers.OutputLayer object at 0x000000001BB510B8>],\n",
        "     update=<netz.updaters.Nesterov object at 0x000000001C6F3DA0>,\n",
        "     verbose=1)"
       ]
      }
     ],
     "prompt_number": 28
    },
    {
     "cell_type": "heading",
     "level": 4,
     "metadata": {},
     "source": [
      "The regularized layer's weights are much smaller, as expected from regularization."
     ]
    },
    {
     "cell_type": "code",
     "collapsed": false,
     "input": [
      "mean_wo_reg = np.abs(net1b.layers[1].W.get_value()).mean()\n",
      "mean_with_reg = np.abs(net1c.layers[1].W.get_value()).mean()\n",
      "print(\"Consequences of turning on regularization:\")\n",
      "print(\"Mean absolute weights before: {:.5f}.\".format(mean_wo_reg))\n",
      "print(\"Mean absolute weights after:  {:.5f}.\".format(mean_with_reg))"
     ],
     "language": "python",
     "metadata": {},
     "outputs": [
      {
       "output_type": "stream",
       "stream": "stdout",
       "text": [
        "Consequences of turning on regularization:\n",
        "Mean absolute weights before: 0.04312.\n",
        "Mean absolute weights after:  0.00328.\n"
       ]
      }
     ],
     "prompt_number": 29
    },
    {
     "cell_type": "code",
     "collapsed": false,
     "input": [
      "mean_wo_reg = np.abs(net1b.layers[2].W.get_value()).mean()\n",
      "mean_with_reg = np.abs(net1c.layers[2].W.get_value()).mean()\n",
      "print(\"Output layer is unregularized:\")\n",
      "print(\"Mean absolute weights before: {:.5f}.\".format(mean_wo_reg))\n",
      "print(\"Mean absolute weights after:  {:.5f}.\".format(mean_with_reg))"
     ],
     "language": "python",
     "metadata": {},
     "outputs": [
      {
       "output_type": "stream",
       "stream": "stdout",
       "text": [
        "Output layer is unregularized:\n",
        "Mean absolute weights before: 0.20424.\n",
        "Mean absolute weights after:  0.26045.\n"
       ]
      }
     ],
     "prompt_number": 30
    },
    {
     "cell_type": "code",
     "collapsed": false,
     "input": [
      "mean_wo_reg = np.abs(net1b.layers[1].b.get_value()).mean()\n",
      "mean_with_reg = np.abs(net1c.layers[1].b.get_value()).mean()\n",
      "print(\"As is the bias of the regularized layer:\")\n",
      "print(\"Mean absolute bias before: {:.5f}.\".format(mean_wo_reg))\n",
      "print(\"Mean absolute bias after:  {:.5f}.\".format(mean_with_reg))"
     ],
     "language": "python",
     "metadata": {},
     "outputs": [
      {
       "output_type": "stream",
       "stream": "stdout",
       "text": [
        "As is the bias of the regularized layer:\n",
        "Mean absolute bias before: 0.11887.\n",
        "Mean absolute bias after:  0.12897.\n"
       ]
      }
     ],
     "prompt_number": 31
    },
    {
     "cell_type": "heading",
     "level": 2,
     "metadata": {},
     "source": [
      "2 hidden layers"
     ]
    },
    {
     "cell_type": "markdown",
     "metadata": {},
     "source": [
      "An example with 2 hidden layers."
     ]
    },
    {
     "cell_type": "code",
     "collapsed": false,
     "input": [
      "layers2 = [InputLayer(),\n",
      "           DenseLayer(200),\n",
      "           DenseLayer(200),\n",
      "           OutputLayer()]"
     ],
     "language": "python",
     "metadata": {},
     "outputs": [],
     "prompt_number": 32
    },
    {
     "cell_type": "code",
     "collapsed": false,
     "input": [
      "net2 = NeuralNet(layers2, cost_function=crossentropy, update=Nesterov(), verbose=1)"
     ],
     "language": "python",
     "metadata": {},
     "outputs": [],
     "prompt_number": 33
    },
    {
     "cell_type": "code",
     "collapsed": false,
     "input": [
      "%time net2.fit(X, y, max_iter=25)"
     ],
     "language": "python",
     "metadata": {},
     "outputs": [
      {
       "output_type": "stream",
       "stream": "stdout",
       "text": [
        " ~=* Neural Network with 199210 learnable parameters *=~ \n",
        "  input0            \t(None, 784)         \tproduces     784 outputs\n",
        "  dense0            \t(None, 200)         \tproduces     200 outputs\n",
        "  dense1            \t(None, 200)         \tproduces     200 outputs\n",
        "  output0           \t(None, 10)          \tproduces      10 outputs\n",
        " Epoch | Train loss | Valid loss | Train/Val | Valid acc | Dur\n",
        "-------|------------|------------|-----------|-----------|------"
       ]
      },
      {
       "output_type": "stream",
       "stream": "stdout",
       "text": [
        "\n",
        "     0 |   2.278276 |   2.161093 |    1.054  |  0.3724   | 0.6s"
       ]
      },
      {
       "output_type": "stream",
       "stream": "stdout",
       "text": [
        "\n",
        "     1 |   2.080065 |   1.962832 |    1.060  |  0.5691   | 0.5s"
       ]
      },
      {
       "output_type": "stream",
       "stream": "stdout",
       "text": [
        "\n",
        "     2 |   1.867022 |   1.738153 |    1.074  |  0.6513   | 0.5s"
       ]
      },
      {
       "output_type": "stream",
       "stream": "stdout",
       "text": [
        "\n",
        "     3 |   1.630979 |   1.500068 |    1.087  |  0.6912   | 0.6s"
       ]
      },
      {
       "output_type": "stream",
       "stream": "stdout",
       "text": [
        "\n",
        "     4 |   1.396260 |   1.278047 |    1.092  |  0.7173   | 0.8s"
       ]
      },
      {
       "output_type": "stream",
       "stream": "stdout",
       "text": [
        "\n",
        "     5 |   1.190069 |   1.093270 |    1.089  |  0.7597   | 0.6s"
       ]
      },
      {
       "output_type": "stream",
       "stream": "stdout",
       "text": [
        "\n",
        "     6 |   1.024960 |   0.949980 |    1.079  |  0.7746   | 0.6s"
       ]
      },
      {
       "output_type": "stream",
       "stream": "stdout",
       "text": [
        "\n",
        "     7 |   0.898536 |   0.841013 |    1.068  |  0.7995   | 0.6s"
       ]
      },
      {
       "output_type": "stream",
       "stream": "stdout",
       "text": [
        "\n",
        "     8 |   0.801949 |   0.757183 |    1.059  |  0.8194   | 0.7s"
       ]
      },
      {
       "output_type": "stream",
       "stream": "stdout",
       "text": [
        "\n",
        "     9 |   0.726668 |   0.691356 |    1.051  |  0.8356   | 0.6s"
       ]
      },
      {
       "output_type": "stream",
       "stream": "stdout",
       "text": [
        "\n",
        "    10 |   0.666476 |   0.638601 |    1.044  |  0.8456   | 0.6s"
       ]
      },
      {
       "output_type": "stream",
       "stream": "stdout",
       "text": [
        "\n",
        "    11 |   0.617193 |   0.595547 |    1.036  |  0.8518   | 0.6s"
       ]
      },
      {
       "output_type": "stream",
       "stream": "stdout",
       "text": [
        "\n",
        "    12 |   0.576014 |   0.559858 |    1.029  |  0.8630   | 0.8s"
       ]
      },
      {
       "output_type": "stream",
       "stream": "stdout",
       "text": [
        "\n",
        "    13 |   0.541019 |   0.529883 |    1.021  |  0.8717   | 0.9s"
       ]
      },
      {
       "output_type": "stream",
       "stream": "stdout",
       "text": [
        "\n",
        "    14 |   0.510861 |   0.504434 |    1.013  |  0.8692   | 0.7s"
       ]
      },
      {
       "output_type": "stream",
       "stream": "stdout",
       "text": [
        "\n",
        "    15 |   0.484578 |   0.482633 |    1.004  |  0.8717   | 0.5s"
       ]
      },
      {
       "output_type": "stream",
       "stream": "stdout",
       "text": [
        "\n",
        "    16 |   0.461463 |   0.463817 |    0.995  |  0.8792   | 0.6s"
       ]
      },
      {
       "output_type": "stream",
       "stream": "stdout",
       "text": [
        "\n",
        "    17 |   0.440982 |   0.447472 |    0.985  |  0.8842   | 0.5s"
       ]
      },
      {
       "output_type": "stream",
       "stream": "stdout",
       "text": [
        "\n",
        "    18 |   0.422717 |   0.433190 |    0.976  |  0.8829   | 0.5s"
       ]
      },
      {
       "output_type": "stream",
       "stream": "stdout",
       "text": [
        "\n",
        "    19 |   0.406333 |   0.420640 |    0.966  |  0.8879   | 0.6s"
       ]
      },
      {
       "output_type": "stream",
       "stream": "stdout",
       "text": [
        "\n",
        "    20 |   0.391552 |   0.409550 |    0.956  |  0.8854   | 0.7s"
       ]
      },
      {
       "output_type": "stream",
       "stream": "stdout",
       "text": [
        "\n",
        "    21 |   0.378144 |   0.399696 |    0.946  |  0.8854   | 0.6s"
       ]
      },
      {
       "output_type": "stream",
       "stream": "stdout",
       "text": [
        "\n",
        "    22 |   0.365913 |   0.390891 |    0.936  |  0.8854   | 0.7s"
       ]
      },
      {
       "output_type": "stream",
       "stream": "stdout",
       "text": [
        "\n",
        "    23 |   0.354696 |   0.382981 |    0.926  |  0.8854   | 0.5s"
       ]
      },
      {
       "output_type": "stream",
       "stream": "stdout",
       "text": [
        "\n",
        "    24 |   0.344353 |   0.375837 |    0.916  |  0.8867   | 0.6s"
       ]
      },
      {
       "output_type": "stream",
       "stream": "stdout",
       "text": [
        "\n",
        "Wall time: 18.5 s\n"
       ]
      },
      {
       "metadata": {},
       "output_type": "pyout",
       "prompt_number": 34,
       "text": [
        "NeuralNet(cost_function=<function crossentropy at 0x0000000016884978>,\n",
        "     eval_size=0.2,\n",
        "     iterator=<nolearn.lasagne.BatchIterator object at 0x0000000016BB5F60>,\n",
        "     layers=[<netz.layers.InputLayer object at 0x000000001CCF5F60>, <netz.layers.DenseLayer object at 0x000000001CCF5F98>, <netz.layers.DenseLayer object at 0x000000001C9C6CF8>, <netz.layers.OutputLayer object at 0x000000001CCF5E80>],\n",
        "     update=<netz.updaters.Nesterov object at 0x000000001CA47908>,\n",
        "     verbose=1)"
       ]
      }
     ],
     "prompt_number": 34
    },
    {
     "cell_type": "code",
     "collapsed": false,
     "input": [
      "plot_loss(net2)"
     ],
     "language": "python",
     "metadata": {},
     "outputs": [
      {
       "metadata": {},
       "output_type": "display_data",
       "png": "[encoded data removed]",
       "text": [
        "<matplotlib.figure.Figure at 0x185f3668>"
       ]
      }
     ],
     "prompt_number": 35
    },
    {
     "cell_type": "code",
     "collapsed": false,
     "input": [
      "accuracy = net2.score(X_valid, y_valid, accuracy=True)"
     ],
     "language": "python",
     "metadata": {},
     "outputs": [],
     "prompt_number": 36
    },
    {
     "cell_type": "code",
     "collapsed": false,
     "input": [
      "print(\"Accuracy: {:.4f}\".format(accuracy))"
     ],
     "language": "python",
     "metadata": {},
     "outputs": [
      {
       "output_type": "stream",
       "stream": "stdout",
       "text": [
        "Accuracy: 0.8867\n"
       ]
      }
     ],
     "prompt_number": 37
    },
    {
     "cell_type": "code",
     "collapsed": false,
     "input": [],
     "language": "python",
     "metadata": {},
     "outputs": [],
     "prompt_number": 37
    }
   ],
   "metadata": {}
  }
 ]
}