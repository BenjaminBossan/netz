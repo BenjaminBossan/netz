{
 "metadata": {
  "name": "",
  "signature": "sha256:678559f61f6211de6a976066e362803354f011d0840616cdc1d24be0baa5039a"
 },
 "nbformat": 3,
 "nbformat_minor": 0,
 "worksheets": [
  {
   "cells": [
    {
     "cell_type": "heading",
     "level": 1,
     "metadata": {},
     "source": [
      "MNIST"
     ]
    },
    {
     "cell_type": "markdown",
     "metadata": {},
     "source": [
      "Showing off some nice features of _netz_ by example of the MNIST data set."
     ]
    },
    {
     "cell_type": "heading",
     "level": 2,
     "metadata": {},
     "source": [
      "Imports"
     ]
    },
    {
     "cell_type": "code",
     "collapsed": false,
     "input": [
      "# -*- coding: utf-8 -*-\n",
      "from __future__ import division\n",
      "from copy import deepcopy\n",
      "\n",
      "import numpy as np\n",
      "import pandas as pd\n",
      "import matplotlib.pyplot as plt\n",
      "import theano\n",
      "import theano.tensor as T"
     ],
     "language": "python",
     "metadata": {},
     "outputs": [],
     "prompt_number": 1
    },
    {
     "cell_type": "code",
     "collapsed": false,
     "input": [
      "from netz.layers import InputLayer, DenseLayer, OutputLayer, InputConcatLayer\n",
      "from netz.neuralnet import NeuralNet\n",
      "from netz.costfunctions import mse, crossentropy\n",
      "from netz.nonlinearities import softmax\n",
      "from netz.updaters import Momentum, Nesterov, SGD\n",
      "from netz.visualize import plot_loss"
     ],
     "language": "python",
     "metadata": {},
     "outputs": [],
     "prompt_number": 2
    },
    {
     "cell_type": "code",
     "collapsed": false,
     "input": [
      "np.random.seed(17411)"
     ],
     "language": "python",
     "metadata": {},
     "outputs": [],
     "prompt_number": 3
    },
    {
     "cell_type": "code",
     "collapsed": false,
     "input": [
      "%pylab inline"
     ],
     "language": "python",
     "metadata": {},
     "outputs": [
      {
       "output_type": "stream",
       "stream": "stdout",
       "text": [
        "Populating the interactive namespace from numpy and matplotlib\n"
       ]
      }
     ],
     "prompt_number": 4
    },
    {
     "cell_type": "heading",
     "level": 2,
     "metadata": {},
     "source": [
      "Data"
     ]
    },
    {
     "cell_type": "markdown",
     "metadata": {},
     "source": [
      "Make sure you have the MNIST data set ready. You can get it here: http://www.kaggle.com/c/digit-recognizer/data."
     ]
    },
    {
     "cell_type": "heading",
     "level": 3,
     "metadata": {},
     "source": [
      "Load data"
     ]
    },
    {
     "cell_type": "code",
     "collapsed": false,
     "input": [
      "df = pd.read_csv('../data/mnist.csv', nrows=4000)"
     ],
     "language": "python",
     "metadata": {},
     "outputs": [],
     "prompt_number": 5
    },
    {
     "cell_type": "code",
     "collapsed": false,
     "input": [
      "y = df.values[:, 0]\n",
      "X = df.values[:, 1:] / 255"
     ],
     "language": "python",
     "metadata": {},
     "outputs": [],
     "prompt_number": 6
    },
    {
     "cell_type": "code",
     "collapsed": false,
     "input": [
      "X = (X - X.mean()) / X.std()"
     ],
     "language": "python",
     "metadata": {},
     "outputs": [],
     "prompt_number": 7
    },
    {
     "cell_type": "heading",
     "level": 3,
     "metadata": {},
     "source": [
      "Plot data"
     ]
    },
    {
     "cell_type": "code",
     "collapsed": false,
     "input": [
      "figs, axes = plt.subplots(4, 4, figsize=(6, 6))\n",
      "for i in range(4):\n",
      "    for j in range(4):\n",
      "        axes[i, j].imshow(-X[i + 4 * j].reshape(28, 28), cmap='gray', interpolation='nearest')\n",
      "        axes[i, j].set_xticks([])\n",
      "        axes[i, j].set_yticks([])\n",
      "        axes[i, j].set_title(\"Label: {}\".format(y[i + 4 * j]))\n",
      "        axes[i, j].axis('off')"
     ],
     "language": "python",
     "metadata": {},
     "outputs": [
      {
       "metadata": {},
       "output_type": "display_data",
       "png": "[encoded data removed]",
       "text": [
        "<matplotlib.figure.Figure at 0x1a511908>"
       ]
      }
     ],
     "prompt_number": 8
    },
    {
     "cell_type": "heading",
     "level": 2,
     "metadata": {},
     "source": [
      "Neural nets"
     ]
    },
    {
     "cell_type": "heading",
     "level": 3,
     "metadata": {},
     "source": [
      "1 hidden layer"
     ]
    },
    {
     "cell_type": "heading",
     "level": 4,
     "metadata": {},
     "source": [
      "Here we want to train a simple neural net with just one hidden layer that has 100 units. For updating, we use vanilla stochastic gradient descent (SGD)."
     ]
    },
    {
     "cell_type": "code",
     "collapsed": false,
     "input": [
      "updater = SGD(theano.shared(0.02))"
     ],
     "language": "python",
     "metadata": {},
     "outputs": [],
     "prompt_number": 9
    },
    {
     "cell_type": "code",
     "collapsed": false,
     "input": [
      "layers1 = [InputLayer(),\n",
      "           DenseLayer(100),\n",
      "           OutputLayer()]"
     ],
     "language": "python",
     "metadata": {},
     "outputs": [],
     "prompt_number": 10
    },
    {
     "cell_type": "code",
     "collapsed": false,
     "input": [
      "net1 = NeuralNet(layers1, cost_function=crossentropy, updater=updater, verbose=1)"
     ],
     "language": "python",
     "metadata": {},
     "outputs": [],
     "prompt_number": 11
    },
    {
     "cell_type": "code",
     "collapsed": false,
     "input": [
      "%time net1.fit(X, y, max_iter=10)"
     ],
     "language": "python",
     "metadata": {},
     "outputs": [
      {
       "output_type": "stream",
       "stream": "stdout",
       "text": [
        "# ~=* Neural Network with 79510 learnable parameters *=~ \n",
        "\n",
        "\n",
        "## Layer information\n",
        "  # | name         | output shape       |        total \n",
        "----|--------------|--------------------|--------------\n",
        " 0  | input0       | (None, 784)        |          784\n",
        " 1  | dense0       | (None, 100)        |          100\n",
        " 2  | output0      | (None, 10)         |           10\n",
        "\n",
        "\n",
        "## Training Information\n",
        " Epoch | Train loss | Valid loss | Train/Val | Valid acc | Dur\n",
        "-------|------------|------------|-----------|-----------|------"
       ]
      },
      {
       "output_type": "stream",
       "stream": "stdout",
       "text": [
        "\n",
        "     0 |   2.190130 |   1.922578 |    1.139  |  0.4882   | 0.2s"
       ]
      },
      {
       "output_type": "stream",
       "stream": "stdout",
       "text": [
        "\n",
        "     1 |   1.816559 |   1.640593 |    1.107  |  0.6526   | 0.2s"
       ]
      },
      {
       "output_type": "stream",
       "stream": "stdout",
       "text": [
        "\n",
        "     2 |   1.573869 |   1.438727 |    1.094  |  0.7098   | 0.2s"
       ]
      },
      {
       "output_type": "stream",
       "stream": "stdout",
       "text": [
        "\n",
        "     3 |   1.392018 |   1.286650 |    1.082  |  0.7572   | 0.2s"
       ]
      },
      {
       "output_type": "stream",
       "stream": "stdout",
       "text": [
        "\n",
        "     4 |   1.252237 |   1.168745 |    1.071  |  0.7796   | 0.2s"
       ]
      },
      {
       "output_type": "stream",
       "stream": "stdout",
       "text": [
        "\n",
        "     5 |   1.142142 |   1.075087 |    1.062  |  0.7983   | 0.2s"
       ]
      },
      {
       "output_type": "stream",
       "stream": "stdout",
       "text": [
        "\n",
        "     6 |   1.053496 |   0.999097 |    1.054  |  0.8095   | 0.2s"
       ]
      },
      {
       "output_type": "stream",
       "stream": "stdout",
       "text": [
        "\n",
        "     7 |   0.980722 |   0.936279 |    1.047  |  0.8269   | 0.3s"
       ]
      },
      {
       "output_type": "stream",
       "stream": "stdout",
       "text": [
        "\n",
        "     8 |   0.919955 |   0.883499 |    1.041  |  0.8344   | 0.2s"
       ]
      },
      {
       "output_type": "stream",
       "stream": "stdout",
       "text": [
        "\n",
        "     9 |   0.868460 |   0.838524 |    1.036  |  0.8431   | 0.2s"
       ]
      },
      {
       "output_type": "stream",
       "stream": "stdout",
       "text": [
        "\n",
        "Wall time: 4.53 s\n"
       ]
      },
      {
       "metadata": {},
       "output_type": "pyout",
       "prompt_number": 12,
       "text": [
        "NeuralNet(cost_function=<function crossentropy at 0x0000000016915518>,\n",
        "     eval_size=0.2,\n",
        "     iterator=<nolearn.lasagne.BatchIterator object at 0x0000000016BD1E80>,\n",
        "     lambda2=None,\n",
        "     layers=[<netz.layers.InputLayer object at 0x000000001A511278>, <netz.layers.DenseLayer object at 0x000000001A5112B0>, <netz.layers.OutputLayer object at 0x0000000016C544E0>],\n",
        "     updater=<netz.updaters.SGD object at 0x0000000016C545F8>, verbose=1)"
       ]
      }
     ],
     "prompt_number": 12
    },
    {
     "cell_type": "heading",
     "level": 4,
     "metadata": {},
     "source": [
      "We may continue training from here on (no cold start)."
     ]
    },
    {
     "cell_type": "code",
     "collapsed": false,
     "input": [
      "%time net1.fit(X, y, max_iter=5)"
     ],
     "language": "python",
     "metadata": {},
     "outputs": [
      {
       "output_type": "stream",
       "stream": "stdout",
       "text": [
        "## Training Information\n",
        " Epoch | Train loss | Valid loss | Train/Val | Valid acc | Dur\n",
        "-------|------------|------------|-----------|-----------|------\n",
        "     0 |   0.824259 |   0.799734 |    1.031  |  0.8431   | 0.2s"
       ]
      },
      {
       "output_type": "stream",
       "stream": "stdout",
       "text": [
        "\n",
        "     1 |   0.785894 |   0.765926 |    1.026  |  0.8481   | 0.3s"
       ]
      },
      {
       "output_type": "stream",
       "stream": "stdout",
       "text": [
        "\n",
        "     2 |   0.752266 |   0.736190 |    1.022  |  0.8493   | 0.3s"
       ]
      },
      {
       "output_type": "stream",
       "stream": "stdout",
       "text": [
        "\n",
        "     3 |   0.722533 |   0.709824 |    1.018  |  0.8531   | 0.3s"
       ]
      },
      {
       "output_type": "stream",
       "stream": "stdout",
       "text": [
        "\n",
        "     4 |   0.696040 |   0.686279 |    1.014  |  0.8580   | 0.2s"
       ]
      },
      {
       "output_type": "stream",
       "stream": "stdout",
       "text": [
        "\n",
        "Wall time: 1.5 s\n"
       ]
      },
      {
       "metadata": {},
       "output_type": "pyout",
       "prompt_number": 13,
       "text": [
        "NeuralNet(cost_function=<function crossentropy at 0x0000000016915518>,\n",
        "     eval_size=0.2,\n",
        "     iterator=<nolearn.lasagne.BatchIterator object at 0x0000000016BD1E80>,\n",
        "     lambda2=None,\n",
        "     layers=[<netz.layers.InputLayer object at 0x000000001A511278>, <netz.layers.DenseLayer object at 0x000000001A5112B0>, <netz.layers.OutputLayer object at 0x0000000016C544E0>],\n",
        "     updater=<netz.updaters.SGD object at 0x0000000016C545F8>, verbose=1)"
       ]
      }
     ],
     "prompt_number": 13
    },
    {
     "cell_type": "code",
     "collapsed": false,
     "input": [
      "plot_loss(net1)"
     ],
     "language": "python",
     "metadata": {},
     "outputs": [
      {
       "metadata": {},
       "output_type": "display_data",
       "png": "[encoded data removed]",
       "text": [
        "<matplotlib.figure.Figure at 0x18ff2710>"
       ]
      }
     ],
     "prompt_number": 14
    },
    {
     "cell_type": "code",
     "collapsed": false,
     "input": [
      "X_valid, y_valid = net1.get_valid_data(X, y)"
     ],
     "language": "python",
     "metadata": {},
     "outputs": [
      {
       "output_type": "stream",
       "stream": "stderr",
       "text": [
        "netz\\neuralnet.py:268: UserWarning: Input data has changed since last usage\n",
        "  warnings.warn(\"Input data has changed since last usage\")\n"
       ]
      }
     ],
     "prompt_number": 15
    },
    {
     "cell_type": "code",
     "collapsed": false,
     "input": [
      "accuracy = net1.score(X_valid, y_valid, accuracy=True)"
     ],
     "language": "python",
     "metadata": {},
     "outputs": [],
     "prompt_number": 16
    },
    {
     "cell_type": "code",
     "collapsed": false,
     "input": [
      "print(\"Accuracy: {:.4f}\".format(accuracy))"
     ],
     "language": "python",
     "metadata": {},
     "outputs": [
      {
       "output_type": "stream",
       "stream": "stdout",
       "text": [
        "Accuracy: 0.8580\n"
       ]
      }
     ],
     "prompt_number": 17
    },
    {
     "cell_type": "heading",
     "level": 4,
     "metadata": {},
     "source": [
      "If data has changed, which could result in contamination of the validation set, a _warning_ is printed."
     ]
    },
    {
     "cell_type": "code",
     "collapsed": false,
     "input": [
      "__ = net1.get_valid_data(X[1:], y[1:])"
     ],
     "language": "python",
     "metadata": {},
     "outputs": [],
     "prompt_number": 18
    },
    {
     "cell_type": "heading",
     "level": 3,
     "metadata": {},
     "source": [
      "1 hidden layer using different update function"
     ]
    },
    {
     "cell_type": "heading",
     "level": 4,
     "metadata": {},
     "source": [
      "Again, we just use 1 hidden layer but this time, we set a different update function for just this layer."
     ]
    },
    {
     "cell_type": "code",
     "collapsed": false,
     "input": [
      "updater_dense = Momentum(learn_rate=theano.shared(0.005), momentum=theano.shared(0.95))"
     ],
     "language": "python",
     "metadata": {},
     "outputs": [],
     "prompt_number": 19
    },
    {
     "cell_type": "code",
     "collapsed": false,
     "input": [
      "updater_rest = Nesterov()"
     ],
     "language": "python",
     "metadata": {},
     "outputs": [],
     "prompt_number": 20
    },
    {
     "cell_type": "code",
     "collapsed": false,
     "input": [
      "layers1b = [InputLayer(),\n",
      "           DenseLayer(100, updater=updater_dense),\n",
      "           OutputLayer()]"
     ],
     "language": "python",
     "metadata": {},
     "outputs": [],
     "prompt_number": 21
    },
    {
     "cell_type": "code",
     "collapsed": false,
     "input": [
      "net1b = NeuralNet(layers1b, cost_function=crossentropy, updater=updater_rest, verbose=1)"
     ],
     "language": "python",
     "metadata": {},
     "outputs": [],
     "prompt_number": 22
    },
    {
     "cell_type": "code",
     "collapsed": false,
     "input": [
      "%time net1b.fit(X, y, max_iter=25)"
     ],
     "language": "python",
     "metadata": {},
     "outputs": [
      {
       "output_type": "stream",
       "stream": "stdout",
       "text": [
        "# ~=* Neural Network with 79510 learnable parameters *=~ \n",
        "\n",
        "\n",
        "## Layer information\n",
        "  # | name         | output shape       |        total \n",
        "----|--------------|--------------------|--------------\n",
        " 0  | input0       | (None, 784)        |          784\n",
        " 1  | dense0       | (None, 100)        |          100\n",
        " 2  | output0      | (None, 10)         |           10\n",
        "\n",
        "\n",
        "## Training Information\n",
        " Epoch | Train loss | Valid loss | Train/Val | Valid acc | Dur\n",
        "-------|------------|------------|-----------|-----------|------"
       ]
      },
      {
       "output_type": "stream",
       "stream": "stdout",
       "text": [
        "\n",
        "     0 |   2.233930 |   1.642423 |    1.360  |  0.5492   | 0.3s"
       ]
      },
      {
       "output_type": "stream",
       "stream": "stdout",
       "text": [
        "\n",
        "     1 |   1.275636 |   1.006746 |    1.267  |  0.7833   | 0.2s"
       ]
      },
      {
       "output_type": "stream",
       "stream": "stdout",
       "text": [
        "\n",
        "     2 |   0.857430 |   0.761274 |    1.126  |  0.8219   | 0.2s"
       ]
      },
      {
       "output_type": "stream",
       "stream": "stdout",
       "text": [
        "\n",
        "     3 |   0.680605 |   0.642087 |    1.060  |  0.8418   | 0.3s"
       ]
      },
      {
       "output_type": "stream",
       "stream": "stdout",
       "text": [
        "\n",
        "     4 |   0.585309 |   0.570439 |    1.026  |  0.8580   | 0.4s"
       ]
      },
      {
       "output_type": "stream",
       "stream": "stdout",
       "text": [
        "\n",
        "     5 |   0.523635 |   0.522395 |    1.002  |  0.8742   | 0.4s"
       ]
      },
      {
       "output_type": "stream",
       "stream": "stdout",
       "text": [
        "\n",
        "     6 |   0.479347 |   0.487516 |    0.983  |  0.8792   | 0.3s"
       ]
      },
      {
       "output_type": "stream",
       "stream": "stdout",
       "text": [
        "\n",
        "     7 |   0.445338 |   0.460746 |    0.967  |  0.8879   | 0.2s"
       ]
      },
      {
       "output_type": "stream",
       "stream": "stdout",
       "text": [
        "\n",
        "     8 |   0.418018 |   0.439384 |    0.951  |  0.8879   | 0.3s"
       ]
      },
      {
       "output_type": "stream",
       "stream": "stdout",
       "text": [
        "\n",
        "     9 |   0.395348 |   0.421850 |    0.937  |  0.8879   | 0.2s"
       ]
      },
      {
       "output_type": "stream",
       "stream": "stdout",
       "text": [
        "\n",
        "    10 |   0.376057 |   0.407150 |    0.924  |  0.8892   | 0.4s"
       ]
      },
      {
       "output_type": "stream",
       "stream": "stdout",
       "text": [
        "\n",
        "    11 |   0.359315 |   0.394616 |    0.911  |  0.8929   | 0.2s"
       ]
      },
      {
       "output_type": "stream",
       "stream": "stdout",
       "text": [
        "\n",
        "    12 |   0.344547 |   0.383778 |    0.898  |  0.8917   | 0.2s"
       ]
      },
      {
       "output_type": "stream",
       "stream": "stdout",
       "text": [
        "\n",
        "    13 |   0.331346 |   0.374296 |    0.885  |  0.8929   | 0.2s"
       ]
      },
      {
       "output_type": "stream",
       "stream": "stdout",
       "text": [
        "\n",
        "    14 |   0.319414 |   0.365916 |    0.873  |  0.8954   | 0.2s"
       ]
      },
      {
       "output_type": "stream",
       "stream": "stdout",
       "text": [
        "\n",
        "    15 |   0.308526 |   0.358447 |    0.861  |  0.8966   | 0.2s"
       ]
      },
      {
       "output_type": "stream",
       "stream": "stdout",
       "text": [
        "\n",
        "    16 |   0.298512 |   0.351739 |    0.849  |  0.8979   | 0.2s"
       ]
      },
      {
       "output_type": "stream",
       "stream": "stdout",
       "text": [
        "\n",
        "    17 |   0.289240 |   0.345678 |    0.837  |  0.9016   | 0.2s"
       ]
      },
      {
       "output_type": "stream",
       "stream": "stdout",
       "text": [
        "\n",
        "    18 |   0.280603 |   0.340170 |    0.825  |  0.9054   | 0.4s"
       ]
      },
      {
       "output_type": "stream",
       "stream": "stdout",
       "text": [
        "\n",
        "    19 |   0.272520 |   0.335143 |    0.813  |  0.9066   | 0.3s"
       ]
      },
      {
       "output_type": "stream",
       "stream": "stdout",
       "text": [
        "\n",
        "    20 |   0.264921 |   0.330535 |    0.801  |  0.9078   | 0.3s"
       ]
      },
      {
       "output_type": "stream",
       "stream": "stdout",
       "text": [
        "\n",
        "    21 |   0.257752 |   0.326295 |    0.790  |  0.9078   | 0.3s"
       ]
      },
      {
       "output_type": "stream",
       "stream": "stdout",
       "text": [
        "\n",
        "    22 |   0.250967 |   0.322382 |    0.778  |  0.9078   | 0.3s"
       ]
      },
      {
       "output_type": "stream",
       "stream": "stdout",
       "text": [
        "\n",
        "    23 |   0.244525 |   0.318759 |    0.767  |  0.9066   | 0.3s"
       ]
      },
      {
       "output_type": "stream",
       "stream": "stdout",
       "text": [
        "\n",
        "    24 |   0.238395 |   0.315397 |    0.756  |  0.9091   | 0.2s"
       ]
      },
      {
       "output_type": "stream",
       "stream": "stdout",
       "text": [
        "\n",
        "Wall time: 9.76 s\n"
       ]
      },
      {
       "metadata": {},
       "output_type": "pyout",
       "prompt_number": 23,
       "text": [
        "NeuralNet(cost_function=<function crossentropy at 0x0000000016915518>,\n",
        "     eval_size=0.2,\n",
        "     iterator=<nolearn.lasagne.BatchIterator object at 0x0000000016BD1E80>,\n",
        "     lambda2=None,\n",
        "     layers=[<netz.layers.InputLayer object at 0x000000001BBFF2E8>, <netz.layers.DenseLayer object at 0x000000001BBFF278>, <netz.layers.OutputLayer object at 0x000000001A7F3F28>],\n",
        "     updater=<netz.updaters.Nesterov object at 0x000000001BBFFCC0>,\n",
        "     verbose=1)"
       ]
      }
     ],
     "prompt_number": 23
    },
    {
     "cell_type": "code",
     "collapsed": false,
     "input": [
      "plot_loss(net1b)"
     ],
     "language": "python",
     "metadata": {},
     "outputs": [
      {
       "metadata": {},
       "output_type": "display_data",
       "png": "[encoded data removed]",
       "text": [
        "<matplotlib.figure.Figure at 0x1c59f748>"
       ]
      }
     ],
     "prompt_number": 24
    },
    {
     "cell_type": "heading",
     "level": 3,
     "metadata": {},
     "source": [
      "Regularization"
     ]
    },
    {
     "cell_type": "heading",
     "level": 4,
     "metadata": {},
     "source": [
      "Here we want to regularize the hidden layer by using L2 regularizaton. We don't regularize the other layers."
     ]
    },
    {
     "cell_type": "code",
     "collapsed": false,
     "input": [
      "layers1c = [InputLayer(),\n",
      "           DenseLayer(100, lambda2=1),\n",
      "           OutputLayer()]"
     ],
     "language": "python",
     "metadata": {},
     "outputs": [],
     "prompt_number": 25
    },
    {
     "cell_type": "code",
     "collapsed": false,
     "input": [
      "net1c = NeuralNet(layers1c, cost_function=crossentropy, verbose=1)"
     ],
     "language": "python",
     "metadata": {},
     "outputs": [],
     "prompt_number": 26
    },
    {
     "cell_type": "code",
     "collapsed": false,
     "input": [
      "%time net1c.fit(X, y, max_iter=25)"
     ],
     "language": "python",
     "metadata": {},
     "outputs": [
      {
       "output_type": "stream",
       "stream": "stdout",
       "text": [
        "# ~=* Neural Network with 79510 learnable parameters *=~ \n",
        "\n",
        "\n",
        "## Layer information\n",
        "  # | name         | output shape       |        total \n",
        "----|--------------|--------------------|--------------\n",
        " 0  | input0       | (None, 784)        |          784\n",
        " 1  | dense0       | (None, 100)        |          100\n",
        " 2  | output0      | (None, 10)         |           10\n",
        "\n",
        "\n",
        "## Training Information\n",
        " Epoch | Train loss | Valid loss | Train/Val | Valid acc | Dur\n",
        "-------|------------|------------|-----------|-----------|------"
       ]
      },
      {
       "output_type": "stream",
       "stream": "stdout",
       "text": [
        "\n",
        "     0 |  72.965873 |  55.964693 |    1.304  |  0.2740   | 0.2s"
       ]
      },
      {
       "output_type": "stream",
       "stream": "stdout",
       "text": [
        "\n",
        "     1 |  44.805075 |  34.548641 |    1.297  |  0.4919   | 0.2s"
       ]
      },
      {
       "output_type": "stream",
       "stream": "stdout",
       "text": [
        "\n",
        "     2 |  27.801142 |  21.606192 |    1.287  |  0.6189   | 0.2s"
       ]
      },
      {
       "output_type": "stream",
       "stream": "stdout",
       "text": [
        "\n",
        "     3 |  17.523387 |  13.781065 |    1.272  |  0.6787   | 0.2s"
       ]
      },
      {
       "output_type": "stream",
       "stream": "stdout",
       "text": [
        "\n",
        "     4 |  11.309732 |   9.049782 |    1.250  |  0.7073   | 0.2s"
       ]
      },
      {
       "output_type": "stream",
       "stream": "stdout",
       "text": [
        "\n",
        "     5 |   7.552638 |   6.188520 |    1.220  |  0.7248   | 0.3s"
       ]
      },
      {
       "output_type": "stream",
       "stream": "stdout",
       "text": [
        "\n",
        "     6 |   5.280026 |   4.457162 |    1.185  |  0.7360   | 0.2s"
       ]
      },
      {
       "output_type": "stream",
       "stream": "stdout",
       "text": [
        "\n",
        "     7 |   3.904262 |   3.408389 |    1.145  |  0.7484   | 0.3s"
       ]
      },
      {
       "output_type": "stream",
       "stream": "stdout",
       "text": [
        "\n",
        "     8 |   3.070275 |   2.771960 |    1.108  |  0.7497   | 0.2s"
       ]
      },
      {
       "output_type": "stream",
       "stream": "stdout",
       "text": [
        "\n",
        "     9 |   2.563578 |   2.384644 |    1.075  |  0.7572   | 0.2s"
       ]
      },
      {
       "output_type": "stream",
       "stream": "stdout",
       "text": [
        "\n",
        "    10 |   2.254626 |   2.147850 |    1.050  |  0.7621   | 0.2s"
       ]
      },
      {
       "output_type": "stream",
       "stream": "stdout",
       "text": [
        "\n",
        "    11 |   2.065170 |   2.002027 |    1.032  |  0.7634   | 0.2s"
       ]
      },
      {
       "output_type": "stream",
       "stream": "stdout",
       "text": [
        "\n",
        "    12 |   1.947946 |   1.911200 |    1.019  |  0.7684   | 0.2s"
       ]
      },
      {
       "output_type": "stream",
       "stream": "stdout",
       "text": [
        "\n",
        "    13 |   1.874399 |   1.853634 |    1.011  |  0.7721   | 0.2s"
       ]
      },
      {
       "output_type": "stream",
       "stream": "stdout",
       "text": [
        "\n",
        "    14 |   1.827277 |   1.816198 |    1.006  |  0.7733   | 0.2s"
       ]
      },
      {
       "output_type": "stream",
       "stream": "stdout",
       "text": [
        "\n",
        "    15 |   1.796155 |   1.790956 |    1.003  |  0.7771   | 0.2s"
       ]
      },
      {
       "output_type": "stream",
       "stream": "stdout",
       "text": [
        "\n",
        "    16 |   1.774733 |   1.773112 |    1.001  |  0.7783   | 0.2s"
       ]
      },
      {
       "output_type": "stream",
       "stream": "stdout",
       "text": [
        "\n",
        "    17 |   1.759204 |   1.759769 |    1.000  |  0.7796   | 0.2s"
       ]
      },
      {
       "output_type": "stream",
       "stream": "stdout",
       "text": [
        "\n",
        "    18 |   1.747266 |   1.749175 |    0.999  |  0.7821   | 0.2s"
       ]
      },
      {
       "output_type": "stream",
       "stream": "stdout",
       "text": [
        "\n",
        "    19 |   1.737528 |   1.740271 |    0.998  |  0.7833   | 0.2s"
       ]
      },
      {
       "output_type": "stream",
       "stream": "stdout",
       "text": [
        "\n",
        "    20 |   1.729150 |   1.732416 |    0.998  |  0.7846   | 0.2s"
       ]
      },
      {
       "output_type": "stream",
       "stream": "stdout",
       "text": [
        "\n",
        "    21 |   1.721621 |   1.725224 |    0.998  |  0.7846   | 0.2s"
       ]
      },
      {
       "output_type": "stream",
       "stream": "stdout",
       "text": [
        "\n",
        "    22 |   1.714634 |   1.718460 |    0.998  |  0.7858   | 0.2s"
       ]
      },
      {
       "output_type": "stream",
       "stream": "stdout",
       "text": [
        "\n",
        "    23 |   1.708004 |   1.711984 |    0.998  |  0.7870   | 0.2s"
       ]
      },
      {
       "output_type": "stream",
       "stream": "stdout",
       "text": [
        "\n",
        "    24 |   1.701617 |   1.705707 |    0.998  |  0.7870   | 0.2s"
       ]
      },
      {
       "output_type": "stream",
       "stream": "stdout",
       "text": [
        "\n",
        "Wall time: 7.07 s\n"
       ]
      },
      {
       "metadata": {},
       "output_type": "pyout",
       "prompt_number": 27,
       "text": [
        "NeuralNet(cost_function=<function crossentropy at 0x0000000016915518>,\n",
        "     eval_size=0.2,\n",
        "     iterator=<nolearn.lasagne.BatchIterator object at 0x0000000016BD1E80>,\n",
        "     lambda2=None,\n",
        "     layers=[<netz.layers.InputLayer object at 0x000000001C7E7EF0>, <netz.layers.DenseLayer object at 0x000000001C7E7E10>, <netz.layers.OutputLayer object at 0x000000001C5E5D68>],\n",
        "     updater=<netz.updaters.SGD object at 0x0000000016BD1E48>, verbose=1)"
       ]
      }
     ],
     "prompt_number": 27
    },
    {
     "cell_type": "heading",
     "level": 4,
     "metadata": {},
     "source": [
      "The regularized layer's weights are much smaller, as expected from regularization."
     ]
    },
    {
     "cell_type": "code",
     "collapsed": false,
     "input": [
      "mean_wo_reg = np.abs(net1b.layers[1].W.get_value()).mean()\n",
      "mean_with_reg = np.abs(net1c.layers[1].W.get_value()).mean()\n",
      "print(\"Consequences of turning on regularization:\")\n",
      "print(\"Mean absolute weights before: {:.5f}.\".format(mean_wo_reg))\n",
      "print(\"Mean absolute weights after:  {:.5f}.\".format(mean_with_reg))"
     ],
     "language": "python",
     "metadata": {},
     "outputs": [
      {
       "output_type": "stream",
       "stream": "stdout",
       "text": [
        "Consequences of turning on regularization:\n",
        "Mean absolute weights before: 0.04308.\n",
        "Mean absolute weights after:  0.00165.\n"
       ]
      }
     ],
     "prompt_number": 28
    },
    {
     "cell_type": "code",
     "collapsed": false,
     "input": [
      "mean_wo_reg = np.abs(net1b.layers[2].W.get_value()).mean()\n",
      "mean_with_reg = np.abs(net1c.layers[2].W.get_value()).mean()\n",
      "print(\"Output layer is unregularized:\")\n",
      "print(\"Mean absolute weights before: {:.5f}.\".format(mean_wo_reg))\n",
      "print(\"Mean absolute weights after:  {:.5f}.\".format(mean_with_reg))"
     ],
     "language": "python",
     "metadata": {},
     "outputs": [
      {
       "output_type": "stream",
       "stream": "stdout",
       "text": [
        "Output layer is unregularized:\n",
        "Mean absolute weights before: 0.20509.\n",
        "Mean absolute weights after:  0.13764.\n"
       ]
      }
     ],
     "prompt_number": 29
    },
    {
     "cell_type": "code",
     "collapsed": false,
     "input": [
      "mean_wo_reg = np.abs(net1b.layers[1].b.get_value()).mean()\n",
      "mean_with_reg = np.abs(net1c.layers[1].b.get_value()).mean()\n",
      "print(\"As is the bias of the regularized layer:\")\n",
      "print(\"Mean absolute bias before: {:.5f}.\".format(mean_wo_reg))\n",
      "print(\"Mean absolute bias after:  {:.5f}.\".format(mean_with_reg))"
     ],
     "language": "python",
     "metadata": {},
     "outputs": [
      {
       "output_type": "stream",
       "stream": "stdout",
       "text": [
        "As is the bias of the regularized layer:\n",
        "Mean absolute bias before: 0.11452.\n",
        "Mean absolute bias after:  0.11820.\n"
       ]
      }
     ],
     "prompt_number": 30
    },
    {
     "cell_type": "heading",
     "level": 2,
     "metadata": {},
     "source": [
      "2 hidden layers"
     ]
    },
    {
     "cell_type": "markdown",
     "metadata": {},
     "source": [
      "An example with 2 hidden layers."
     ]
    },
    {
     "cell_type": "code",
     "collapsed": false,
     "input": [
      "layers2 = [InputLayer(),\n",
      "           DenseLayer(200),\n",
      "           DenseLayer(200),\n",
      "           OutputLayer()]"
     ],
     "language": "python",
     "metadata": {},
     "outputs": [],
     "prompt_number": 31
    },
    {
     "cell_type": "code",
     "collapsed": false,
     "input": [
      "net2 = NeuralNet(layers2, updater=Nesterov(), verbose=1)"
     ],
     "language": "python",
     "metadata": {},
     "outputs": [],
     "prompt_number": 32
    },
    {
     "cell_type": "code",
     "collapsed": false,
     "input": [
      "%time net2.fit(X, y, max_iter=25)"
     ],
     "language": "python",
     "metadata": {},
     "outputs": [
      {
       "output_type": "stream",
       "stream": "stdout",
       "text": [
        "# ~=* Neural Network with 199210 learnable parameters *=~ \n",
        "\n",
        "\n",
        "## Layer information\n",
        "  # | name         | output shape       |        total \n",
        "----|--------------|--------------------|--------------\n",
        " 0  | input0       | (None, 784)        |          784\n",
        " 1  | dense0       | (None, 200)        |          200\n",
        " 2  | dense1       | (None, 200)        |          200\n",
        " 3  | output0      | (None, 10)         |           10\n",
        "\n",
        "\n",
        "## Training Information\n",
        " Epoch | Train loss | Valid loss | Train/Val | Valid acc | Dur\n",
        "-------|------------|------------|-----------|-----------|------"
       ]
      },
      {
       "output_type": "stream",
       "stream": "stdout",
       "text": [
        "\n",
        "     0 |   2.322417 |   2.197377 |    1.057  |  0.2267   | 0.5s"
       ]
      },
      {
       "output_type": "stream",
       "stream": "stdout",
       "text": [
        "\n",
        "     1 |   2.115716 |   2.010126 |    1.053  |  0.5479   | 0.5s"
       ]
      },
      {
       "output_type": "stream",
       "stream": "stdout",
       "text": [
        "\n",
        "     2 |   1.920712 |   1.796415 |    1.069  |  0.6127   | 0.5s"
       ]
      },
      {
       "output_type": "stream",
       "stream": "stdout",
       "text": [
        "\n",
        "     3 |   1.692781 |   1.556723 |    1.087  |  0.6687   | 0.5s"
       ]
      },
      {
       "output_type": "stream",
       "stream": "stdout",
       "text": [
        "\n",
        "     4 |   1.452506 |   1.323563 |    1.097  |  0.7198   | 0.5s"
       ]
      },
      {
       "output_type": "stream",
       "stream": "stdout",
       "text": [
        "\n",
        "     5 |   1.233735 |   1.125615 |    1.096  |  0.7472   | 0.5s"
       ]
      },
      {
       "output_type": "stream",
       "stream": "stdout",
       "text": [
        "\n",
        "     6 |   1.055697 |   0.970824 |    1.087  |  0.7758   | 0.5s"
       ]
      },
      {
       "output_type": "stream",
       "stream": "stdout",
       "text": [
        "\n",
        "     7 |   0.918831 |   0.853121 |    1.077  |  0.7970   | 0.4s"
       ]
      },
      {
       "output_type": "stream",
       "stream": "stdout",
       "text": [
        "\n",
        "     8 |   0.814753 |   0.763081 |    1.068  |  0.8157   | 0.4s"
       ]
      },
      {
       "output_type": "stream",
       "stream": "stdout",
       "text": [
        "\n",
        "     9 |   0.734386 |   0.692934 |    1.060  |  0.8331   | 0.5s"
       ]
      },
      {
       "output_type": "stream",
       "stream": "stdout",
       "text": [
        "\n",
        "    10 |   0.670827 |   0.637200 |    1.053  |  0.8456   | 0.5s"
       ]
      },
      {
       "output_type": "stream",
       "stream": "stdout",
       "text": [
        "\n",
        "    11 |   0.619365 |   0.592119 |    1.046  |  0.8543   | 0.5s"
       ]
      },
      {
       "output_type": "stream",
       "stream": "stdout",
       "text": [
        "\n",
        "    12 |   0.576835 |   0.555086 |    1.039  |  0.8667   | 0.6s"
       ]
      },
      {
       "output_type": "stream",
       "stream": "stdout",
       "text": [
        "\n",
        "    13 |   0.541069 |   0.524257 |    1.032  |  0.8730   | 0.5s"
       ]
      },
      {
       "output_type": "stream",
       "stream": "stdout",
       "text": [
        "\n",
        "    14 |   0.510546 |   0.498294 |    1.025  |  0.8780   | 0.4s"
       ]
      },
      {
       "output_type": "stream",
       "stream": "stdout",
       "text": [
        "\n",
        "    15 |   0.484175 |   0.476208 |    1.017  |  0.8804   | 0.8s"
       ]
      },
      {
       "output_type": "stream",
       "stream": "stdout",
       "text": [
        "\n",
        "    16 |   0.461155 |   0.457251 |    1.009  |  0.8854   | 0.7s"
       ]
      },
      {
       "output_type": "stream",
       "stream": "stdout",
       "text": [
        "\n",
        "    17 |   0.440879 |   0.440850 |    1.000  |  0.8867   | 0.6s"
       ]
      },
      {
       "output_type": "stream",
       "stream": "stdout",
       "text": [
        "\n",
        "    18 |   0.422878 |   0.426551 |    0.991  |  0.8879   | 0.7s"
       ]
      },
      {
       "output_type": "stream",
       "stream": "stdout",
       "text": [
        "\n",
        "    19 |   0.406781 |   0.413998 |    0.983  |  0.8892   | 0.7s"
       ]
      },
      {
       "output_type": "stream",
       "stream": "stdout",
       "text": [
        "\n",
        "    20 |   0.392286 |   0.402903 |    0.974  |  0.8904   | 0.8s"
       ]
      },
      {
       "output_type": "stream",
       "stream": "stdout",
       "text": [
        "\n",
        "    21 |   0.379147 |   0.393033 |    0.965  |  0.8929   | 0.6s"
       ]
      },
      {
       "output_type": "stream",
       "stream": "stdout",
       "text": [
        "\n",
        "    22 |   0.367162 |   0.384200 |    0.956  |  0.8941   | 1.2s"
       ]
      },
      {
       "output_type": "stream",
       "stream": "stdout",
       "text": [
        "\n",
        "    23 |   0.356163 |   0.376247 |    0.947  |  0.8929   | 1.0s"
       ]
      },
      {
       "output_type": "stream",
       "stream": "stdout",
       "text": [
        "\n",
        "    24 |   0.346009 |   0.369049 |    0.938  |  0.8941   | 0.4s"
       ]
      },
      {
       "output_type": "stream",
       "stream": "stdout",
       "text": [
        "\n",
        "Wall time: 17 s\n"
       ]
      },
      {
       "metadata": {},
       "output_type": "pyout",
       "prompt_number": 33,
       "text": [
        "NeuralNet(cost_function=<function crossentropy at 0x0000000016915518>,\n",
        "     eval_size=0.2,\n",
        "     iterator=<nolearn.lasagne.BatchIterator object at 0x0000000016BD1E80>,\n",
        "     lambda2=None,\n",
        "     layers=[<netz.layers.InputLayer object at 0x00000000204D4E10>, <netz.layers.DenseLayer object at 0x00000000204D4C50>, <netz.layers.DenseLayer object at 0x00000000204B2048>, <netz.layers.OutputLayer object at 0x0000000019C6B5C0>],\n",
        "     updater=<netz.updaters.Nesterov object at 0x00000000204D4B70>,\n",
        "     verbose=1)"
       ]
      }
     ],
     "prompt_number": 33
    },
    {
     "cell_type": "code",
     "collapsed": false,
     "input": [
      "plot_loss(net2)"
     ],
     "language": "python",
     "metadata": {},
     "outputs": [
      {
       "metadata": {},
       "output_type": "display_data",
       "png": "[encoded data removed]",
       "text": [
        "<matplotlib.figure.Figure at 0x20f09198>"
       ]
      }
     ],
     "prompt_number": 34
    },
    {
     "cell_type": "code",
     "collapsed": false,
     "input": [
      "accuracy = net2.score(X_valid, y_valid, accuracy=True)"
     ],
     "language": "python",
     "metadata": {},
     "outputs": [],
     "prompt_number": 35
    },
    {
     "cell_type": "code",
     "collapsed": false,
     "input": [
      "print(\"Accuracy: {:.4f}\".format(accuracy))"
     ],
     "language": "python",
     "metadata": {},
     "outputs": [
      {
       "output_type": "stream",
       "stream": "stdout",
       "text": [
        "Accuracy: 0.8941\n"
       ]
      }
     ],
     "prompt_number": 36
    },
    {
     "cell_type": "heading",
     "level": 3,
     "metadata": {},
     "source": [
      "Splitting and joining outputs"
     ]
    },
    {
     "cell_type": "code",
     "collapsed": false,
     "input": [
      "layers3 = [InputLayer(),\n",
      "           DenseLayer(100),\n",
      "           DenseLayer(200),\n",
      "           OutputLayer()]\n",
      "layers3.insert(3, InputConcatLayer([layers3[1], layers3[2]]))\n",
      "layers3[1].set_next_layer(layers3[3])\n",
      "layers3[2].set_prev_layer(layers3[0])"
     ],
     "language": "python",
     "metadata": {},
     "outputs": [],
     "prompt_number": 37
    },
    {
     "cell_type": "code",
     "collapsed": false,
     "input": [
      "net3 = NeuralNet(\n",
      "    layers3, cost_function=crossentropy,\n",
      "    updater=Nesterov(),\n",
      "    eval_size=0.2,\n",
      "    verbose=1,\n",
      ")"
     ],
     "language": "python",
     "metadata": {},
     "outputs": [],
     "prompt_number": 38
    },
    {
     "cell_type": "code",
     "collapsed": false,
     "input": [
      "%time net3.fit(X, y, max_iter=25)"
     ],
     "language": "python",
     "metadata": {},
     "outputs": [
      {
       "output_type": "stream",
       "stream": "stdout",
       "text": [
        "# ~=* Neural Network with 238510 learnable parameters *=~ \n",
        "\n",
        "\n",
        "## Layer information\n",
        "  # | name         | output shape       |        total \n",
        "----|--------------|--------------------|--------------\n",
        " 0  | input0       | (None, 784)        |          784\n",
        " 1  | dense0       | (None, 100)        |          100\n",
        " 2  | dense1       | (None, 200)        |          200\n",
        " 3  | inputconcat0 | (None, 300)        |          300\n",
        " 4  | output0      | (None, 10)         |           10\n",
        "\n",
        "\n",
        "## Training Information\n",
        " Epoch | Train loss | Valid loss | Train/Val | Valid acc | Dur\n",
        "-------|------------|------------|-----------|-----------|------"
       ]
      },
      {
       "output_type": "stream",
       "stream": "stdout",
       "text": [
        "\n",
        "     0 |   1.819691 |   1.163856 |    1.564  |  0.7609   | 0.5s"
       ]
      },
      {
       "output_type": "stream",
       "stream": "stdout",
       "text": [
        "\n",
        "     1 |   0.904863 |   0.733974 |    1.233  |  0.8269   | 0.5s"
       ]
      },
      {
       "output_type": "stream",
       "stream": "stdout",
       "text": [
        "\n",
        "     2 |   0.647813 |   0.597610 |    1.084  |  0.8493   | 0.5s"
       ]
      },
      {
       "output_type": "stream",
       "stream": "stdout",
       "text": [
        "\n",
        "     3 |   0.544787 |   0.528145 |    1.032  |  0.8506   | 0.6s"
       ]
      },
      {
       "output_type": "stream",
       "stream": "stdout",
       "text": [
        "\n",
        "     4 |   0.484906 |   0.484448 |    1.001  |  0.8618   | 0.6s"
       ]
      },
      {
       "output_type": "stream",
       "stream": "stdout",
       "text": [
        "\n",
        "     5 |   0.443940 |   0.453917 |    0.978  |  0.8705   | 0.6s"
       ]
      },
      {
       "output_type": "stream",
       "stream": "stdout",
       "text": [
        "\n",
        "     6 |   0.413324 |   0.431136 |    0.959  |  0.8780   | 0.6s"
       ]
      },
      {
       "output_type": "stream",
       "stream": "stdout",
       "text": [
        "\n",
        "     7 |   0.389130 |   0.413398 |    0.941  |  0.8829   | 0.6s"
       ]
      },
      {
       "output_type": "stream",
       "stream": "stdout",
       "text": [
        "\n",
        "     8 |   0.369247 |   0.399132 |    0.925  |  0.8867   | 0.5s"
       ]
      },
      {
       "output_type": "stream",
       "stream": "stdout",
       "text": [
        "\n",
        "     9 |   0.352419 |   0.387363 |    0.910  |  0.8904   | 0.6s"
       ]
      },
      {
       "output_type": "stream",
       "stream": "stdout",
       "text": [
        "\n",
        "    10 |   0.337848 |   0.377456 |    0.895  |  0.8917   | 0.5s"
       ]
      },
      {
       "output_type": "stream",
       "stream": "stdout",
       "text": [
        "\n",
        "    11 |   0.325002 |   0.368979 |    0.881  |  0.8917   | 0.5s"
       ]
      },
      {
       "output_type": "stream",
       "stream": "stdout",
       "text": [
        "\n",
        "    12 |   0.313510 |   0.361629 |    0.867  |  0.8929   | 0.5s"
       ]
      },
      {
       "output_type": "stream",
       "stream": "stdout",
       "text": [
        "\n",
        "    13 |   0.303104 |   0.355184 |    0.853  |  0.8954   | 0.4s"
       ]
      },
      {
       "output_type": "stream",
       "stream": "stdout",
       "text": [
        "\n",
        "    14 |   0.293587 |   0.349480 |    0.840  |  0.8979   | 0.5s"
       ]
      },
      {
       "output_type": "stream",
       "stream": "stdout",
       "text": [
        "\n",
        "    15 |   0.284810 |   0.344391 |    0.827  |  0.8991   | 0.4s"
       ]
      },
      {
       "output_type": "stream",
       "stream": "stdout",
       "text": [
        "\n",
        "    16 |   0.276657 |   0.339820 |    0.814  |  0.8991   | 0.4s"
       ]
      },
      {
       "output_type": "stream",
       "stream": "stdout",
       "text": [
        "\n",
        "    17 |   0.269037 |   0.335690 |    0.801  |  0.8991   | 0.5s"
       ]
      },
      {
       "output_type": "stream",
       "stream": "stdout",
       "text": [
        "\n",
        "    18 |   0.261878 |   0.331938 |    0.789  |  0.8979   | 0.4s"
       ]
      },
      {
       "output_type": "stream",
       "stream": "stdout",
       "text": [
        "\n",
        "    19 |   0.255122 |   0.328514 |    0.777  |  0.8991   | 0.5s"
       ]
      },
      {
       "output_type": "stream",
       "stream": "stdout",
       "text": [
        "\n",
        "    20 |   0.248721 |   0.325376 |    0.764  |  0.9016   | 0.4s"
       ]
      },
      {
       "output_type": "stream",
       "stream": "stdout",
       "text": [
        "\n",
        "    21 |   0.242635 |   0.322488 |    0.752  |  0.9016   | 0.5s"
       ]
      },
      {
       "output_type": "stream",
       "stream": "stdout",
       "text": [
        "\n",
        "    22 |   0.236830 |   0.319822 |    0.741  |  0.9016   | 0.5s"
       ]
      },
      {
       "output_type": "stream",
       "stream": "stdout",
       "text": [
        "\n",
        "    23 |   0.231279 |   0.317352 |    0.729  |  0.9016   | 0.5s"
       ]
      },
      {
       "output_type": "stream",
       "stream": "stdout",
       "text": [
        "\n",
        "    24 |   0.225958 |   0.315058 |    0.717  |  0.9029   | 0.4s"
       ]
      },
      {
       "output_type": "stream",
       "stream": "stdout",
       "text": [
        "\n",
        "Wall time: 14.7 s\n"
       ]
      },
      {
       "metadata": {},
       "output_type": "pyout",
       "prompt_number": 39,
       "text": [
        "NeuralNet(cost_function=<function crossentropy at 0x0000000016915518>,\n",
        "     eval_size=0.2,\n",
        "     iterator=<nolearn.lasagne.BatchIterator object at 0x0000000016BD1E80>,\n",
        "     lambda2=None,\n",
        "     layers=[<netz.layers.InputLayer object at 0x000000001C7DED30>, <netz.layers.DenseLayer object at 0x000000001C7DE198>, <netz.layers.DenseLayer object at 0x000000001C34C860>, <netz.layers.InputConcatLayer object at 0x000000001C7DE0B8>, <netz.layers.OutputLayer object at 0x000000001C7DEA90>],\n",
        "     updater=<netz.updaters.Nesterov object at 0x000000001C679EB8>,\n",
        "     verbose=1)"
       ]
      }
     ],
     "prompt_number": 39
    },
    {
     "cell_type": "code",
     "collapsed": false,
     "input": [
      "plot_loss(net3)"
     ],
     "language": "python",
     "metadata": {},
     "outputs": [
      {
       "metadata": {},
       "output_type": "display_data",
       "png": "[encoded data removed]",
       "text": [
        "<matplotlib.figure.Figure at 0x23563518>"
       ]
      }
     ],
     "prompt_number": 40
    },
    {
     "cell_type": "code",
     "collapsed": false,
     "input": [
      "accuracy = net3.score(X_valid, y_valid, accuracy=True)"
     ],
     "language": "python",
     "metadata": {},
     "outputs": [],
     "prompt_number": 41
    },
    {
     "cell_type": "code",
     "collapsed": false,
     "input": [
      "print(\"Accuracy: {:.4f}\".format(accuracy))"
     ],
     "language": "python",
     "metadata": {},
     "outputs": [
      {
       "output_type": "stream",
       "stream": "stdout",
       "text": [
        "Accuracy: 0.9029\n"
       ]
      }
     ],
     "prompt_number": 42
    }
   ],
   "metadata": {}
  }
 ]
}