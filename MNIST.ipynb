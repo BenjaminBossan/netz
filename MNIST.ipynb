{
 "metadata": {
  "name": "",
  "signature": "sha256:4245c6a3fd3f9006c636e3f0e92160f8eeb259c416a5c2e400fab9bbeadef1b8"
 },
 "nbformat": 3,
 "nbformat_minor": 0,
 "worksheets": [
  {
   "cells": [
    {
     "cell_type": "heading",
     "level": 1,
     "metadata": {},
     "source": [
      "Features of Netz"
     ]
    },
    {
     "cell_type": "markdown",
     "metadata": {},
     "source": [
      "Showing off some nice features of _netz_ by example of the MNIST data set."
     ]
    },
    {
     "cell_type": "markdown",
     "metadata": {},
     "source": [
      "Table of contents\n",
      "* [Simple example](#1-hidden-layer)\n",
      "* [Logging](#Logging)\n",
      "* [Different update functions](#1-hidden-layer-using-different-update-function)\n",
      "* [L2 regularization](#L2-regularization)\n",
      "* [2 hidden layers](#2-hidden-layers)\n",
      "* [Splitting and joining outputs](#Splitting-and-joining-outputs)\n",
      "* [Multiple inputs](#Multiple-inputs)\n",
      "* [Regression](#Regression)\n",
      "* [Saving and loading parameters](#Saving-and-loading-parameters)"
     ]
    },
    {
     "cell_type": "heading",
     "level": 2,
     "metadata": {},
     "source": [
      "Imports"
     ]
    },
    {
     "cell_type": "code",
     "collapsed": false,
     "input": [
      "# -*- coding: utf-8 -*-\n",
      "from __future__ import division\n",
      "from copy import deepcopy"
     ],
     "language": "python",
     "metadata": {},
     "outputs": [],
     "prompt_number": 1
    },
    {
     "cell_type": "code",
     "collapsed": false,
     "input": [
      "import numpy as np\n",
      "import pandas as pd\n",
      "import matplotlib.pyplot as plt\n",
      "from sklearn.decomposition import PCA, RandomizedPCA\n",
      "import theano\n",
      "import theano.tensor as T"
     ],
     "language": "python",
     "metadata": {},
     "outputs": [],
     "prompt_number": 2
    },
    {
     "cell_type": "code",
     "collapsed": false,
     "input": [
      "from netz.layers import InputLayer\n",
      "from netz.layers import DenseLayer\n",
      "from netz.layers import OutputLayer\n",
      "from netz.layers import RegressionOutputLayer\n",
      "from netz.layers import InputConcatLayer\n",
      "from netz.layers import PartialInputLayer\n",
      "from netz.neuralnet import NeuralNet, MultipleInputNet\n",
      "from netz.costfunctions import mse, crossentropy\n",
      "from netz.nonlinearities import softmax\n",
      "from netz.iterators import MultipleInputsBatchIterator\n",
      "from netz.updaters import Momentum, Nesterov, SGD\n",
      "from netz.visualize import plot_loss"
     ],
     "language": "python",
     "metadata": {},
     "outputs": [],
     "prompt_number": 3
    },
    {
     "cell_type": "code",
     "collapsed": false,
     "input": [
      "np.random.seed(17411)"
     ],
     "language": "python",
     "metadata": {},
     "outputs": [],
     "prompt_number": 4
    },
    {
     "cell_type": "code",
     "collapsed": false,
     "input": [
      "%pylab inline"
     ],
     "language": "python",
     "metadata": {},
     "outputs": [
      {
       "output_type": "stream",
       "stream": "stdout",
       "text": [
        "Populating the interactive namespace from numpy and matplotlib\n"
       ]
      }
     ],
     "prompt_number": 5
    },
    {
     "cell_type": "heading",
     "level": 2,
     "metadata": {},
     "source": [
      "Data"
     ]
    },
    {
     "cell_type": "markdown",
     "metadata": {},
     "source": [
      "Make sure you have the MNIST data set ready. You can get it here: http://www.kaggle.com/c/digit-recognizer/data."
     ]
    },
    {
     "cell_type": "heading",
     "level": 3,
     "metadata": {},
     "source": [
      "Load data"
     ]
    },
    {
     "cell_type": "code",
     "collapsed": false,
     "input": [
      "df = pd.read_csv('../data/mnist.csv')"
     ],
     "language": "python",
     "metadata": {},
     "outputs": [],
     "prompt_number": 6
    },
    {
     "cell_type": "code",
     "collapsed": false,
     "input": [
      "y = df.values[:, 0].copy().astype(np.int32)\n",
      "X = df.values[:, 1:].copy().astype(np.float32) / 255"
     ],
     "language": "python",
     "metadata": {},
     "outputs": [],
     "prompt_number": 7
    },
    {
     "cell_type": "code",
     "collapsed": false,
     "input": [
      "X = (X - X.mean()) / X.std()"
     ],
     "language": "python",
     "metadata": {},
     "outputs": [],
     "prompt_number": 8
    },
    {
     "cell_type": "heading",
     "level": 3,
     "metadata": {},
     "source": [
      "Plot data"
     ]
    },
    {
     "cell_type": "code",
     "collapsed": false,
     "input": [
      "figs, axes = plt.subplots(4, 4, figsize=(6, 6))\n",
      "for i in range(4):\n",
      "    for j in range(4):\n",
      "        axes[i, j].imshow(-X[i + 4 * j].reshape(28, 28), cmap='gray', interpolation='nearest')\n",
      "        axes[i, j].set_xticks([])\n",
      "        axes[i, j].set_yticks([])\n",
      "        axes[i, j].set_title(\"Label: {}\".format(y[i + 4 * j]))\n",
      "        axes[i, j].axis('off')"
     ],
     "language": "python",
     "metadata": {},
     "outputs": [
      {
       "metadata": {},
       "output_type": "display_data",
       "png": "[encoded data removed]",
       "text": [
        "<matplotlib.figure.Figure at 0x29a47e48>"
       ]
      }
     ],
     "prompt_number": 9
    },
    {
     "cell_type": "heading",
     "level": 2,
     "metadata": {},
     "source": [
      "Neural nets"
     ]
    },
    {
     "cell_type": "heading",
     "level": 3,
     "metadata": {},
     "source": [
      "1 hidden layer"
     ]
    },
    {
     "cell_type": "heading",
     "level": 4,
     "metadata": {},
     "source": [
      "Here we want to train a simple neural net with just one hidden layer that has 100 units. For updating, we use vanilla stochastic gradient descent (SGD) with a learning rate  of 0.01, which is the default."
     ]
    },
    {
     "cell_type": "code",
     "collapsed": false,
     "input": [
      "layers1 = [InputLayer(),\n",
      "           DenseLayer(100),\n",
      "           OutputLayer()]"
     ],
     "language": "python",
     "metadata": {},
     "outputs": [],
     "prompt_number": 10
    },
    {
     "cell_type": "code",
     "collapsed": false,
     "input": [
      "net1 = NeuralNet(layers1, verbose=1)"
     ],
     "language": "python",
     "metadata": {},
     "outputs": [],
     "prompt_number": 11
    },
    {
     "cell_type": "markdown",
     "metadata": {},
     "source": [
      "When you set verbose to 1, during training, useful information will be printed."
     ]
    },
    {
     "cell_type": "code",
     "collapsed": false,
     "input": [
      "%time net1.fit(X, y, max_iter=10)"
     ],
     "language": "python",
     "metadata": {},
     "outputs": [
      {
       "output_type": "stream",
       "stream": "stdout",
       "text": [
        "# Neural Network with 79510 learnable parameters\n",
        "\n",
        "\n",
        "## Layer information\n",
        "|   # | name    |   output shape |   total |\n",
        "|----:|:--------|---------------:|--------:|\n",
        "|   0 | input0  |            784 |     784 |\n",
        "|   1 | dense0  |            100 |     100 |\n",
        "|   2 | output0 |             10 |      10 |\n",
        "\n",
        "## Training Information\n"
       ]
      },
      {
       "output_type": "stream",
       "stream": "stdout",
       "text": [
        "\n",
        "|   epoch |   train loss |   valid loss |   best |   train/val |   valid acc |    dur |"
       ]
      },
      {
       "output_type": "stream",
       "stream": "stdout",
       "text": [
        "\n",
        "|--------:|-------------:|-------------:|-------:|------------:|------------:|-------:|\n",
        "|       0 |       1.6048 |       1.1429 | 1.1429 |      1.4042 |      0.7781 | 1.2230 |\n",
        "|       1 |       0.9581 |       0.8134 | 0.8134 |      1.1778 |      0.8390 | 1.2500 |"
       ]
      },
      {
       "output_type": "stream",
       "stream": "stdout",
       "text": [
        "\n",
        "|       2 |       0.7351 |       0.6649 | 0.6649 |      1.1056 |      0.8594 | 1.1160 |"
       ]
      },
      {
       "output_type": "stream",
       "stream": "stdout",
       "text": [
        "\n",
        "|       3 |       0.6211 |       0.5800 | 0.5800 |      1.0708 |      0.8719 | 1.1500 |"
       ]
      },
      {
       "output_type": "stream",
       "stream": "stdout",
       "text": [
        "\n",
        "|       4 |       0.5510 |       0.5247 | 0.5247 |      1.0501 |      0.8800 | 1.1330 |"
       ]
      },
      {
       "output_type": "stream",
       "stream": "stdout",
       "text": [
        "\n",
        "|       5 |       0.5032 |       0.4856 | 0.4856 |      1.0362 |      0.8860 | 1.0900 |"
       ]
      },
      {
       "output_type": "stream",
       "stream": "stdout",
       "text": [
        "\n",
        "|       6 |       0.4682 |       0.4564 | 0.4564 |      1.0260 |      0.8892 | 1.1310 |"
       ]
      },
      {
       "output_type": "stream",
       "stream": "stdout",
       "text": [
        "\n",
        "|       7 |       0.4414 |       0.4335 | 0.4335 |      1.0182 |      0.8927 | 1.0830 |"
       ]
      },
      {
       "output_type": "stream",
       "stream": "stdout",
       "text": [
        "\n",
        "|       8 |       0.4200 |       0.4150 | 0.4150 |      1.0119 |      0.8958 | 1.1590 |"
       ]
      },
      {
       "output_type": "stream",
       "stream": "stdout",
       "text": [
        "\n",
        "|       9 |       0.4024 |       0.3998 | 0.3998 |      1.0067 |      0.8983 | 1.1960 |"
       ]
      },
      {
       "output_type": "stream",
       "stream": "stdout",
       "text": [
        "\n",
        "Wall time: 16.9 s\n"
       ]
      },
      {
       "metadata": {},
       "output_type": "pyout",
       "prompt_number": 12,
       "text": [
        "NeuralNet(connection_pattern=None,\n",
        "     cost_function=<function crossentropy at 0x0000000017BB4048>,\n",
        "     encoder=OneHotEncoder(categorical_features='all', dtype=dtype('int32'),\n",
        "       n_values='auto', sparse=False),\n",
        "     eval_size=0.2,\n",
        "     iterator=<nolearn.lasagne.BatchIterator object at 0x0000000017C1CDA0>,\n",
        "     lambda2=None, layers=[input0, dense0, output0], recurrent=False,\n",
        "     regression=False,\n",
        "     updater=<netz.updaters.SGD object at 0x0000000017C1CD68>, verbose=1)"
       ]
      }
     ],
     "prompt_number": 12
    },
    {
     "cell_type": "markdown",
     "metadata": {},
     "source": [
      "A short explanation of the printed information:\n",
      "\n",
      "* Layer information: general information about the neural net.\n",
      "* Training information:\n",
      "    * epoch: which training epoch (full run of all data) it is\n",
      "    * train loss: loss on your training set\n",
      "    * valid loss: loss on your holdout validation set (if *eval_size* > 0)\n",
      "    * best: the best valid loss so far\n",
      "    * train/val: ratio of train over test loss (low values indicate overfitting)\n",
      "    * valid acc: accuracy on the validation set\n",
      "    * duration of one epoch in seconds"
     ]
    },
    {
     "cell_type": "heading",
     "level": 4,
     "metadata": {},
     "source": [
      "We may continue training from here on (no cold start)."
     ]
    },
    {
     "cell_type": "code",
     "collapsed": false,
     "input": [
      "%time net1.fit(X, y, max_iter=5)"
     ],
     "language": "python",
     "metadata": {},
     "outputs": [
      {
       "output_type": "stream",
       "stream": "stdout",
       "text": [
        "## Training Information\n",
        "\n",
        "|   epoch |   train loss |   valid loss |   best |   train/val |   valid acc |    dur |"
       ]
      },
      {
       "output_type": "stream",
       "stream": "stdout",
       "text": [
        "\n",
        "|--------:|-------------:|-------------:|-------:|------------:|------------:|-------:|\n",
        "|      10 |       0.3877 |       0.3868 | 0.3868 |      1.0023 |      0.9010 | 1.0230 |\n",
        "|      11 |       0.3751 |       0.3757 | 0.3757 |      0.9984 |      0.9039 | 1.1210 |"
       ]
      },
      {
       "output_type": "stream",
       "stream": "stdout",
       "text": [
        "\n",
        "|      12 |       0.3641 |       0.3660 | 0.3660 |      0.9950 |      0.9048 | 1.1610 |"
       ]
      },
      {
       "output_type": "stream",
       "stream": "stdout",
       "text": [
        "\n",
        "|      13 |       0.3545 |       0.3574 | 0.3574 |      0.9919 |      0.9058 | 1.1010 |"
       ]
      },
      {
       "output_type": "stream",
       "stream": "stdout",
       "text": [
        "\n",
        "|      14 |       0.3458 |       0.3497 | 0.3497 |      0.9891 |      0.9067 | 1.0550 |"
       ]
      },
      {
       "output_type": "stream",
       "stream": "stdout",
       "text": [
        "\n",
        "Wall time: 6.4 s\n"
       ]
      },
      {
       "metadata": {},
       "output_type": "pyout",
       "prompt_number": 13,
       "text": [
        "NeuralNet(connection_pattern=None,\n",
        "     cost_function=<function crossentropy at 0x0000000017BB4048>,\n",
        "     encoder=OneHotEncoder(categorical_features='all', dtype=dtype('int32'),\n",
        "       n_values='auto', sparse=False),\n",
        "     eval_size=0.2,\n",
        "     iterator=<nolearn.lasagne.BatchIterator object at 0x0000000017C1CDA0>,\n",
        "     lambda2=None, layers=[input0, dense0, output0], recurrent=False,\n",
        "     regression=False,\n",
        "     updater=<netz.updaters.SGD object at 0x0000000017C1CD68>, verbose=1)"
       ]
      }
     ],
     "prompt_number": 13
    },
    {
     "cell_type": "code",
     "collapsed": false,
     "input": [
      "plot_loss(net1)"
     ],
     "language": "python",
     "metadata": {},
     "outputs": [
      {
       "metadata": {},
       "output_type": "display_data",
       "png": "[encoded data removed]",
       "text": [
        "<matplotlib.figure.Figure at 0x185e84e0>"
       ]
      }
     ],
     "prompt_number": 14
    },
    {
     "cell_type": "code",
     "collapsed": false,
     "input": [
      "X_valid, y_valid = net1.get_valid_data(X, y)"
     ],
     "language": "python",
     "metadata": {},
     "outputs": [],
     "prompt_number": 15
    },
    {
     "cell_type": "code",
     "collapsed": false,
     "input": [
      "accuracy = net1.score(X_valid, y_valid, accuracy=True)"
     ],
     "language": "python",
     "metadata": {},
     "outputs": [],
     "prompt_number": 16
    },
    {
     "cell_type": "code",
     "collapsed": false,
     "input": [
      "print(\"Accuracy: {:.4f}\".format(accuracy))"
     ],
     "language": "python",
     "metadata": {},
     "outputs": [
      {
       "output_type": "stream",
       "stream": "stdout",
       "text": [
        "Accuracy: 0.9067\n"
       ]
      }
     ],
     "prompt_number": 17
    },
    {
     "cell_type": "heading",
     "level": 4,
     "metadata": {},
     "source": [
      "If data has changed, which could result in contamination of the validation set, a _warning_ is printed."
     ]
    },
    {
     "cell_type": "code",
     "collapsed": false,
     "input": [
      "__ = net1.get_valid_data(X[1:], y[1:])"
     ],
     "language": "python",
     "metadata": {},
     "outputs": [
      {
       "output_type": "stream",
       "stream": "stderr",
       "text": [
        "netz\\neuralnet.py:363: UserWarning: Input data has changed since last usage\n",
        "  warnings.warn(\"Input data has changed since last usage\")\n"
       ]
      }
     ],
     "prompt_number": 18
    },
    {
     "cell_type": "heading",
     "level": 3,
     "metadata": {},
     "source": [
      "Logging"
     ]
    },
    {
     "cell_type": "markdown",
     "metadata": {},
     "source": [
      "All training progress is logged, even if you set verbose to 0. You can access it via the *log_* attribute."
     ]
    },
    {
     "cell_type": "code",
     "collapsed": false,
     "input": [
      "print(net1.log_)"
     ],
     "language": "python",
     "metadata": {},
     "outputs": [
      {
       "output_type": "stream",
       "stream": "stdout",
       "text": [
        "|   epoch |   train loss |   valid loss |   best |   train/val |   valid acc |    dur |\n",
        "|--------:|-------------:|-------------:|-------:|------------:|------------:|-------:|\n",
        "|       0 |       1.6048 |       1.1429 | 1.1429 |      1.4042 |      0.7781 | 1.2230 |\n",
        "|       1 |       0.9581 |       0.8134 | 0.8134 |      1.1778 |      0.8390 | 1.2500 |\n",
        "|       2 |       0.7351 |       0.6649 | 0.6649 |      1.1056 |      0.8594 | 1.1160 |\n",
        "|       3 |       0.6211 |       0.5800 | 0.5800 |      1.0708 |      0.8719 | 1.1500 |\n",
        "|       4 |       0.5510 |       0.5247 | 0.5247 |      1.0501 |      0.8800 | 1.1330 |\n",
        "|       5 |       0.5032 |       0.4856 | 0.4856 |      1.0362 |      0.8860 | 1.0900 |\n",
        "|       6 |       0.4682 |       0.4564 | 0.4564 |      1.0260 |      0.8892 | 1.1310 |\n",
        "|       7 |       0.4414 |       0.4335 | 0.4335 |      1.0182 |      0.8927 | 1.0830 |\n",
        "|       8 |       0.4200 |       0.4150 | 0.4150 |      1.0119 |      0.8958 | 1.1590 |\n",
        "|       9 |       0.4024 |       0.3998 | 0.3998 |      1.0067 |      0.8983 | 1.1960 |\n",
        "|      10 |       0.3877 |       0.3868 | 0.3868 |      1.0023 |      0.9010 | 1.0230 |\n",
        "|      11 |       0.3751 |       0.3757 | 0.3757 |      0.9984 |      0.9039 | 1.1210 |\n",
        "|      12 |       0.3641 |       0.3660 | 0.3660 |      0.9950 |      0.9048 | 1.1610 |\n",
        "|      13 |       0.3545 |       0.3574 | 0.3574 |      0.9919 |      0.9058 | 1.1010 |\n",
        "|      14 |       0.3458 |       0.3497 | 0.3497 |      0.9891 |      0.9067 | 1.0550 |\n"
       ]
      }
     ],
     "prompt_number": 19
    },
    {
     "cell_type": "markdown",
     "metadata": {},
     "source": [
      "After training, you may be well advised to save the log to a file."
     ]
    },
    {
     "cell_type": "heading",
     "level": 3,
     "metadata": {},
     "source": [
      "Alternative: build a neural network incrementally (as long as it is not yet initialized)"
     ]
    },
    {
     "cell_type": "markdown",
     "metadata": {},
     "source": [
      "You can also add new layers to your neural net with the *+* operator. If you want to start with an empty net, pass *[]* as empty layers."
     ]
    },
    {
     "cell_type": "code",
     "collapsed": false,
     "input": [
      "net1b = NeuralNet([], eval_size=0)"
     ],
     "language": "python",
     "metadata": {},
     "outputs": [],
     "prompt_number": 20
    },
    {
     "cell_type": "code",
     "collapsed": false,
     "input": [
      "net1b += InputLayer()\n",
      "net1b += DenseLayer(100)\n",
      "net1b += OutputLayer()"
     ],
     "language": "python",
     "metadata": {},
     "outputs": [],
     "prompt_number": 21
    },
    {
     "cell_type": "code",
     "collapsed": false,
     "input": [
      "net1b.fit(X, y, max_iter=5)"
     ],
     "language": "python",
     "metadata": {},
     "outputs": [
      {
       "metadata": {},
       "output_type": "pyout",
       "prompt_number": 22,
       "text": [
        "NeuralNet(connection_pattern=None,\n",
        "     cost_function=<function crossentropy at 0x0000000017BB4048>,\n",
        "     encoder=OneHotEncoder(categorical_features='all', dtype=dtype('int32'),\n",
        "       n_values='auto', sparse=False),\n",
        "     eval_size=0,\n",
        "     iterator=<nolearn.lasagne.BatchIterator object at 0x0000000017C1CDA0>,\n",
        "     lambda2=None, layers=[input0, dense0, output0], recurrent=False,\n",
        "     regression=False,\n",
        "     updater=<netz.updaters.SGD object at 0x0000000017C1CD68>, verbose=0)"
       ]
      }
     ],
     "prompt_number": 22
    },
    {
     "cell_type": "code",
     "collapsed": false,
     "input": [
      "print(net1b.log_)"
     ],
     "language": "python",
     "metadata": {},
     "outputs": [
      {
       "output_type": "stream",
       "stream": "stdout",
       "text": [
        "|   epoch |   train loss | valid loss   | best   | train/val   | valid acc   |    dur |\n",
        "|--------:|-------------:|:-------------|:-------|:------------|:------------|-------:|\n",
        "|       0 |       1.5573 |              |        |             |             | 1.0950 |\n",
        "|       1 |       0.8645 |              |        |             |             | 1.0080 |\n",
        "|       2 |       0.6633 |              |        |             |             | 1.0580 |\n",
        "|       3 |       0.5624 |              |        |             |             | 1.3690 |\n",
        "|       4 |       0.5008 |              |        |             |             | 1.4370 |\n"
       ]
      }
     ],
     "prompt_number": 23
    },
    {
     "cell_type": "markdown",
     "metadata": {},
     "source": [
      "You can access the layers of the neural net through the indexing and slicing operations."
     ]
    },
    {
     "cell_type": "code",
     "collapsed": false,
     "input": [
      "net1b[0]"
     ],
     "language": "python",
     "metadata": {},
     "outputs": [
      {
       "metadata": {},
       "output_type": "pyout",
       "prompt_number": 24,
       "text": [
        "input0"
       ]
      }
     ],
     "prompt_number": 24
    },
    {
     "cell_type": "code",
     "collapsed": false,
     "input": [
      "net1b[1:]"
     ],
     "language": "python",
     "metadata": {},
     "outputs": [
      {
       "metadata": {},
       "output_type": "pyout",
       "prompt_number": 25,
       "text": [
        "[dense0, output0]"
       ]
      }
     ],
     "prompt_number": 25
    },
    {
     "cell_type": "heading",
     "level": 3,
     "metadata": {},
     "source": [
      "1 hidden layer using different update function"
     ]
    },
    {
     "cell_type": "heading",
     "level": 4,
     "metadata": {},
     "source": [
      "Again, we just use 1 hidden layer but this time, we set a different update function for this layer."
     ]
    },
    {
     "cell_type": "code",
     "collapsed": false,
     "input": [
      "updater_dense = Momentum(learn_rate=0.005, momentum=0.95)"
     ],
     "language": "python",
     "metadata": {},
     "outputs": [],
     "prompt_number": 26
    },
    {
     "cell_type": "code",
     "collapsed": false,
     "input": [
      "updater_rest = Nesterov()"
     ],
     "language": "python",
     "metadata": {},
     "outputs": [],
     "prompt_number": 27
    },
    {
     "cell_type": "code",
     "collapsed": false,
     "input": [
      "layers1b = [InputLayer(),\n",
      "           DenseLayer(100, updater=updater_dense),\n",
      "           OutputLayer()]"
     ],
     "language": "python",
     "metadata": {},
     "outputs": [],
     "prompt_number": 28
    },
    {
     "cell_type": "code",
     "collapsed": false,
     "input": [
      "net1b = NeuralNet(layers1b, cost_function=crossentropy, updater=updater_rest, verbose=1)"
     ],
     "language": "python",
     "metadata": {},
     "outputs": [],
     "prompt_number": 29
    },
    {
     "cell_type": "code",
     "collapsed": false,
     "input": [
      "%time net1b.fit(X, y, max_iter=25)"
     ],
     "language": "python",
     "metadata": {},
     "outputs": [
      {
       "output_type": "stream",
       "stream": "stdout",
       "text": [
        "# Neural Network with 79510 learnable parameters\n",
        "\n",
        "\n",
        "## Layer information\n",
        "|   # | name    |   output shape |   total |\n",
        "|----:|:--------|---------------:|--------:|\n",
        "|   0 | input0  |            784 |     784 |\n",
        "|   1 | dense0  |            100 |     100 |\n",
        "|   2 | output0 |             10 |      10 |\n",
        "\n",
        "## Training Information\n"
       ]
      },
      {
       "output_type": "stream",
       "stream": "stdout",
       "text": [
        "\n",
        "|   epoch |   train loss |   valid loss |   best |   train/val |   valid acc |    dur |"
       ]
      },
      {
       "output_type": "stream",
       "stream": "stdout",
       "text": [
        "\n",
        "|--------:|-------------:|-------------:|-------:|------------:|------------:|-------:|\n",
        "|       0 |       0.7536 |       0.4064 | 0.4064 |      1.8542 |      0.8919 | 1.2950 |\n",
        "|       1 |       0.3543 |       0.3248 | 0.3248 |      1.0908 |      0.9109 | 1.4020 |"
       ]
      },
      {
       "output_type": "stream",
       "stream": "stdout",
       "text": [
        "\n",
        "|       2 |       0.2964 |       0.2886 | 0.2886 |      1.0270 |      0.9198 | 1.2150 |"
       ]
      },
      {
       "output_type": "stream",
       "stream": "stdout",
       "text": [
        "\n",
        "|       3 |       0.2637 |       0.2651 | 0.2651 |      0.9948 |      0.9254 | 1.0910 |"
       ]
      },
      {
       "output_type": "stream",
       "stream": "stdout",
       "text": [
        "\n",
        "|       4 |       0.2401 |       0.2473 | 0.2473 |      0.9710 |      0.9303 | 1.0860 |"
       ]
      },
      {
       "output_type": "stream",
       "stream": "stdout",
       "text": [
        "\n",
        "|       5 |       0.2215 |       0.2330 | 0.2330 |      0.9506 |      0.9348 | 1.0860 |"
       ]
      },
      {
       "output_type": "stream",
       "stream": "stdout",
       "text": [
        "\n",
        "|       6 |       0.2059 |       0.2209 | 0.2209 |      0.9319 |      0.9379 | 1.1950 |"
       ]
      },
      {
       "output_type": "stream",
       "stream": "stdout",
       "text": [
        "\n",
        "|       7 |       0.1926 |       0.2106 | 0.2106 |      0.9143 |      0.9400 | 1.1860 |"
       ]
      },
      {
       "output_type": "stream",
       "stream": "stdout",
       "text": [
        "\n",
        "|       8 |       0.1809 |       0.2016 | 0.2016 |      0.8974 |      0.9419 | 1.2210 |"
       ]
      },
      {
       "output_type": "stream",
       "stream": "stdout",
       "text": [
        "\n",
        "|       9 |       0.1705 |       0.1935 | 0.1935 |      0.8811 |      0.9454 | 1.1460 |"
       ]
      },
      {
       "output_type": "stream",
       "stream": "stdout",
       "text": [
        "\n",
        "|      10 |       0.1612 |       0.1863 | 0.1863 |      0.8652 |      0.9473 | 1.1590 |"
       ]
      },
      {
       "output_type": "stream",
       "stream": "stdout",
       "text": [
        "\n",
        "|      11 |       0.1528 |       0.1799 | 0.1799 |      0.8495 |      0.9488 | 1.0970 |"
       ]
      },
      {
       "output_type": "stream",
       "stream": "stdout",
       "text": [
        "\n",
        "|      12 |       0.1451 |       0.1741 | 0.1741 |      0.8338 |      0.9504 | 1.1540 |"
       ]
      },
      {
       "output_type": "stream",
       "stream": "stdout",
       "text": [
        "\n",
        "|      13 |       0.1381 |       0.1688 | 0.1688 |      0.8181 |      0.9525 | 1.1050 |"
       ]
      },
      {
       "output_type": "stream",
       "stream": "stdout",
       "text": [
        "\n",
        "|      14 |       0.1317 |       0.1642 | 0.1642 |      0.8024 |      0.9540 | 1.1910 |"
       ]
      },
      {
       "output_type": "stream",
       "stream": "stdout",
       "text": [
        "\n",
        "|      15 |       0.1258 |       0.1599 | 0.1599 |      0.7868 |      0.9547 | 1.3010 |"
       ]
      },
      {
       "output_type": "stream",
       "stream": "stdout",
       "text": [
        "\n",
        "|      16 |       0.1204 |       0.1561 | 0.1561 |      0.7713 |      0.9559 | 1.2200 |"
       ]
      },
      {
       "output_type": "stream",
       "stream": "stdout",
       "text": [
        "\n",
        "|      17 |       0.1153 |       0.1526 | 0.1526 |      0.7559 |      0.9572 | 1.3950 |"
       ]
      },
      {
       "output_type": "stream",
       "stream": "stdout",
       "text": [
        "\n",
        "|      18 |       0.1107 |       0.1494 | 0.1494 |      0.7407 |      0.9581 | 1.5980 |"
       ]
      },
      {
       "output_type": "stream",
       "stream": "stdout",
       "text": [
        "\n",
        "|      19 |       0.1063 |       0.1465 | 0.1465 |      0.7257 |      0.9595 | 1.3730 |"
       ]
      },
      {
       "output_type": "stream",
       "stream": "stdout",
       "text": [
        "\n",
        "|      20 |       0.1023 |       0.1438 | 0.1438 |      0.7110 |      0.9605 | 1.3690 |"
       ]
      },
      {
       "output_type": "stream",
       "stream": "stdout",
       "text": [
        "\n",
        "|      21 |       0.0985 |       0.1414 | 0.1414 |      0.6964 |      0.9612 | 1.1030 |"
       ]
      },
      {
       "output_type": "stream",
       "stream": "stdout",
       "text": [
        "\n",
        "|      22 |       0.0949 |       0.1391 | 0.1391 |      0.6821 |      0.9619 | 1.1800 |"
       ]
      },
      {
       "output_type": "stream",
       "stream": "stdout",
       "text": [
        "\n",
        "|      23 |       0.0915 |       0.1370 | 0.1370 |      0.6680 |      0.9629 | 1.4270 |"
       ]
      },
      {
       "output_type": "stream",
       "stream": "stdout",
       "text": [
        "\n",
        "|      24 |       0.0884 |       0.1351 | 0.1351 |      0.6542 |      0.9636 | 1.5890 |"
       ]
      },
      {
       "output_type": "stream",
       "stream": "stdout",
       "text": [
        "\n",
        "Wall time: 35 s\n"
       ]
      },
      {
       "metadata": {},
       "output_type": "pyout",
       "prompt_number": 30,
       "text": [
        "NeuralNet(connection_pattern=None,\n",
        "     cost_function=<function crossentropy at 0x0000000017BB4048>,\n",
        "     encoder=OneHotEncoder(categorical_features='all', dtype=dtype('int32'),\n",
        "       n_values='auto', sparse=False),\n",
        "     eval_size=0.2,\n",
        "     iterator=<nolearn.lasagne.BatchIterator object at 0x0000000017C1CDA0>,\n",
        "     lambda2=None, layers=[input0, dense0, output0], recurrent=False,\n",
        "     regression=False,\n",
        "     updater=<netz.updaters.Nesterov object at 0x000000002984FCF8>,\n",
        "     verbose=1)"
       ]
      }
     ],
     "prompt_number": 30
    },
    {
     "cell_type": "code",
     "collapsed": false,
     "input": [
      "plot_loss(net1b)"
     ],
     "language": "python",
     "metadata": {},
     "outputs": [
      {
       "metadata": {},
       "output_type": "display_data",
       "png": "[encoded data removed]",
       "text": [
        "<matplotlib.figure.Figure at 0x26a63ac8>"
       ]
      }
     ],
     "prompt_number": 31
    },
    {
     "cell_type": "heading",
     "level": 3,
     "metadata": {},
     "source": [
      "L2 regularization"
     ]
    },
    {
     "cell_type": "heading",
     "level": 4,
     "metadata": {},
     "source": [
      "Here we want to regularize the hidden layer by using L2 regularizaton. We don't regularize the other layers."
     ]
    },
    {
     "cell_type": "code",
     "collapsed": false,
     "input": [
      "layers1c = [InputLayer(),\n",
      "           DenseLayer(100, lambda2=1),\n",
      "           OutputLayer()]"
     ],
     "language": "python",
     "metadata": {},
     "outputs": [],
     "prompt_number": 32
    },
    {
     "cell_type": "code",
     "collapsed": false,
     "input": [
      "net1c = NeuralNet(layers1c, cost_function=crossentropy, verbose=1)"
     ],
     "language": "python",
     "metadata": {},
     "outputs": [],
     "prompt_number": 33
    },
    {
     "cell_type": "code",
     "collapsed": false,
     "input": [
      "%time net1c.fit(X, y, max_iter=25)"
     ],
     "language": "python",
     "metadata": {},
     "outputs": [
      {
       "output_type": "stream",
       "stream": "stdout",
       "text": [
        "# Neural Network with 79510 learnable parameters\n",
        "\n",
        "\n",
        "## Layer information\n",
        "|   # | name    |   output shape |   total |\n",
        "|----:|:--------|---------------:|--------:|\n",
        "|   0 | input0  |            784 |     784 |\n",
        "|   1 | dense0  |            100 |     100 |\n",
        "|   2 | output0 |             10 |      10 |\n",
        "\n",
        "## Training Information\n"
       ]
      },
      {
       "output_type": "stream",
       "stream": "stdout",
       "text": [
        "\n",
        "|   epoch |   train loss |   valid loss |   best |   train/val |   valid acc |    dur |"
       ]
      },
      {
       "output_type": "stream",
       "stream": "stdout",
       "text": [
        "\n",
        "|--------:|-------------:|-------------:|-------:|------------:|------------:|-------:|\n",
        "|       0 |      18.7560 |       2.2239 | 2.2239 |      8.4338 |      0.7800 | 1.3670 |\n",
        "|       1 |       1.8277 |       1.7028 | 1.7028 |      1.0734 |      0.7950 | 1.9390 |"
       ]
      },
      {
       "output_type": "stream",
       "stream": "stdout",
       "text": [
        "\n",
        "|       2 |       1.6716 |       1.6332 | 1.6332 |      1.0235 |      0.8035 | 1.6880 |"
       ]
      },
      {
       "output_type": "stream",
       "stream": "stdout",
       "text": [
        "\n",
        "|       3 |       1.6086 |       1.5746 | 1.5746 |      1.0216 |      0.8111 | 1.3340 |"
       ]
      },
      {
       "output_type": "stream",
       "stream": "stdout",
       "text": [
        "\n",
        "|       4 |       1.5540 |       1.5234 | 1.5234 |      1.0201 |      0.8164 | 1.8040 |"
       ]
      },
      {
       "output_type": "stream",
       "stream": "stdout",
       "text": [
        "\n",
        "|       5 |       1.5061 |       1.4783 | 1.4783 |      1.0188 |      0.8212 | 1.6890 |"
       ]
      },
      {
       "output_type": "stream",
       "stream": "stdout",
       "text": [
        "\n",
        "|       6 |       1.4638 |       1.4383 | 1.4383 |      1.0177 |      0.8251 | 1.4740 |"
       ]
      },
      {
       "output_type": "stream",
       "stream": "stdout",
       "text": [
        "\n",
        "|       7 |       1.4260 |       1.4026 | 1.4026 |      1.0167 |      0.8289 | 2.6090 |"
       ]
      },
      {
       "output_type": "stream",
       "stream": "stdout",
       "text": [
        "\n",
        "|       8 |       1.3922 |       1.3704 | 1.3704 |      1.0159 |      0.8326 | 1.9370 |"
       ]
      },
      {
       "output_type": "stream",
       "stream": "stdout",
       "text": [
        "\n",
        "|       9 |       1.3616 |       1.3413 | 1.3413 |      1.0151 |      0.8357 | 2.2100 |"
       ]
      },
      {
       "output_type": "stream",
       "stream": "stdout",
       "text": [
        "\n",
        "|      10 |       1.3338 |       1.3147 | 1.3147 |      1.0145 |      0.8382 | 2.2320 |"
       ]
      },
      {
       "output_type": "stream",
       "stream": "stdout",
       "text": [
        "\n",
        "|      11 |       1.3083 |       1.2904 | 1.2904 |      1.0139 |      0.8410 | 1.9230 |"
       ]
      },
      {
       "output_type": "stream",
       "stream": "stdout",
       "text": [
        "\n",
        "|      12 |       1.2850 |       1.2679 | 1.2679 |      1.0134 |      0.8431 | 1.6670 |"
       ]
      },
      {
       "output_type": "stream",
       "stream": "stdout",
       "text": [
        "\n",
        "|      13 |       1.2634 |       1.2472 | 1.2472 |      1.0130 |      0.8440 | 1.4750 |"
       ]
      },
      {
       "output_type": "stream",
       "stream": "stdout",
       "text": [
        "\n",
        "|      14 |       1.2433 |       1.2279 | 1.2279 |      1.0126 |      0.8460 | 1.6950 |"
       ]
      },
      {
       "output_type": "stream",
       "stream": "stdout",
       "text": [
        "\n",
        "|      15 |       1.2247 |       1.2099 | 1.2099 |      1.0122 |      0.8483 | 2.6990 |"
       ]
      },
      {
       "output_type": "stream",
       "stream": "stdout",
       "text": [
        "\n",
        "|      16 |       1.2073 |       1.1932 | 1.1932 |      1.0119 |      0.8485 | 3.9830 |"
       ]
      },
      {
       "output_type": "stream",
       "stream": "stdout",
       "text": [
        "\n",
        "|      17 |       1.1910 |       1.1774 | 1.1774 |      1.0115 |      0.8506 | 1.8530 |"
       ]
      },
      {
       "output_type": "stream",
       "stream": "stdout",
       "text": [
        "\n",
        "|      18 |       1.1757 |       1.1626 | 1.1626 |      1.0112 |      0.8515 | 2.2160 |"
       ]
      },
      {
       "output_type": "stream",
       "stream": "stdout",
       "text": [
        "\n",
        "|      19 |       1.1612 |       1.1486 | 1.1486 |      1.0110 |      0.8534 | 5.6970 |"
       ]
      },
      {
       "output_type": "stream",
       "stream": "stdout",
       "text": [
        "\n",
        "|      20 |       1.1476 |       1.1354 | 1.1354 |      1.0107 |      0.8544 | 1.6390 |"
       ]
      },
      {
       "output_type": "stream",
       "stream": "stdout",
       "text": [
        "\n",
        "|      21 |       1.1347 |       1.1229 | 1.1229 |      1.0105 |      0.8554 | 2.3720 |"
       ]
      },
      {
       "output_type": "stream",
       "stream": "stdout",
       "text": [
        "\n",
        "|      22 |       1.1224 |       1.1110 | 1.1110 |      1.0103 |      0.8564 | 1.4290 |"
       ]
      },
      {
       "output_type": "stream",
       "stream": "stdout",
       "text": [
        "\n",
        "|      23 |       1.1108 |       1.0998 | 1.0998 |      1.0100 |      0.8577 | 2.2670 |"
       ]
      },
      {
       "output_type": "stream",
       "stream": "stdout",
       "text": [
        "\n",
        "|      24 |       1.0997 |       1.0890 | 1.0890 |      1.0098 |      0.8581 | 1.7930 |"
       ]
      },
      {
       "output_type": "stream",
       "stream": "stdout",
       "text": [
        "\n",
        "Wall time: 56 s\n"
       ]
      },
      {
       "metadata": {},
       "output_type": "pyout",
       "prompt_number": 34,
       "text": [
        "NeuralNet(connection_pattern=None,\n",
        "     cost_function=<function crossentropy at 0x0000000017BB4048>,\n",
        "     encoder=OneHotEncoder(categorical_features='all', dtype=dtype('int32'),\n",
        "       n_values='auto', sparse=False),\n",
        "     eval_size=0.2,\n",
        "     iterator=<nolearn.lasagne.BatchIterator object at 0x0000000017C1CDA0>,\n",
        "     lambda2=None, layers=[input0, dense0, output0], recurrent=False,\n",
        "     regression=False,\n",
        "     updater=<netz.updaters.SGD object at 0x0000000017C1CD68>, verbose=1)"
       ]
      }
     ],
     "prompt_number": 34
    },
    {
     "cell_type": "heading",
     "level": 4,
     "metadata": {},
     "source": [
      "The regularized layer's weights are much smaller, as expected from regularization."
     ]
    },
    {
     "cell_type": "code",
     "collapsed": false,
     "input": [
      "mean_wo_reg = np.abs(net1b.layers[1].W.get_value()).mean()\n",
      "mean_with_reg = np.abs(net1c.layers[1].W.get_value()).mean()\n",
      "print(\"Consequences of turning on regularization:\")\n",
      "print(\"Mean absolute weights before: {:.5f}.\".format(mean_wo_reg))\n",
      "print(\"Mean absolute weights after:  {:.5f}.\".format(mean_with_reg))"
     ],
     "language": "python",
     "metadata": {},
     "outputs": [
      {
       "output_type": "stream",
       "stream": "stdout",
       "text": [
        "Consequences of turning on regularization:\n",
        "Mean absolute weights before: 0.04859.\n",
        "Mean absolute weights after:  0.00163.\n"
       ]
      }
     ],
     "prompt_number": 35
    },
    {
     "cell_type": "code",
     "collapsed": false,
     "input": [
      "mean_wo_reg = np.abs(net1b.layers[2].W.get_value()).mean()\n",
      "mean_with_reg = np.abs(net1c.layers[2].W.get_value()).mean()\n",
      "print(\"Output layer is unregularized:\")\n",
      "print(\"Mean absolute weights before: {:.5f}.\".format(mean_wo_reg))\n",
      "print(\"Mean absolute weights after:  {:.5f}.\".format(mean_with_reg))"
     ],
     "language": "python",
     "metadata": {},
     "outputs": [
      {
       "output_type": "stream",
       "stream": "stdout",
       "text": [
        "Output layer is unregularized:\n",
        "Mean absolute weights before: 0.34592.\n",
        "Mean absolute weights after:  0.28138.\n"
       ]
      }
     ],
     "prompt_number": 36
    },
    {
     "cell_type": "code",
     "collapsed": false,
     "input": [
      "mean_wo_reg = np.abs(net1b.layers[1].b.get_value()).mean()\n",
      "mean_with_reg = np.abs(net1c.layers[1].b.get_value()).mean()\n",
      "print(\"As is the bias of the regularized layer:\")\n",
      "print(\"Mean absolute bias before: {:.5f}.\".format(mean_wo_reg))\n",
      "print(\"Mean absolute bias after:  {:.5f}.\".format(mean_with_reg))"
     ],
     "language": "python",
     "metadata": {},
     "outputs": [
      {
       "output_type": "stream",
       "stream": "stdout",
       "text": [
        "As is the bias of the regularized layer:\n",
        "Mean absolute bias before: 0.12309.\n",
        "Mean absolute bias after:  0.11353.\n"
       ]
      }
     ],
     "prompt_number": 37
    },
    {
     "cell_type": "heading",
     "level": 3,
     "metadata": {},
     "source": [
      "2 hidden layers"
     ]
    },
    {
     "cell_type": "heading",
     "level": 4,
     "metadata": {},
     "source": [
      "An example with 2 hidden layers."
     ]
    },
    {
     "cell_type": "code",
     "collapsed": false,
     "input": [
      "layers2 = [InputLayer(),\n",
      "           DenseLayer(200),\n",
      "           DenseLayer(200),\n",
      "           OutputLayer()]"
     ],
     "language": "python",
     "metadata": {},
     "outputs": [],
     "prompt_number": 38
    },
    {
     "cell_type": "code",
     "collapsed": false,
     "input": [
      "net2 = NeuralNet(layers2, updater=Nesterov(), verbose=1)"
     ],
     "language": "python",
     "metadata": {},
     "outputs": [],
     "prompt_number": 39
    },
    {
     "cell_type": "code",
     "collapsed": false,
     "input": [
      "%time net2.fit(X, y, max_iter=25)"
     ],
     "language": "python",
     "metadata": {},
     "outputs": [
      {
       "output_type": "stream",
       "stream": "stdout",
       "text": [
        "# Neural Network with 199210 learnable parameters\n",
        "\n",
        "\n",
        "## Layer information\n",
        "|   # | name    |   output shape |   total |\n",
        "|----:|:--------|---------------:|--------:|\n",
        "|   0 | input0  |            784 |     784 |\n",
        "|   1 | dense0  |            200 |     200 |\n",
        "|   2 | dense1  |            200 |     200 |\n",
        "|   3 | output0 |             10 |      10 |\n",
        "\n",
        "## Training Information\n"
       ]
      },
      {
       "output_type": "stream",
       "stream": "stdout",
       "text": [
        "\n",
        "|   epoch |   train loss |   valid loss |   best |   train/val |   valid acc |    dur |"
       ]
      },
      {
       "output_type": "stream",
       "stream": "stdout",
       "text": [
        "\n",
        "|--------:|-------------:|-------------:|-------:|------------:|------------:|-------:|\n",
        "|       0 |       1.3373 |       0.6495 | 0.6495 |      2.0590 |      0.8545 | 3.6410 |\n",
        "|       1 |       0.4989 |       0.4090 | 0.4090 |      1.2198 |      0.8908 | 3.9620 |"
       ]
      },
      {
       "output_type": "stream",
       "stream": "stdout",
       "text": [
        "\n",
        "|       2 |       0.3682 |       0.3429 | 0.3429 |      1.0736 |      0.9029 | 3.1170 |"
       ]
      },
      {
       "output_type": "stream",
       "stream": "stdout",
       "text": [
        "\n",
        "|       3 |       0.3178 |       0.3085 | 0.3085 |      1.0301 |      0.9118 | 4.2100 |"
       ]
      },
      {
       "output_type": "stream",
       "stream": "stdout",
       "text": [
        "\n",
        "|       4 |       0.2866 |       0.2847 | 0.2847 |      1.0068 |      0.9184 | 3.6130 |"
       ]
      },
      {
       "output_type": "stream",
       "stream": "stdout",
       "text": [
        "\n",
        "|       5 |       0.2630 |       0.2659 | 0.2659 |      0.9891 |      0.9240 | 3.9380 |"
       ]
      },
      {
       "output_type": "stream",
       "stream": "stdout",
       "text": [
        "\n",
        "|       6 |       0.2435 |       0.2502 | 0.2502 |      0.9734 |      0.9284 | 3.5360 |"
       ]
      },
      {
       "output_type": "stream",
       "stream": "stdout",
       "text": [
        "\n",
        "|       7 |       0.2266 |       0.2364 | 0.2364 |      0.9586 |      0.9317 | 3.8010 |"
       ]
      },
      {
       "output_type": "stream",
       "stream": "stdout",
       "text": [
        "\n",
        "|       8 |       0.2117 |       0.2242 | 0.2242 |      0.9442 |      0.9355 | 3.2300 |"
       ]
      },
      {
       "output_type": "stream",
       "stream": "stdout",
       "text": [
        "\n",
        "|       9 |       0.1983 |       0.2132 | 0.2132 |      0.9298 |      0.9392 | 2.9760 |"
       ]
      },
      {
       "output_type": "stream",
       "stream": "stdout",
       "text": [
        "\n",
        "|      10 |       0.1861 |       0.2033 | 0.2033 |      0.9152 |      0.9421 | 3.0770 |"
       ]
      },
      {
       "output_type": "stream",
       "stream": "stdout",
       "text": [
        "\n",
        "|      11 |       0.1749 |       0.1943 | 0.1943 |      0.9003 |      0.9442 | 3.4690 |"
       ]
      },
      {
       "output_type": "stream",
       "stream": "stdout",
       "text": [
        "\n",
        "|      12 |       0.1647 |       0.1860 | 0.1860 |      0.8852 |      0.9465 | 3.1010 |"
       ]
      },
      {
       "output_type": "stream",
       "stream": "stdout",
       "text": [
        "\n",
        "|      13 |       0.1552 |       0.1785 | 0.1785 |      0.8697 |      0.9490 | 3.2570 |"
       ]
      },
      {
       "output_type": "stream",
       "stream": "stdout",
       "text": [
        "\n",
        "|      14 |       0.1466 |       0.1716 | 0.1716 |      0.8539 |      0.9510 | 3.1150 |"
       ]
      },
      {
       "output_type": "stream",
       "stream": "stdout",
       "text": [
        "\n",
        "|      15 |       0.1385 |       0.1654 | 0.1654 |      0.8377 |      0.9529 | 3.2460 |"
       ]
      },
      {
       "output_type": "stream",
       "stream": "stdout",
       "text": [
        "\n",
        "|      16 |       0.1311 |       0.1596 | 0.1596 |      0.8212 |      0.9537 | 3.6840 |"
       ]
      },
      {
       "output_type": "stream",
       "stream": "stdout",
       "text": [
        "\n",
        "|      17 |       0.1242 |       0.1544 | 0.1544 |      0.8043 |      0.9562 | 3.4030 |"
       ]
      },
      {
       "output_type": "stream",
       "stream": "stdout",
       "text": [
        "\n",
        "|      18 |       0.1178 |       0.1497 | 0.1497 |      0.7871 |      0.9574 | 4.0970 |"
       ]
      },
      {
       "output_type": "stream",
       "stream": "stdout",
       "text": [
        "\n",
        "|      19 |       0.1118 |       0.1453 | 0.1453 |      0.7696 |      0.9588 | 4.3510 |"
       ]
      },
      {
       "output_type": "stream",
       "stream": "stdout",
       "text": [
        "\n",
        "|      20 |       0.1063 |       0.1413 | 0.1413 |      0.7519 |      0.9601 | 5.6660 |"
       ]
      },
      {
       "output_type": "stream",
       "stream": "stdout",
       "text": [
        "\n",
        "|      21 |       0.1010 |       0.1376 | 0.1376 |      0.7340 |      0.9612 | 4.2760 |"
       ]
      },
      {
       "output_type": "stream",
       "stream": "stdout",
       "text": [
        "\n",
        "|      22 |       0.0961 |       0.1343 | 0.1343 |      0.7160 |      0.9628 | 3.5460 |"
       ]
      },
      {
       "output_type": "stream",
       "stream": "stdout",
       "text": [
        "\n",
        "|      23 |       0.0915 |       0.1312 | 0.1312 |      0.6979 |      0.9636 | 3.4010 |"
       ]
      },
      {
       "output_type": "stream",
       "stream": "stdout",
       "text": [
        "\n",
        "|      24 |       0.0872 |       0.1283 | 0.1283 |      0.6799 |      0.9645 | 3.4850 |"
       ]
      },
      {
       "output_type": "stream",
       "stream": "stdout",
       "text": [
        "\n",
        "Wall time: 1min 35s\n"
       ]
      },
      {
       "metadata": {},
       "output_type": "pyout",
       "prompt_number": 40,
       "text": [
        "NeuralNet(connection_pattern=None,\n",
        "     cost_function=<function crossentropy at 0x0000000017BB4048>,\n",
        "     encoder=OneHotEncoder(categorical_features='all', dtype=dtype('int32'),\n",
        "       n_values='auto', sparse=False),\n",
        "     eval_size=0.2,\n",
        "     iterator=<nolearn.lasagne.BatchIterator object at 0x0000000017C1CDA0>,\n",
        "     lambda2=None, layers=[input0, dense0, dense1, output0],\n",
        "     recurrent=False, regression=False,\n",
        "     updater=<netz.updaters.Nesterov object at 0x0000000026DCDDA0>,\n",
        "     verbose=1)"
       ]
      }
     ],
     "prompt_number": 40
    },
    {
     "cell_type": "code",
     "collapsed": false,
     "input": [
      "plot_loss(net2)"
     ],
     "language": "python",
     "metadata": {},
     "outputs": [
      {
       "metadata": {},
       "output_type": "display_data",
       "png": "[encoded data removed]",
       "text": [
        "<matplotlib.figure.Figure at 0x224ef550>"
       ]
      }
     ],
     "prompt_number": 41
    },
    {
     "cell_type": "code",
     "collapsed": false,
     "input": [
      "accuracy = net2.score(X_valid, y_valid, accuracy=True)"
     ],
     "language": "python",
     "metadata": {},
     "outputs": [],
     "prompt_number": 42
    },
    {
     "cell_type": "code",
     "collapsed": false,
     "input": [
      "print(\"Accuracy: {:.4f}\".format(accuracy))"
     ],
     "language": "python",
     "metadata": {},
     "outputs": [
      {
       "output_type": "stream",
       "stream": "stdout",
       "text": [
        "Accuracy: 0.9645\n"
       ]
      }
     ],
     "prompt_number": 43
    },
    {
     "cell_type": "heading",
     "level": 3,
     "metadata": {},
     "source": [
      "Splitting and joining outputs"
     ]
    },
    {
     "cell_type": "heading",
     "level": 4,
     "metadata": {},
     "source": [
      "Our goal in this section is to have two seperate dense layers that work in parallel on the input data, and then to concatenate those layers' outputs and feed them to the output layer."
     ]
    },
    {
     "cell_type": "markdown",
     "metadata": {},
     "source": [
      "The easiest way to have layers that are not simply connected one to the next is to indicate a _connection pattern_. To do this, give each layer a name with the _name_ keyword. Then write a connection pattern that indicates with an arrow, <b>-></b>, which layer connects to which."
     ]
    },
    {
     "cell_type": "code",
     "collapsed": false,
     "input": [
      "layers3 = [InputLayer(name='input'),\n",
      "           DenseLayer(100, name='dense0'),\n",
      "           DenseLayer(200, name='dense1'),\n",
      "           InputConcatLayer(name='concat'),\n",
      "           OutputLayer(name='output')]"
     ],
     "language": "python",
     "metadata": {},
     "outputs": [],
     "prompt_number": 44
    },
    {
     "cell_type": "code",
     "collapsed": false,
     "input": [
      "connection_pattern = \"\"\"\n",
      "input->dense0\n",
      "input->dense1\n",
      "dense0->concat\n",
      "dense1->concat\n",
      "concat->output\n",
      "\"\"\""
     ],
     "language": "python",
     "metadata": {},
     "outputs": [],
     "prompt_number": 45
    },
    {
     "cell_type": "code",
     "collapsed": false,
     "input": [
      "net3 = NeuralNet(\n",
      "    layers3, cost_function=crossentropy,\n",
      "    updater=Nesterov(),\n",
      "    eval_size=0.2,\n",
      "    verbose=1,\n",
      "    connection_pattern=connection_pattern,\n",
      ")"
     ],
     "language": "python",
     "metadata": {},
     "outputs": [],
     "prompt_number": 46
    },
    {
     "cell_type": "code",
     "collapsed": false,
     "input": [
      "%time net3.fit(X, y, max_iter=25)"
     ],
     "language": "python",
     "metadata": {},
     "outputs": [
      {
       "output_type": "stream",
       "stream": "stdout",
       "text": [
        "# Neural Network with 238510 learnable parameters\n",
        "\n",
        "\n",
        "## Layer information\n",
        "|   # | name   |   output shape |   total |\n",
        "|----:|:-------|---------------:|--------:|\n",
        "|   0 | input  |            784 |     784 |\n",
        "|   1 | dense0 |            100 |     100 |\n",
        "|   2 | dense1 |            200 |     200 |\n",
        "|   3 | concat |            300 |     300 |\n",
        "|   4 | output |             10 |      10 |\n",
        "\n",
        "## Training Information\n"
       ]
      },
      {
       "output_type": "stream",
       "stream": "stdout",
       "text": [
        "\n",
        "|   epoch |   train loss |   valid loss |   best |   train/val |   valid acc |    dur |"
       ]
      },
      {
       "output_type": "stream",
       "stream": "stdout",
       "text": [
        "\n",
        "|--------:|-------------:|-------------:|-------:|------------:|------------:|-------:|\n",
        "|       0 |       0.6332 |       0.3738 | 0.3738 |      1.6940 |      0.8947 | 3.3470 |\n",
        "|       1 |       0.3328 |       0.3128 | 0.3128 |      1.0641 |      0.9091 | 3.2880 |"
       ]
      },
      {
       "output_type": "stream",
       "stream": "stdout",
       "text": [
        "\n",
        "|       2 |       0.2872 |       0.2828 | 0.2828 |      1.0158 |      0.9189 | 2.7220 |"
       ]
      },
      {
       "output_type": "stream",
       "stream": "stdout",
       "text": [
        "\n",
        "|       3 |       0.2588 |       0.2615 | 0.2615 |      0.9895 |      0.9246 | 2.3970 |"
       ]
      },
      {
       "output_type": "stream",
       "stream": "stdout",
       "text": [
        "\n",
        "|       4 |       0.2366 |       0.2443 | 0.2443 |      0.9682 |      0.9300 | 2.7120 |"
       ]
      },
      {
       "output_type": "stream",
       "stream": "stdout",
       "text": [
        "\n",
        "|       5 |       0.2177 |       0.2296 | 0.2296 |      0.9484 |      0.9342 | 2.5340 |"
       ]
      },
      {
       "output_type": "stream",
       "stream": "stdout",
       "text": [
        "\n",
        "|       6 |       0.2013 |       0.2167 | 0.2167 |      0.9290 |      0.9380 | 2.9430 |"
       ]
      },
      {
       "output_type": "stream",
       "stream": "stdout",
       "text": [
        "\n",
        "|       7 |       0.1869 |       0.2053 | 0.2053 |      0.9101 |      0.9411 | 2.6330 |"
       ]
      },
      {
       "output_type": "stream",
       "stream": "stdout",
       "text": [
        "\n",
        "|       8 |       0.1741 |       0.1953 | 0.1953 |      0.8913 |      0.9442 | 2.6760 |"
       ]
      },
      {
       "output_type": "stream",
       "stream": "stdout",
       "text": [
        "\n",
        "|       9 |       0.1627 |       0.1864 | 0.1864 |      0.8728 |      0.9467 | 2.7210 |"
       ]
      },
      {
       "output_type": "stream",
       "stream": "stdout",
       "text": [
        "\n",
        "|      10 |       0.1526 |       0.1786 | 0.1786 |      0.8544 |      0.9492 | 2.5340 |"
       ]
      },
      {
       "output_type": "stream",
       "stream": "stdout",
       "text": [
        "\n",
        "|      11 |       0.1435 |       0.1716 | 0.1716 |      0.8360 |      0.9500 | 2.5710 |"
       ]
      },
      {
       "output_type": "stream",
       "stream": "stdout",
       "text": [
        "\n",
        "|      12 |       0.1352 |       0.1654 | 0.1654 |      0.8176 |      0.9516 | 2.7100 |"
       ]
      },
      {
       "output_type": "stream",
       "stream": "stdout",
       "text": [
        "\n",
        "|      13 |       0.1277 |       0.1598 | 0.1598 |      0.7992 |      0.9540 | 2.6530 |"
       ]
      },
      {
       "output_type": "stream",
       "stream": "stdout",
       "text": [
        "\n",
        "|      14 |       0.1209 |       0.1549 | 0.1549 |      0.7808 |      0.9554 | 3.1360 |"
       ]
      },
      {
       "output_type": "stream",
       "stream": "stdout",
       "text": [
        "\n",
        "|      15 |       0.1147 |       0.1504 | 0.1504 |      0.7626 |      0.9568 | 2.7040 |"
       ]
      },
      {
       "output_type": "stream",
       "stream": "stdout",
       "text": [
        "\n",
        "|      16 |       0.1089 |       0.1463 | 0.1463 |      0.7445 |      0.9582 | 2.6410 |"
       ]
      },
      {
       "output_type": "stream",
       "stream": "stdout",
       "text": [
        "\n",
        "|      17 |       0.1036 |       0.1426 | 0.1426 |      0.7266 |      0.9593 | 2.7320 |"
       ]
      },
      {
       "output_type": "stream",
       "stream": "stdout",
       "text": [
        "\n",
        "|      18 |       0.0987 |       0.1393 | 0.1393 |      0.7089 |      0.9605 | 2.7250 |"
       ]
      },
      {
       "output_type": "stream",
       "stream": "stdout",
       "text": [
        "\n",
        "|      19 |       0.0942 |       0.1362 | 0.1362 |      0.6915 |      0.9618 | 3.3290 |"
       ]
      },
      {
       "output_type": "stream",
       "stream": "stdout",
       "text": [
        "\n",
        "|      20 |       0.0899 |       0.1333 | 0.1333 |      0.6744 |      0.9625 | 3.1330 |"
       ]
      },
      {
       "output_type": "stream",
       "stream": "stdout",
       "text": [
        "\n",
        "|      21 |       0.0860 |       0.1307 | 0.1307 |      0.6576 |      0.9628 | 3.1370 |"
       ]
      },
      {
       "output_type": "stream",
       "stream": "stdout",
       "text": [
        "\n",
        "|      22 |       0.0823 |       0.1283 | 0.1283 |      0.6412 |      0.9638 | 3.1320 |"
       ]
      },
      {
       "output_type": "stream",
       "stream": "stdout",
       "text": [
        "\n",
        "|      23 |       0.0788 |       0.1261 | 0.1261 |      0.6251 |      0.9642 | 2.6430 |"
       ]
      },
      {
       "output_type": "stream",
       "stream": "stdout",
       "text": [
        "\n",
        "|      24 |       0.0755 |       0.1240 | 0.1240 |      0.6093 |      0.9650 | 2.4770 |"
       ]
      },
      {
       "output_type": "stream",
       "stream": "stdout",
       "text": [
        "\n",
        "Wall time: 1min 15s\n"
       ]
      },
      {
       "output_type": "stream",
       "stream": "stderr",
       "text": [
        "netz\\layers\\base.py:57: UserWarning: You are overriding the previous layer of layer input.\n",
        "  \"of layer {}.\".format(self.name))\n"
       ]
      },
      {
       "metadata": {},
       "output_type": "pyout",
       "prompt_number": 47,
       "text": [
        "NeuralNet(connection_pattern='\\ninput->dense0\\ninput->dense1\\ndense0->concat\\ndense1->concat\\nconcat->output\\n',\n",
        "     cost_function=<function crossentropy at 0x0000000017BB4048>,\n",
        "     encoder=OneHotEncoder(categorical_features='all', dtype=dtype('int32'),\n",
        "       n_values='auto', sparse=False),\n",
        "     eval_size=0.2,\n",
        "     iterator=<nolearn.lasagne.BatchIterator object at 0x0000000017C1CDA0>,\n",
        "     lambda2=None, layers=[input, dense0, dense1, concat, output],\n",
        "     recurrent=False, regression=False,\n",
        "     updater=<netz.updaters.Nesterov object at 0x00000000237C1FD0>,\n",
        "     verbose=1)"
       ]
      }
     ],
     "prompt_number": 47
    },
    {
     "cell_type": "code",
     "collapsed": false,
     "input": [
      "plot_loss(net3)"
     ],
     "language": "python",
     "metadata": {},
     "outputs": [
      {
       "metadata": {},
       "output_type": "display_data",
       "png": "[encoded data removed]",
       "text": [
        "<matplotlib.figure.Figure at 0x29c164a8>"
       ]
      }
     ],
     "prompt_number": 48
    },
    {
     "cell_type": "code",
     "collapsed": false,
     "input": [
      "accuracy = net3.score(X_valid, y_valid, accuracy=True)"
     ],
     "language": "python",
     "metadata": {},
     "outputs": [],
     "prompt_number": 49
    },
    {
     "cell_type": "code",
     "collapsed": false,
     "input": [
      "print(\"Accuracy: {:.4f}\".format(accuracy))"
     ],
     "language": "python",
     "metadata": {},
     "outputs": [
      {
       "output_type": "stream",
       "stream": "stdout",
       "text": [
        "Accuracy: 0.9650\n"
       ]
      }
     ],
     "prompt_number": 50
    },
    {
     "cell_type": "heading",
     "level": 3,
     "metadata": {},
     "source": [
      "Multiple inputs"
     ]
    },
    {
     "cell_type": "heading",
     "level": 4,
     "metadata": {},
     "source": [
      "The idea here is that the net could be more robust if we also feed it tranformed features, which should still get the same label. In this case, we mirror the image along the vertical axis."
     ]
    },
    {
     "cell_type": "code",
     "collapsed": false,
     "input": [
      "X2D = X.reshape(-1, 28, 28).copy()\n",
      "X2D = X2D[:, :, ::-1]\n",
      "Xt = X2D.reshape(-1, 28 * 28)"
     ],
     "language": "python",
     "metadata": {},
     "outputs": [],
     "prompt_number": 51
    },
    {
     "cell_type": "code",
     "collapsed": false,
     "input": [
      "figs, axes = plt.subplots(4, 4, figsize=(6, 6))\n",
      "for i in range(4):\n",
      "    for j in range(4):\n",
      "        axes[i, j].imshow(-Xt[i + 4 * j].reshape(28, 28), cmap='gray', interpolation='nearest')\n",
      "        axes[i, j].set_xticks([])\n",
      "        axes[i, j].set_yticks([])\n",
      "        axes[i, j].set_title(\"Label: {}\".format(y[i + 4 * j]))\n",
      "        axes[i, j].axis('off')"
     ],
     "language": "python",
     "metadata": {},
     "outputs": [
      {
       "metadata": {},
       "output_type": "display_data",
       "png": "[encoded data removed]",
       "text": [
        "<matplotlib.figure.Figure at 0x26b06f28>"
       ]
      }
     ],
     "prompt_number": 52
    },
    {
     "cell_type": "markdown",
     "metadata": {},
     "source": [
      "We want to feed both inputs, the mirrored and the original. Instead of concatenating them, we can use the _PartialInputLayer_. To do this, we must fit the model with a list of inputs, i.e. [X, Xt], and indicate for the PartialInputLayers which of the inputs to return with the help of the _idx_ keyword."
     ]
    },
    {
     "cell_type": "code",
     "collapsed": false,
     "input": [
      "layers4 = [PartialInputLayer(idx=0, name='partial0'),  # returns the 0th input\n",
      "           PartialInputLayer(idx=1, name='partial1'),  # returns the 1st input\n",
      "           DenseLayer(100, name='dense0'),  # receives the 0th input\n",
      "           DenseLayer(100, name='dense1'),  # receives the 1st input\n",
      "           InputConcatLayer(name='concat'),  # receives from the two dense layers\n",
      "           OutputLayer(name='output')]"
     ],
     "language": "python",
     "metadata": {},
     "outputs": [],
     "prompt_number": 53
    },
    {
     "cell_type": "markdown",
     "metadata": {},
     "source": [
      "Again, we make use of the _connection_pattern_ to easily connect the layers."
     ]
    },
    {
     "cell_type": "code",
     "collapsed": false,
     "input": [
      "connection_pattern = \"\"\"\n",
      "partial0->dense0\n",
      "partial1->dense1\n",
      "dense0->concat\n",
      "dense1->concat\n",
      "concat->output\n",
      "\"\"\""
     ],
     "language": "python",
     "metadata": {},
     "outputs": [],
     "prompt_number": 54
    },
    {
     "cell_type": "markdown",
     "metadata": {},
     "source": [
      "The normal _BatchIterator_ does not support multiple inputs; therefore, we use the _MultipleInputsBatchIterator_."
     ]
    },
    {
     "cell_type": "code",
     "collapsed": false,
     "input": [
      "iterator = MultipleInputsBatchIterator(128)"
     ],
     "language": "python",
     "metadata": {},
     "outputs": [],
     "prompt_number": 55
    },
    {
     "cell_type": "code",
     "collapsed": false,
     "input": [
      "net4 = MultipleInputNet(\n",
      "    layers4, cost_function=crossentropy,\n",
      "    updater=Nesterov(),\n",
      "    eval_size=0.2,\n",
      "    verbose=1,\n",
      "    iterator=MultipleInputsBatchIterator(128),\n",
      "    connection_pattern=connection_pattern,\n",
      ")"
     ],
     "language": "python",
     "metadata": {},
     "outputs": [],
     "prompt_number": 56
    },
    {
     "cell_type": "code",
     "collapsed": false,
     "input": [
      "net4.fit([X, Xt], y, max_iter=25)"
     ],
     "language": "python",
     "metadata": {},
     "outputs": [
      {
       "output_type": "stream",
       "stream": "stdout",
       "text": [
        "# Neural Network with 159010 learnable parameters\n",
        "\n",
        "\n",
        "## Layer information\n",
        "|   # | name     |   output shape |   total |\n",
        "|----:|:---------|---------------:|--------:|\n",
        "|   0 | partial0 |            784 |     784 |\n",
        "|   1 | partial1 |            784 |     784 |\n",
        "|   2 | dense0   |            100 |     100 |\n",
        "|   3 | dense1   |            100 |     100 |\n",
        "|   4 | concat   |            200 |     200 |\n",
        "|   5 | output   |             10 |      10 |\n",
        "\n",
        "## Training Information\n"
       ]
      },
      {
       "output_type": "stream",
       "stream": "stdout",
       "text": [
        "\n",
        "|   epoch |   train loss |   valid loss |   best |   train/val |   valid acc |    dur |"
       ]
      },
      {
       "output_type": "stream",
       "stream": "stdout",
       "text": [
        "\n",
        "|--------:|-------------:|-------------:|-------:|------------:|------------:|-------:|\n",
        "|       0 |       0.6549 |       0.3811 | 0.3811 |      1.7185 |      0.8951 | 1.6800 |\n",
        "|       1 |       0.3377 |       0.3145 | 0.3145 |      1.0738 |      0.9108 | 1.7020 |"
       ]
      },
      {
       "output_type": "stream",
       "stream": "stdout",
       "text": [
        "\n",
        "|       2 |       0.2882 |       0.2824 | 0.2824 |      1.0206 |      0.9183 | 1.7180 |"
       ]
      },
      {
       "output_type": "stream",
       "stream": "stdout",
       "text": [
        "\n",
        "|       3 |       0.2582 |       0.2603 | 0.2603 |      0.9919 |      0.9253 | 2.0650 |"
       ]
      },
      {
       "output_type": "stream",
       "stream": "stdout",
       "text": [
        "\n",
        "|       4 |       0.2354 |       0.2429 | 0.2429 |      0.9692 |      0.9303 | 2.4180 |"
       ]
      },
      {
       "output_type": "stream",
       "stream": "stdout",
       "text": [
        "\n",
        "|       5 |       0.2166 |       0.2283 | 0.2283 |      0.9484 |      0.9341 | 2.4950 |"
       ]
      },
      {
       "output_type": "stream",
       "stream": "stdout",
       "text": [
        "\n",
        "|       6 |       0.2005 |       0.2160 | 0.2160 |      0.9285 |      0.9390 | 2.2230 |"
       ]
      },
      {
       "output_type": "stream",
       "stream": "stdout",
       "text": [
        "\n",
        "|       7 |       0.1867 |       0.2053 | 0.2053 |      0.9092 |      0.9415 | 2.2030 |"
       ]
      },
      {
       "output_type": "stream",
       "stream": "stdout",
       "text": [
        "\n",
        "|       8 |       0.1746 |       0.1961 | 0.1961 |      0.8903 |      0.9432 | 2.4160 |"
       ]
      },
      {
       "output_type": "stream",
       "stream": "stdout",
       "text": [
        "\n",
        "|       9 |       0.1639 |       0.1880 | 0.1880 |      0.8719 |      0.9453 | 2.2200 |"
       ]
      },
      {
       "output_type": "stream",
       "stream": "stdout",
       "text": [
        "\n",
        "|      10 |       0.1544 |       0.1808 | 0.1808 |      0.8539 |      0.9465 | 2.9470 |"
       ]
      },
      {
       "output_type": "stream",
       "stream": "stdout",
       "text": [
        "\n",
        "|      11 |       0.1459 |       0.1745 | 0.1745 |      0.8362 |      0.9484 | 2.6870 |"
       ]
      },
      {
       "output_type": "stream",
       "stream": "stdout",
       "text": [
        "\n",
        "|      12 |       0.1382 |       0.1688 | 0.1688 |      0.8188 |      0.9505 | 2.1210 |"
       ]
      },
      {
       "output_type": "stream",
       "stream": "stdout",
       "text": [
        "\n",
        "|      13 |       0.1312 |       0.1637 | 0.1637 |      0.8016 |      0.9516 | 2.1700 |"
       ]
      },
      {
       "output_type": "stream",
       "stream": "stdout",
       "text": [
        "\n",
        "|      14 |       0.1248 |       0.1590 | 0.1590 |      0.7847 |      0.9528 | 2.9010 |"
       ]
      },
      {
       "output_type": "stream",
       "stream": "stdout",
       "text": [
        "\n",
        "|      15 |       0.1189 |       0.1549 | 0.1549 |      0.7680 |      0.9540 | 3.7980 |"
       ]
      },
      {
       "output_type": "stream",
       "stream": "stdout",
       "text": [
        "\n",
        "|      16 |       0.1135 |       0.1510 | 0.1510 |      0.7515 |      0.9547 | 2.7660 |"
       ]
      },
      {
       "output_type": "stream",
       "stream": "stdout",
       "text": [
        "\n",
        "|      17 |       0.1085 |       0.1475 | 0.1475 |      0.7353 |      0.9561 | 2.2260 |"
       ]
      },
      {
       "output_type": "stream",
       "stream": "stdout",
       "text": [
        "\n",
        "|      18 |       0.1038 |       0.1443 | 0.1443 |      0.7192 |      0.9574 | 2.4780 |"
       ]
      },
      {
       "output_type": "stream",
       "stream": "stdout",
       "text": [
        "\n",
        "|      19 |       0.0995 |       0.1414 | 0.1414 |      0.7034 |      0.9585 | 2.6000 |"
       ]
      },
      {
       "output_type": "stream",
       "stream": "stdout",
       "text": [
        "\n",
        "|      20 |       0.0954 |       0.1387 | 0.1387 |      0.6878 |      0.9587 | 2.3560 |"
       ]
      },
      {
       "output_type": "stream",
       "stream": "stdout",
       "text": [
        "\n",
        "|      21 |       0.0915 |       0.1361 | 0.1361 |      0.6725 |      0.9588 | 2.2600 |"
       ]
      },
      {
       "output_type": "stream",
       "stream": "stdout",
       "text": [
        "\n",
        "|      22 |       0.0880 |       0.1338 | 0.1338 |      0.6574 |      0.9601 | 2.2210 |"
       ]
      },
      {
       "output_type": "stream",
       "stream": "stdout",
       "text": [
        "\n",
        "|      23 |       0.0846 |       0.1316 | 0.1316 |      0.6426 |      0.9607 | 2.2040 |"
       ]
      },
      {
       "output_type": "stream",
       "stream": "stdout",
       "text": [
        "\n",
        "|      24 |       0.0814 |       0.1296 | 0.1296 |      0.6280 |      0.9610 | 2.0790 |"
       ]
      },
      {
       "output_type": "stream",
       "stream": "stdout",
       "text": [
        "\n"
       ]
      },
      {
       "metadata": {},
       "output_type": "pyout",
       "prompt_number": 57,
       "text": [
        "MultipleInputNet(connection_pattern='\\npartial0->dense0\\npartial1->dense1\\ndense0->concat\\ndense1->concat\\nconcat->output\\n',\n",
        "         cost_function=<function crossentropy at 0x0000000017BB4048>,\n",
        "         encoder=OneHotEncoder(categorical_features='all', dtype=dtype('int32'),\n",
        "       n_values='auto', sparse=False),\n",
        "         eval_size=0.2,\n",
        "         iterator=<netz.iterators.MultipleInputsBatchIterator object at 0x00000000225C8DA0>,\n",
        "         lambda2=None,\n",
        "         layers=[partial0, partial1, dense0, dense1, concat, output],\n",
        "         recurrent=False, regression=False,\n",
        "         updater=<netz.updaters.Nesterov object at 0x00000000225C8CC0>,\n",
        "         verbose=1)"
       ]
      }
     ],
     "prompt_number": 57
    },
    {
     "cell_type": "code",
     "collapsed": false,
     "input": [
      "X_valid, y_valid = net4.get_valid_data([X, Xt], y)"
     ],
     "language": "python",
     "metadata": {},
     "outputs": [],
     "prompt_number": 58
    },
    {
     "cell_type": "code",
     "collapsed": false,
     "input": [
      "accuracy = net4.score(X_valid, y_valid, accuracy=True)"
     ],
     "language": "python",
     "metadata": {},
     "outputs": [],
     "prompt_number": 59
    },
    {
     "cell_type": "code",
     "collapsed": false,
     "input": [
      "print(\"Accuracy: {:.4f}\".format(accuracy))"
     ],
     "language": "python",
     "metadata": {},
     "outputs": [
      {
       "output_type": "stream",
       "stream": "stdout",
       "text": [
        "Accuracy: 0.9610\n"
       ]
      }
     ],
     "prompt_number": 60
    },
    {
     "cell_type": "heading",
     "level": 2,
     "metadata": {},
     "source": [
      "Regression"
     ]
    },
    {
     "cell_type": "heading",
     "level": 4,
     "metadata": {},
     "source": [
      "To solve a regression problem instead of a classification problem, just set the regression argument of NeuralNet to True and use the RegressionOutputLayer as output layer. Of course, regression makes little sense with the MNIST data."
     ]
    },
    {
     "cell_type": "code",
     "collapsed": false,
     "input": [
      "layers5 = [InputLayer(),\n",
      "           DenseLayer(200),\n",
      "           DenseLayer(200),\n",
      "           RegressionOutputLayer()]"
     ],
     "language": "python",
     "metadata": {},
     "outputs": [],
     "prompt_number": 61
    },
    {
     "cell_type": "code",
     "collapsed": false,
     "input": [
      "net5 = NeuralNet(layers5, regression=True, verbose=1)"
     ],
     "language": "python",
     "metadata": {},
     "outputs": [],
     "prompt_number": 62
    },
    {
     "cell_type": "code",
     "collapsed": false,
     "input": [
      "net5.fit(X, y, max_iter=10)"
     ],
     "language": "python",
     "metadata": {},
     "outputs": [
      {
       "output_type": "stream",
       "stream": "stdout",
       "text": [
        "# Neural Network with 197401 learnable parameters\n",
        "\n",
        "\n",
        "## Layer information\n",
        "|   # | name              |   output shape |   total |\n",
        "|----:|:------------------|---------------:|--------:|\n",
        "|   0 | input0            |            784 |     784 |\n",
        "|   1 | dense0            |            200 |     200 |\n",
        "|   2 | dense1            |            200 |     200 |\n",
        "|   3 | regressionoutput0 |              1 |       1 |\n",
        "\n",
        "## Training Information\n"
       ]
      },
      {
       "output_type": "stream",
       "stream": "stdout",
       "text": [
        "\n",
        "|   epoch |   train loss |   valid loss |   best |   train/val | valid acc   |    dur |"
       ]
      },
      {
       "output_type": "stream",
       "stream": "stdout",
       "text": [
        "\n",
        "|--------:|-------------:|-------------:|-------:|------------:|:------------|-------:|\n",
        "|       0 |       4.6327 |       3.2813 | 3.2813 |      1.4118 |             | 2.5970 |\n",
        "|       1 |       3.0845 |       2.7430 | 2.7430 |      1.1245 |             | 2.8210 |"
       ]
      },
      {
       "output_type": "stream",
       "stream": "stdout",
       "text": [
        "\n",
        "|       2 |       2.5613 |       2.3133 | 2.3133 |      1.1072 |             | 3.0750 |"
       ]
      },
      {
       "output_type": "stream",
       "stream": "stdout",
       "text": [
        "\n",
        "|       3 |       2.1711 |       1.9530 | 1.9530 |      1.1117 |             | 2.8650 |"
       ]
      },
      {
       "output_type": "stream",
       "stream": "stdout",
       "text": [
        "\n",
        "|       4 |       1.8817 |       1.6420 | 1.6420 |      1.1460 |             | 3.0590 |"
       ]
      },
      {
       "output_type": "stream",
       "stream": "stdout",
       "text": [
        "\n",
        "|       5 |       1.6441 |       1.4402 | 1.4402 |      1.1416 |             | 2.5620 |"
       ]
      },
      {
       "output_type": "stream",
       "stream": "stdout",
       "text": [
        "\n",
        "|       6 |       1.4699 |       1.3038 | 1.3038 |      1.1275 |             | 2.5590 |"
       ]
      },
      {
       "output_type": "stream",
       "stream": "stdout",
       "text": [
        "\n",
        "|       7 |       1.3400 |       1.2085 | 1.2085 |      1.1089 |             | 2.5160 |"
       ]
      },
      {
       "output_type": "stream",
       "stream": "stdout",
       "text": [
        "\n",
        "|       8 |       1.2377 |       1.1386 | 1.1386 |      1.0870 |             | 2.5600 |"
       ]
      },
      {
       "output_type": "stream",
       "stream": "stdout",
       "text": [
        "\n",
        "|       9 |       1.1544 |       1.0834 | 1.0834 |      1.0656 |             | 2.5920 |"
       ]
      },
      {
       "output_type": "stream",
       "stream": "stdout",
       "text": [
        "\n"
       ]
      },
      {
       "metadata": {},
       "output_type": "pyout",
       "prompt_number": 63,
       "text": [
        "NeuralNet(connection_pattern=None,\n",
        "     cost_function=<function mse at 0x0000000017C1ECF8>,\n",
        "     encoder=IdleTransformer(), eval_size=0.2,\n",
        "     iterator=<nolearn.lasagne.BatchIterator object at 0x0000000017C1CDA0>,\n",
        "     lambda2=None, layers=[input0, dense0, dense1, regressionoutput0],\n",
        "     recurrent=False, regression=True,\n",
        "     updater=<netz.updaters.SGD object at 0x0000000017C1CD68>, verbose=1)"
       ]
      }
     ],
     "prompt_number": 63
    },
    {
     "cell_type": "markdown",
     "metadata": {},
     "source": [
      "The regression net will use the mean squared error by default, which is what you see as train and valid loss. Accuracy makes no sense for regression, thus it is just set to -1."
     ]
    },
    {
     "cell_type": "code",
     "collapsed": false,
     "input": [
      "X_valid, y_valid = net5.get_valid_data(X, y)"
     ],
     "language": "python",
     "metadata": {},
     "outputs": [],
     "prompt_number": 64
    },
    {
     "cell_type": "code",
     "collapsed": false,
     "input": [
      "net5.score(X_valid, y_valid)"
     ],
     "language": "python",
     "metadata": {},
     "outputs": [
      {
       "metadata": {},
       "output_type": "pyout",
       "prompt_number": 65,
       "text": [
        "1.0854088323456901"
       ]
      }
     ],
     "prompt_number": 65
    },
    {
     "cell_type": "heading",
     "level": 3,
     "metadata": {},
     "source": [
      "Saving and loading parameters"
     ]
    },
    {
     "cell_type": "heading",
     "level": 4,
     "metadata": {},
     "source": [
      "Saving and loading model parameters is pretty easy, just proceed as shown below."
     ]
    },
    {
     "cell_type": "code",
     "collapsed": false,
     "input": [
      "net5.save_params('net5_params.pkl')"
     ],
     "language": "python",
     "metadata": {},
     "outputs": [],
     "prompt_number": 66
    },
    {
     "cell_type": "markdown",
     "metadata": {},
     "source": [
      "Now we can load the parameters by preparing a network with the same architecture and loading the saved parameters."
     ]
    },
    {
     "cell_type": "code",
     "collapsed": false,
     "input": [
      "layers5b = [InputLayer(),\n",
      "            DenseLayer(200),\n",
      "            DenseLayer(200),\n",
      "            RegressionOutputLayer()]"
     ],
     "language": "python",
     "metadata": {},
     "outputs": [],
     "prompt_number": 67
    },
    {
     "cell_type": "code",
     "collapsed": false,
     "input": [
      "net5b = NeuralNet(layers5b, regression=True, verbose=1)"
     ],
     "language": "python",
     "metadata": {},
     "outputs": [],
     "prompt_number": 68
    },
    {
     "cell_type": "markdown",
     "metadata": {},
     "source": [
      "Before loading in the weights, you have to initialize the net so that it knows the shape of the parameters."
     ]
    },
    {
     "cell_type": "code",
     "collapsed": false,
     "input": [
      "net5b.initialize(X, y)"
     ],
     "language": "python",
     "metadata": {},
     "outputs": [
      {
       "output_type": "stream",
       "stream": "stdout",
       "text": [
        "# Neural Network with 197401 learnable parameters\n",
        "\n",
        "\n",
        "## Layer information\n",
        "|   # | name              |   output shape |   total |\n",
        "|----:|:------------------|---------------:|--------:|\n",
        "|   0 | input0            |            784 |     784 |\n",
        "|   1 | dense0            |            200 |     200 |\n",
        "|   2 | dense1            |            200 |     200 |\n",
        "|   3 | regressionoutput0 |              1 |       1 |\n",
        "\n"
       ]
      }
     ],
     "prompt_number": 69
    },
    {
     "cell_type": "markdown",
     "metadata": {},
     "source": [
      "This initialization is also implicitely called the first time the model is fitted."
     ]
    },
    {
     "cell_type": "code",
     "collapsed": false,
     "input": [
      "score_before = net5b.score(X_valid, y_valid)"
     ],
     "language": "python",
     "metadata": {},
     "outputs": [],
     "prompt_number": 70
    },
    {
     "cell_type": "code",
     "collapsed": false,
     "input": [
      "net5b.load_params('net5_params.pkl')"
     ],
     "language": "python",
     "metadata": {},
     "outputs": [
      {
       "output_type": "stream",
       "stream": "stdout",
       "text": [
        "Loaded parameter W_dense0 (shape 784x200) from layer 1 to layer 1 (dense0).\n",
        "Loaded parameter b_dense0 (shape 1x200) from layer 1 to layer 1 (dense0).\n",
        "Loaded parameter W_dense1 (shape 200x200) from layer 2 to layer 2 (dense1).\n",
        "Loaded parameter b_dense1 (shape 1x200) from layer 2 to layer 2 (dense1).\n",
        "Loaded parameter W_regressionoutput0 (shape 200x1) from layer 3 to layer 3 (regressionoutput0).\n",
        "Loaded parameter b_regressionoutput0 (shape 1x1) from layer 3 to layer 3 (regressionoutput0).\n"
       ]
      }
     ],
     "prompt_number": 71
    },
    {
     "cell_type": "code",
     "collapsed": false,
     "input": [
      "%pdb on"
     ],
     "language": "python",
     "metadata": {},
     "outputs": [
      {
       "output_type": "stream",
       "stream": "stdout",
       "text": [
        "Automatic pdb calling has been turned ON\n"
       ]
      }
     ],
     "prompt_number": 72
    },
    {
     "cell_type": "code",
     "collapsed": false,
     "input": [
      "score_after = net5b.score(X_valid, y_valid)"
     ],
     "language": "python",
     "metadata": {},
     "outputs": [],
     "prompt_number": 73
    },
    {
     "cell_type": "code",
     "collapsed": false,
     "input": [
      "print(\"Score before loading: {:.3f}, score after loading: {:.3f}\".format(score_before, score_after))"
     ],
     "language": "python",
     "metadata": {},
     "outputs": [
      {
       "output_type": "stream",
       "stream": "stdout",
       "text": [
        "Score before loading: 48.007, score after loading: 1.085\n"
       ]
      }
     ],
     "prompt_number": 74
    },
    {
     "cell_type": "markdown",
     "metadata": {},
     "source": [
      "Using this way to load and save models, not all attributes of the model are saved. For example, the train history will be reset. To preserve this, you have to pickle the whole model using the usual pickle procedure. However, this might result in a much larger file and much slower load and save times."
     ]
    },
    {
     "cell_type": "heading",
     "level": 4,
     "metadata": {},
     "source": [
      "It is also possible to load parameters into a neural net even if it does not have the exact same architecture. In that case, the parameters will be matched to the new shapes as exactly as possible."
     ]
    },
    {
     "cell_type": "markdown",
     "metadata": {},
     "source": [
      "In this example, the first hidden layer now has 300 units instead of 200."
     ]
    },
    {
     "cell_type": "code",
     "collapsed": false,
     "input": [
      "layers5c = [InputLayer(),\n",
      "            DenseLayer(300),\n",
      "            DenseLayer(200),\n",
      "            RegressionOutputLayer()]"
     ],
     "language": "python",
     "metadata": {},
     "outputs": [],
     "prompt_number": 75
    },
    {
     "cell_type": "code",
     "collapsed": false,
     "input": [
      "net5c = NeuralNet(layers5c, regression=True, verbose=1)"
     ],
     "language": "python",
     "metadata": {},
     "outputs": [],
     "prompt_number": 76
    },
    {
     "cell_type": "code",
     "collapsed": false,
     "input": [
      "net5c.initialize(X, y)"
     ],
     "language": "python",
     "metadata": {},
     "outputs": [
      {
       "output_type": "stream",
       "stream": "stdout",
       "text": [
        "# Neural Network with 295901 learnable parameters\n",
        "\n",
        "\n",
        "## Layer information\n",
        "|   # | name              |   output shape |   total |\n",
        "|----:|:------------------|---------------:|--------:|\n",
        "|   0 | input0            |            784 |     784 |\n",
        "|   1 | dense0            |            300 |     300 |\n",
        "|   2 | dense1            |            200 |     200 |\n",
        "|   3 | regressionoutput0 |              1 |       1 |\n",
        "\n"
       ]
      }
     ],
     "prompt_number": 77
    },
    {
     "cell_type": "code",
     "collapsed": false,
     "input": [
      "net5c.load_params('net5_params.pkl')"
     ],
     "language": "python",
     "metadata": {},
     "outputs": [
      {
       "output_type": "stream",
       "stream": "stdout",
       "text": [
        "Loaded parameter b_dense1 (shape 1x200) from layer 2 to layer 2 (dense1).\n",
        "Loaded parameter W_regressionoutput0 (shape 200x1) from layer 3 to layer 3 (regressionoutput0).\n",
        "Loaded parameter b_regressionoutput0 (shape 1x1) from layer 3 to layer 3 (regressionoutput0).\n"
       ]
      }
     ],
     "prompt_number": 78
    },
    {
     "cell_type": "markdown",
     "metadata": {},
     "source": [
      "All parameters whose shapes fit are loaded, the remaining parameters are freshly initialized. This is useful if you want to experiment with sligthly different architectures but don't want to always start with completely random weights."
     ]
    },
    {
     "cell_type": "code",
     "collapsed": false,
     "input": [],
     "language": "python",
     "metadata": {},
     "outputs": [],
     "prompt_number": 79
    }
   ],
   "metadata": {}
  }
 ]
}