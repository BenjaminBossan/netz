{
 "metadata": {
  "name": "",
  "signature": "sha256:1e068a29c5cdad05d56515870f01c80df55786180b926fe409b6a22e94ae1bda"
 },
 "nbformat": 3,
 "nbformat_minor": 0,
 "worksheets": [
  {
   "cells": [
    {
     "cell_type": "heading",
     "level": 1,
     "metadata": {},
     "source": [
      "Recurrent neural networks on Rotten Tomatoes data"
     ]
    },
    {
     "cell_type": "markdown",
     "metadata": {},
     "source": [
      "An example of a recurrent neural net that digests sequences of inputs. At the moment, the net does not train vey well. The reason could be wrong hyper parameter choice, too few data, wrong implementation, or simply that norm constraint/gradient clipping is needed.<br>\n",
      "However, some of the embeddings that are learned already look quite nice. See the word similarities at the end of the notebook."
     ]
    },
    {
     "cell_type": "heading",
     "level": 2,
     "metadata": {},
     "source": [
      "Imports"
     ]
    },
    {
     "cell_type": "code",
     "collapsed": false,
     "input": [
      "# -*- coding: utf-8 -*-\n",
      "from __future__ import division\n",
      "from copy import deepcopy\n",
      "from collections import Counter\n",
      "import re\n",
      "\n",
      "import numpy as np\n",
      "import pandas as pd\n",
      "import matplotlib.pyplot as plt\n",
      "from sklearn.preprocessing import LabelEncoder\n",
      "from sklearn.cross_validation import train_test_split\n",
      "import theano\n",
      "import theano.tensor as T"
     ],
     "language": "python",
     "metadata": {},
     "outputs": [],
     "prompt_number": 1
    },
    {
     "cell_type": "code",
     "collapsed": false,
     "input": [
      "%pylab inline"
     ],
     "language": "python",
     "metadata": {},
     "outputs": [
      {
       "output_type": "stream",
       "stream": "stdout",
       "text": [
        "Populating the interactive namespace from numpy and matplotlib\n"
       ]
      }
     ],
     "prompt_number": 2
    },
    {
     "cell_type": "code",
     "collapsed": false,
     "input": [
      "from netz.layers import InputLayer, DropoutLayer, RecurrentLayer, DenseLayer, OutputLayer, EmbeddingLayer\n",
      "from netz.layers import GRULayer\n",
      "from netz.neuralnet import RNN\n",
      "from netz.costfunctions import mse, crossentropy\n",
      "from netz.nonlinearities import rectify, sigmoid, tanh\n",
      "from netz.updaters import Momentum, Nesterov, SGD, Adadelta, Adagrad, RMSProp\n",
      "from netz.visualize import plot_loss, plot_conv_weights\n",
      "from netz.neuralnet import BatchIterator"
     ],
     "language": "python",
     "metadata": {},
     "outputs": [],
     "prompt_number": 3
    },
    {
     "cell_type": "heading",
     "level": 2,
     "metadata": {},
     "source": [
      "Data"
     ]
    },
    {
     "cell_type": "markdown",
     "metadata": {},
     "source": [
      "Get Rotten Tomatoes data from Kaggle:\n",
      "    [Link](http://www.kaggle.com/c/sentiment-analysis-on-movie-reviews/data)"
     ]
    },
    {
     "cell_type": "code",
     "collapsed": false,
     "input": [
      "df = pd.read_table('../data/rotten_tomatoes.tsv', usecols=['Phrase', 'Sentiment'])"
     ],
     "language": "python",
     "metadata": {},
     "outputs": [],
     "prompt_number": 4
    },
    {
     "cell_type": "code",
     "collapsed": false,
     "input": [
      "df.tail()"
     ],
     "language": "python",
     "metadata": {},
     "outputs": [
      {
       "html": [
        "<div style=\"max-height:1000px;max-width:1500px;overflow:auto;\">\n",
        "<table border=\"1\" class=\"dataframe\">\n",
        "  <thead>\n",
        "    <tr style=\"text-align: right;\">\n",
        "      <th></th>\n",
        "      <th>Phrase</th>\n",
        "      <th>Sentiment</th>\n",
        "    </tr>\n",
        "  </thead>\n",
        "  <tbody>\n",
        "    <tr>\n",
        "      <th>156055</th>\n",
        "      <td>                 Hearst 's</td>\n",
        "      <td> 2</td>\n",
        "    </tr>\n",
        "    <tr>\n",
        "      <th>156056</th>\n",
        "      <td> forced avuncular chortles</td>\n",
        "      <td> 1</td>\n",
        "    </tr>\n",
        "    <tr>\n",
        "      <th>156057</th>\n",
        "      <td>        avuncular chortles</td>\n",
        "      <td> 3</td>\n",
        "    </tr>\n",
        "    <tr>\n",
        "      <th>156058</th>\n",
        "      <td>                 avuncular</td>\n",
        "      <td> 2</td>\n",
        "    </tr>\n",
        "    <tr>\n",
        "      <th>156059</th>\n",
        "      <td>                  chortles</td>\n",
        "      <td> 2</td>\n",
        "    </tr>\n",
        "  </tbody>\n",
        "</table>\n",
        "<p>5 rows \u00d7 2 columns</p>\n",
        "</div>"
       ],
       "metadata": {},
       "output_type": "pyout",
       "prompt_number": 5,
       "text": [
        "                           Phrase  Sentiment\n",
        "156055                  Hearst 's          2\n",
        "156056  forced avuncular chortles          1\n",
        "156057         avuncular chortles          3\n",
        "156058                  avuncular          2\n",
        "156059                   chortles          2\n",
        "\n",
        "[5 rows x 2 columns]"
       ]
      }
     ],
     "prompt_number": 5
    },
    {
     "cell_type": "code",
     "collapsed": false,
     "input": [
      "X, y = df['Phrase'].values, df['Sentiment'].values.astype(np.int32)"
     ],
     "language": "python",
     "metadata": {},
     "outputs": [],
     "prompt_number": 6
    },
    {
     "cell_type": "code",
     "collapsed": false,
     "input": [
      "def clean_text(line):\n",
      "    line = line.lower().strip()\n",
      "    line = ''.join([c for c in line if c.isalnum() or (c == ' ')])\n",
      "    return line"
     ],
     "language": "python",
     "metadata": {},
     "outputs": [],
     "prompt_number": 7
    },
    {
     "cell_type": "code",
     "collapsed": false,
     "input": [
      "X = [clean_text(line) for line in X]"
     ],
     "language": "python",
     "metadata": {},
     "outputs": [],
     "prompt_number": 8
    },
    {
     "cell_type": "code",
     "collapsed": false,
     "input": [
      "all_words = [word for line in X for word in line.split(' ') if word]"
     ],
     "language": "python",
     "metadata": {},
     "outputs": [],
     "prompt_number": 9
    },
    {
     "cell_type": "code",
     "collapsed": false,
     "input": [
      "NWORDS = 5000\n",
      "count = Counter(all_words)\n",
      "common_words = list(zip(*count.most_common(NWORDS)))[0]"
     ],
     "language": "python",
     "metadata": {},
     "outputs": [],
     "prompt_number": 10
    },
    {
     "cell_type": "code",
     "collapsed": false,
     "input": [
      "UNKNOWN = '<unknown>'\n",
      "encoder = LabelEncoder().fit(np.asarray(list(common_words) + [UNKNOWN]))"
     ],
     "language": "python",
     "metadata": {},
     "outputs": [],
     "prompt_number": 11
    },
    {
     "cell_type": "code",
     "collapsed": false,
     "input": [
      "common_words = set(common_words)"
     ],
     "language": "python",
     "metadata": {},
     "outputs": [],
     "prompt_number": 12
    },
    {
     "cell_type": "code",
     "collapsed": false,
     "input": [
      "# replace uncommon words by token, take first 50000 samples\n",
      "n = 50000\n",
      "Xt, yt = [], []\n",
      "counter = 0\n",
      "for sentence, label in zip(X, y):\n",
      "    words = sentence.split(' ')\n",
      "    if len(words) < 2:\n",
      "        continue\n",
      "    words = [word if word in common_words else UNKNOWN for word in words]\n",
      "    encoded_words = encoder.transform(words)\n",
      "    Xt.append(encoded_words.astype(np.int32).tolist())\n",
      "    yt.append(label)\n",
      "    counter += 1\n",
      "    if (counter > 0) and (counter % 5000 == 0):\n",
      "        print(\"Progress: {:>10} of {:<10}\".format(counter, n))\n",
      "    if counter >= n:\n",
      "        break\n",
      "print(\"Finished\")"
     ],
     "language": "python",
     "metadata": {},
     "outputs": [
      {
       "output_type": "stream",
       "stream": "stdout",
       "text": [
        "Progress:       5000 of 50000     \n",
        "Progress:      10000 of 50000     "
       ]
      },
      {
       "output_type": "stream",
       "stream": "stdout",
       "text": [
        "\n",
        "Progress:      15000 of 50000     "
       ]
      },
      {
       "output_type": "stream",
       "stream": "stdout",
       "text": [
        "\n",
        "Progress:      20000 of 50000     "
       ]
      },
      {
       "output_type": "stream",
       "stream": "stdout",
       "text": [
        "\n",
        "Progress:      25000 of 50000     "
       ]
      },
      {
       "output_type": "stream",
       "stream": "stdout",
       "text": [
        "\n",
        "Progress:      30000 of 50000     "
       ]
      },
      {
       "output_type": "stream",
       "stream": "stdout",
       "text": [
        "\n",
        "Progress:      35000 of 50000     "
       ]
      },
      {
       "output_type": "stream",
       "stream": "stdout",
       "text": [
        "\n",
        "Progress:      40000 of 50000     "
       ]
      },
      {
       "output_type": "stream",
       "stream": "stdout",
       "text": [
        "\n",
        "Progress:      45000 of 50000     "
       ]
      },
      {
       "output_type": "stream",
       "stream": "stdout",
       "text": [
        "\n",
        "Progress:      50000 of 50000     "
       ]
      },
      {
       "output_type": "stream",
       "stream": "stdout",
       "text": [
        "\n",
        "Finished\n"
       ]
      }
     ],
     "prompt_number": 13
    },
    {
     "cell_type": "code",
     "collapsed": false,
     "input": [
      "Xt = np.asarray(Xt)\n",
      "yt = np.asarray(yt).astype(np.int32)"
     ],
     "language": "python",
     "metadata": {},
     "outputs": [],
     "prompt_number": 14
    },
    {
     "cell_type": "code",
     "collapsed": false,
     "input": [
      "Xt.shape, yt.shape, len(encoder.classes_)"
     ],
     "language": "python",
     "metadata": {},
     "outputs": [
      {
       "metadata": {},
       "output_type": "pyout",
       "prompt_number": 15,
       "text": [
        "((50000L,), (50000L,), 5001)"
       ]
      }
     ],
     "prompt_number": 15
    },
    {
     "cell_type": "heading",
     "level": 4,
     "metadata": {},
     "source": [
      "Most similar"
     ]
    },
    {
     "cell_type": "code",
     "collapsed": false,
     "input": [
      "def most_similar(word, topn=10):\n",
      "    x = encoder.transform(word)\n",
      "    dists = np.dot(W, W[x].T)\n",
      "    closest = np.argsort(dists.flatten())[::-1][1:1 + topn]\n",
      "    return encoder.inverse_transform(closest)"
     ],
     "language": "python",
     "metadata": {},
     "outputs": [],
     "prompt_number": 16
    },
    {
     "cell_type": "heading",
     "level": 3,
     "metadata": {},
     "source": [
      "GRU"
     ]
    },
    {
     "cell_type": "code",
     "collapsed": false,
     "input": [
      "layers2 = [EmbeddingLayer(50, len(encoder.classes_), lambda2=1e-5),\n",
      "           GRULayer(100, init_scheme='orthogonal', lambda2=1e-5,\n",
      "                    nonlinearity=tanh, nonlinearity_r=sigmoid, nonlinearity_z=sigmoid),\n",
      "           OutputLayer(lambda2=1e-5)]"
     ],
     "language": "python",
     "metadata": {},
     "outputs": [],
     "prompt_number": 17
    },
    {
     "cell_type": "code",
     "collapsed": false,
     "input": [
      "rnn2 = RNN(layers=layers2, updater=Nesterov(learn_rate=0.001), verbose=True)"
     ],
     "language": "python",
     "metadata": {},
     "outputs": [],
     "prompt_number": 18
    },
    {
     "cell_type": "code",
     "collapsed": false,
     "input": [
      "rnn2.fit(Xt, yt, max_iter=5)"
     ],
     "language": "python",
     "metadata": {},
     "outputs": [
      {
       "output_type": "stream",
       "stream": "stdout",
       "text": [
        "# ~=* Neural Network with 295855 learnable parameters *=~ \n",
        "\n",
        "\n",
        "## Layer information\n",
        "  # | name               | output shape       |        total \n",
        "----|--------------------|--------------------|--------------\n",
        "  0 | embedding0         | (None, 50)         |           50\n",
        "  1 | gru0               | (1, 100)           |          100\n",
        "  2 | output0            | (1, 5)             |            5\n",
        "\n",
        "\n",
        "## Training Information\n",
        " Epoch | Train loss | Valid loss | Train/Val | Valid acc | Dur\n",
        "-------|------------|------------|-----------|-----------|------"
       ]
      },
      {
       "output_type": "stream",
       "stream": "stdout",
       "text": [
        "\n",
        "     0 |   1.297221 |   1.300978 |    0.997  |  0.4898   | 605.7s"
       ]
      },
      {
       "output_type": "stream",
       "stream": "stdout",
       "text": [
        "\n",
        "     1 |   1.266577 |   1.291674 |    0.981  |  0.4932   | 324.1s"
       ]
      },
      {
       "output_type": "stream",
       "stream": "stdout",
       "text": [
        "\n",
        "     2 |   1.225497 |   1.280687 |    0.957  |  0.4962   | 316.0s"
       ]
      },
      {
       "output_type": "stream",
       "stream": "stdout",
       "text": [
        "\n",
        "     3 |   1.181819 |   1.275549 |    0.927  |  0.5013   | 320.6s"
       ]
      },
      {
       "output_type": "stream",
       "stream": "stdout",
       "text": [
        "\n",
        "     4 |   1.147172 |   1.275602 |    0.899  |  0.5010   | 310.8s"
       ]
      },
      {
       "output_type": "stream",
       "stream": "stdout",
       "text": [
        "\n"
       ]
      },
      {
       "output_type": "stream",
       "stream": "stderr",
       "text": [
        "C:\\Anaconda\\lib\\site-packages\\theano-0.6.0-py2.7.egg\\theano\\scan_module\\scan_perform_ext.py:133: RuntimeWarning: numpy.ndarray size changed, may indicate binary incompatibility\n",
        "  from scan_perform.scan_perform import *\n"
       ]
      },
      {
       "metadata": {},
       "output_type": "pyout",
       "prompt_number": 19,
       "text": [
        "RNN(cost_function=<function crossentropy at 0x00000000171FEC88>,\n",
        "  eval_size=0.2,\n",
        "  iterator=<nolearn.lasagne.BatchIterator object at 0x00000000172E71D0>,\n",
        "  lambda2=None,\n",
        "  layers=[<netz.layers.EmbeddingLayer object at 0x000000001FD66D30>, <netz.layers.GRULayer object at 0x000000001FD66E48>, <netz.layers.OutputLayer object at 0x000000001FD66E80>],\n",
        "  updater=<netz.updaters.Nesterov object at 0x000000001FD66A20>,\n",
        "  verbose=True)"
       ]
      }
     ],
     "prompt_number": 19
    },
    {
     "cell_type": "code",
     "collapsed": false,
     "input": [
      "X_train, y_train = rnn2.get_train_data(Xt, yt)\n",
      "X_valid, y_valid = rnn2.get_valid_data(Xt, yt)"
     ],
     "language": "python",
     "metadata": {},
     "outputs": [],
     "prompt_number": 20
    },
    {
     "cell_type": "code",
     "collapsed": false,
     "input": [
      "print rnn2.score(X_train, y_train)\n",
      "print rnn2.score(X_valid, y_valid)"
     ],
     "language": "python",
     "metadata": {},
     "outputs": [
      {
       "output_type": "stream",
       "stream": "stdout",
       "text": [
        "1.11357\n",
        "1.2756"
       ]
      },
      {
       "output_type": "stream",
       "stream": "stdout",
       "text": [
        "\n"
       ]
      }
     ],
     "prompt_number": 21
    },
    {
     "cell_type": "code",
     "collapsed": false,
     "input": [
      "print rnn2.score(X_train, y_train, accuracy=True)\n",
      "print rnn2.score(X_valid, y_valid, accuracy=True)"
     ],
     "language": "python",
     "metadata": {},
     "outputs": [
      {
       "output_type": "stream",
       "stream": "stdout",
       "text": [
        "0.544827241362\n",
        "0.50099980004"
       ]
      },
      {
       "output_type": "stream",
       "stream": "stdout",
       "text": [
        "\n"
       ]
      }
     ],
     "prompt_number": 22
    },
    {
     "cell_type": "code",
     "collapsed": false,
     "input": [
      "plot_loss(rnn2)"
     ],
     "language": "python",
     "metadata": {},
     "outputs": [
      {
       "metadata": {},
       "output_type": "display_data",
       "png": "[encoded data removed]",
       "text": [
        "<matplotlib.figure.Figure at 0x2ae2ceb8>"
       ]
      }
     ],
     "prompt_number": 23
    },
    {
     "cell_type": "heading",
     "level": 4,
     "metadata": {},
     "source": [
      "Similarity"
     ]
    },
    {
     "cell_type": "code",
     "collapsed": false,
     "input": [
      "W = layers2[0].W.get_value()"
     ],
     "language": "python",
     "metadata": {},
     "outputs": [],
     "prompt_number": 24
    },
    {
     "cell_type": "code",
     "collapsed": false,
     "input": [
      "most_similar(['bad'])"
     ],
     "language": "python",
     "metadata": {},
     "outputs": [
      {
       "metadata": {},
       "output_type": "pyout",
       "prompt_number": 25,
       "text": [
        "array(['awful', 'bore', 'dull', 'boring', 'blandness', 'unfunny',\n",
        "       'redundancy', 'worst', 'loses', 'unoriginal'], \n",
        "      dtype='|S17')"
       ]
      }
     ],
     "prompt_number": 25
    },
    {
     "cell_type": "code",
     "collapsed": false,
     "input": [
      "most_similar(['good'])"
     ],
     "language": "python",
     "metadata": {},
     "outputs": [
      {
       "metadata": {},
       "output_type": "pyout",
       "prompt_number": 26,
       "text": [
        "array(['watchable', 'compelling', 'terrific', 'bore', 'satisfying', 'dull',\n",
        "       'gorgeous', 'best', 'enjoyable', 'bad'], \n",
        "      dtype='|S17')"
       ]
      }
     ],
     "prompt_number": 26
    },
    {
     "cell_type": "code",
     "collapsed": false,
     "input": [
      "most_similar(['boring'])"
     ],
     "language": "python",
     "metadata": {},
     "outputs": [
      {
       "metadata": {},
       "output_type": "pyout",
       "prompt_number": 27,
       "text": [
        "array(['dull', 'awful', 'bore', 'boring', 'unfunny', 'blandness', 'loses',\n",
        "       'redundancy', 'unoriginal', 'worst'], \n",
        "      dtype='|S17')"
       ]
      }
     ],
     "prompt_number": 27
    },
    {
     "cell_type": "code",
     "collapsed": false,
     "input": [
      "most_similar(['very'])"
     ],
     "language": "python",
     "metadata": {},
     "outputs": [
      {
       "metadata": {},
       "output_type": "pyout",
       "prompt_number": 28,
       "text": [
        "array(['brilliant', 'performance', 'intelligent', 'masterpiece',\n",
        "       'satisfying', 'enjoyable', 'beautifully', 'gorgeous', 'wonderful',\n",
        "       'compelling'], \n",
        "      dtype='|S17')"
       ]
      }
     ],
     "prompt_number": 28
    },
    {
     "cell_type": "code",
     "collapsed": false,
     "input": [
      "most_similar(['long'])"
     ],
     "language": "python",
     "metadata": {},
     "outputs": [
      {
       "metadata": {},
       "output_type": "pyout",
       "prompt_number": 29,
       "text": [
        "array(['awful', 'bore', 'dull', 'blandness', 'boring', 'unfunny',\n",
        "       'redundancy', 'unoriginal', 'loses', 'rating'], \n",
        "      dtype='|S17')"
       ]
      }
     ],
     "prompt_number": 29
    },
    {
     "cell_type": "code",
     "collapsed": false,
     "input": [],
     "language": "python",
     "metadata": {},
     "outputs": [],
     "prompt_number": 31
    }
   ],
   "metadata": {}
  }
 ]
}