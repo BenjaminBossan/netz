{
 "metadata": {
  "name": "",
  "signature": "sha256:84c4f8681dc6dc80dbf8f5dd15bbc8c02a9247e47ad44653230c33d38bc017da"
 },
 "nbformat": 3,
 "nbformat_minor": 0,
 "worksheets": [
  {
   "cells": [
    {
     "cell_type": "heading",
     "level": 1,
     "metadata": {},
     "source": [
      "Convolutions"
     ]
    },
    {
     "cell_type": "markdown",
     "metadata": {},
     "source": [
      "Showing off the use of convolution by example of the MNIST data set."
     ]
    },
    {
     "cell_type": "heading",
     "level": 2,
     "metadata": {},
     "source": [
      "Imports"
     ]
    },
    {
     "cell_type": "code",
     "collapsed": false,
     "input": [
      "# -*- coding: utf-8 -*-\n",
      "from __future__ import division\n",
      "from copy import deepcopy\n",
      "\n",
      "import numpy as np\n",
      "import pandas as pd\n",
      "import matplotlib.pyplot as plt\n",
      "import theano\n",
      "import theano.tensor as T"
     ],
     "language": "python",
     "metadata": {},
     "outputs": [],
     "prompt_number": 1
    },
    {
     "cell_type": "code",
     "collapsed": false,
     "input": [
      "from netz.layers import InputLayer, DenseLayer, OutputLayer, Conv2DLayer, MaxPool2DLayer, DropoutLayer, BatchNormLayer\n",
      "from netz.neuralnet import NeuralNet\n",
      "from netz.costfunctions import mse, crossentropy\n",
      "from netz.nonlinearities import rectify\n",
      "from netz.updaters import Momentum, Nesterov, SGD, Adadelta, Adagrad, RMSProp\n",
      "from netz.visualize import plot_loss, plot_conv_weights"
     ],
     "language": "python",
     "metadata": {},
     "outputs": [],
     "prompt_number": 2
    },
    {
     "cell_type": "code",
     "collapsed": false,
     "input": [
      "%pylab inline"
     ],
     "language": "python",
     "metadata": {},
     "outputs": [
      {
       "output_type": "stream",
       "stream": "stdout",
       "text": [
        "Populating the interactive namespace from numpy and matplotlib\n"
       ]
      }
     ],
     "prompt_number": 3
    },
    {
     "cell_type": "heading",
     "level": 2,
     "metadata": {},
     "source": [
      "Data"
     ]
    },
    {
     "cell_type": "markdown",
     "metadata": {},
     "source": [
      "Make sure you have the MNIST data set ready. You can get it here: http://www.kaggle.com/c/digit-recognizer/data."
     ]
    },
    {
     "cell_type": "heading",
     "level": 3,
     "metadata": {},
     "source": [
      "Load data"
     ]
    },
    {
     "cell_type": "code",
     "collapsed": false,
     "input": [
      "df = pd.read_csv('../data/mnist.csv', nrows=4000)"
     ],
     "language": "python",
     "metadata": {},
     "outputs": [],
     "prompt_number": 4
    },
    {
     "cell_type": "code",
     "collapsed": false,
     "input": [
      "y = df.values[:, 0]\n",
      "X = df.values[:, 1:] / 255"
     ],
     "language": "python",
     "metadata": {},
     "outputs": [],
     "prompt_number": 5
    },
    {
     "cell_type": "code",
     "collapsed": false,
     "input": [
      "X = (X - X.mean()) / X.std()"
     ],
     "language": "python",
     "metadata": {},
     "outputs": [],
     "prompt_number": 6
    },
    {
     "cell_type": "code",
     "collapsed": false,
     "input": [
      "X2D = X.reshape(-1, 1, 28, 28)"
     ],
     "language": "python",
     "metadata": {},
     "outputs": [],
     "prompt_number": 7
    },
    {
     "cell_type": "heading",
     "level": 3,
     "metadata": {},
     "source": [
      "Plot data"
     ]
    },
    {
     "cell_type": "code",
     "collapsed": false,
     "input": [
      "figs, axes = plt.subplots(4, 4, figsize=(6, 6))\n",
      "for i in range(4):\n",
      "    for j in range(4):\n",
      "        axes[i, j].imshow(-X2D[i + 4 * j][0], cmap='gray', interpolation='nearest')\n",
      "        axes[i, j].set_xticks([])\n",
      "        axes[i, j].set_yticks([])\n",
      "        axes[i, j].set_title(\"Label: {}\".format(y[i + 4 * j]))\n",
      "        axes[i, j].axis('off')"
     ],
     "language": "python",
     "metadata": {},
     "outputs": [
      {
       "metadata": {},
       "output_type": "display_data",
       "png": "[encoded data removed]",
       "text": [
        "<matplotlib.figure.Figure at 0x1a3c72e8>"
       ]
      }
     ],
     "prompt_number": 8
    },
    {
     "cell_type": "heading",
     "level": 2,
     "metadata": {},
     "source": [
      "Neural nets"
     ]
    },
    {
     "cell_type": "heading",
     "level": 3,
     "metadata": {},
     "source": [
      "Including pooling layer and using rectified linear units instead of sigmoid"
     ]
    },
    {
     "cell_type": "code",
     "collapsed": false,
     "input": [
      "layers1 = [InputLayer(),\n",
      "           Conv2DLayer(16, (7, 7), nonlinearity=rectify),\n",
      "           MaxPool2DLayer(ds=(3, 3)),\n",
      "           Conv2DLayer(32, (4, 4), nonlinearity=rectify),\n",
      "           MaxPool2DLayer(),\n",
      "           DropoutLayer(p=0.5),\n",
      "           DenseLayer(100, nonlinearity=rectify),\n",
      "           DenseLayer(50, nonlinearity=rectify),\n",
      "           OutputLayer()]"
     ],
     "language": "python",
     "metadata": {},
     "outputs": [],
     "prompt_number": 9
    },
    {
     "cell_type": "code",
     "collapsed": false,
     "input": [
      "net1 = NeuralNet(layers1, cost_function=crossentropy, updater=Nesterov(), verbose=1, eval_size=0.2)"
     ],
     "language": "python",
     "metadata": {},
     "outputs": [],
     "prompt_number": 10
    },
    {
     "cell_type": "code",
     "collapsed": false,
     "input": [
      "net1.fit(X2D, y, max_iter=10)"
     ],
     "language": "python",
     "metadata": {},
     "outputs": [
      {
       "output_type": "stream",
       "stream": "stdout",
       "text": [
        " ~=* Neural Network with 43484 learnable parameters *=~ \n",
        "  input0            \t(None, 1, 28, 28)   \tproduces     784 outputs\n",
        "  conv2d0           \t(None, 16, 22, 22)  \tproduces    7744 outputs\n",
        "  maxpool2d0        \t(None, 16, 8, 8)    \tproduces    1024 outputs\n",
        "  conv2d1           \t(None, 32, 5, 5)    \tproduces     800 outputs\n",
        "  maxpool2d1        \t(None, 32, 3, 3)    \tproduces     288 outputs\n",
        "  dropout0          \t(None, 32, 3, 3)    \tproduces     288 outputs\n",
        "  dense0            \t(None, 100)         \tproduces     100 outputs\n",
        "  dense1            \t(None, 50)          \tproduces      50 outputs\n",
        "  output0           \t(None, 10)          \tproduces      10 outputs\n",
        " Epoch | Train loss | Valid loss | Train/Val | Valid acc | Dur\n",
        "-------|------------|------------|-----------|-----------|------"
       ]
      },
      {
       "output_type": "stream",
       "stream": "stdout",
       "text": [
        "\n",
        "     0 |   3.549087 |   2.009078 |    1.767  |  0.2989   | 10.7s"
       ]
      },
      {
       "output_type": "stream",
       "stream": "stdout",
       "text": [
        "\n",
        "     1 |   1.838774 |   1.353011 |    1.359  |  0.5579   | 8.0s"
       ]
      },
      {
       "output_type": "stream",
       "stream": "stdout",
       "text": [
        "\n",
        "     2 |   1.273970 |   0.731138 |    1.742  |  0.7646   | 8.2s"
       ]
      },
      {
       "output_type": "stream",
       "stream": "stdout",
       "text": [
        "\n",
        "     3 |   0.900252 |   0.496592 |    1.813  |  0.8481   | 10.5s"
       ]
      },
      {
       "output_type": "stream",
       "stream": "stdout",
       "text": [
        "\n",
        "     4 |   0.691586 |   0.419586 |    1.648  |  0.8667   | 11.3s"
       ]
      },
      {
       "output_type": "stream",
       "stream": "stdout",
       "text": [
        "\n",
        "     5 |   0.582414 |   0.325661 |    1.788  |  0.9041   | 11.2s"
       ]
      },
      {
       "output_type": "stream",
       "stream": "stdout",
       "text": [
        "\n",
        "     6 |   0.476539 |   0.288754 |    1.650  |  0.9191   | 9.3s"
       ]
      },
      {
       "output_type": "stream",
       "stream": "stdout",
       "text": [
        "\n",
        "     7 |   0.443392 |   0.264794 |    1.674  |  0.9103   | 7.7s"
       ]
      },
      {
       "output_type": "stream",
       "stream": "stdout",
       "text": [
        "\n",
        "     8 |   0.405929 |   0.236150 |    1.719  |  0.9253   | 7.7s"
       ]
      },
      {
       "output_type": "stream",
       "stream": "stdout",
       "text": [
        "\n",
        "     9 |   0.366767 |   0.236630 |    1.550  |  0.9228   | 7.8s"
       ]
      },
      {
       "output_type": "stream",
       "stream": "stdout",
       "text": [
        "\n"
       ]
      },
      {
       "metadata": {},
       "output_type": "pyout",
       "prompt_number": 11,
       "text": [
        "NeuralNet(cost_function=<function crossentropy at 0x00000000168DE588>,\n",
        "     eval_size=0.2,\n",
        "     iterator=<nolearn.lasagne.BatchIterator object at 0x0000000016BC5A58>,\n",
        "     lambda2=None,\n",
        "     layers=[<netz.layers.InputLayer object at 0x0000000016ECFEB8>, <netz.layers.Conv2DLayer object at 0x0000000016ECF8D0>, <netz.layers.MaxPool2DLayer object at 0x0000000016ECF898>, <netz.layers.Conv2DLayer object at 0x0000000016ECF978>, <netz.layers.MaxPool2DLayer object at 0x0000000016ECF128>, <netz.l...rs.DenseLayer object at 0x0000000016C44BE0>, <netz.layers.OutputLayer object at 0x0000000016ECF908>],\n",
        "     updater=<netz.updaters.Nesterov object at 0x0000000016ED8B00>,\n",
        "     verbose=1)"
       ]
      }
     ],
     "prompt_number": 11
    },
    {
     "cell_type": "code",
     "collapsed": false,
     "input": [
      "plot_loss(net1)"
     ],
     "language": "python",
     "metadata": {},
     "outputs": [
      {
       "metadata": {},
       "output_type": "display_data",
       "png": "[encoded data removed]",
       "text": [
        "<matplotlib.figure.Figure at 0x1c21d048>"
       ]
      }
     ],
     "prompt_number": 12
    },
    {
     "cell_type": "code",
     "collapsed": false,
     "input": [
      "plot_conv_weights(net1.layers[1])"
     ],
     "language": "python",
     "metadata": {},
     "outputs": [
      {
       "metadata": {},
       "output_type": "display_data",
       "png": "[encoded data removed]",
       "text": [
        "<matplotlib.figure.Figure at 0x207852e8>"
       ]
      }
     ],
     "prompt_number": 13
    },
    {
     "cell_type": "heading",
     "level": 3,
     "metadata": {},
     "source": [
      "Adadelta"
     ]
    },
    {
     "cell_type": "code",
     "collapsed": false,
     "input": [
      "layers2 = [InputLayer(),\n",
      "           Conv2DLayer(16, (7, 7), nonlinearity=rectify),\n",
      "           MaxPool2DLayer(ds=(3, 3)),\n",
      "           Conv2DLayer(32, (4, 4), nonlinearity=rectify),\n",
      "           MaxPool2DLayer(),\n",
      "           DropoutLayer(p=0.5),\n",
      "           DenseLayer(100, nonlinearity=rectify),\n",
      "           DenseLayer(50, nonlinearity=rectify),\n",
      "           OutputLayer()]"
     ],
     "language": "python",
     "metadata": {},
     "outputs": [],
     "prompt_number": 14
    },
    {
     "cell_type": "code",
     "collapsed": false,
     "input": [
      "net2 = NeuralNet(layers2, cost_function=crossentropy, updater=Adadelta(), verbose=1, eval_size=0.2)"
     ],
     "language": "python",
     "metadata": {},
     "outputs": [],
     "prompt_number": 15
    },
    {
     "cell_type": "code",
     "collapsed": false,
     "input": [
      "net2.fit(X2D, y, max_iter=10)"
     ],
     "language": "python",
     "metadata": {},
     "outputs": [
      {
       "output_type": "stream",
       "stream": "stdout",
       "text": [
        " ~=* Neural Network with 43484 learnable parameters *=~ \n",
        "  input0            \t(None, 1, 28, 28)   \tproduces     784 outputs\n",
        "  conv2d0           \t(None, 16, 22, 22)  \tproduces    7744 outputs\n",
        "  maxpool2d0        \t(None, 16, 8, 8)    \tproduces    1024 outputs\n",
        "  conv2d1           \t(None, 32, 5, 5)    \tproduces     800 outputs\n",
        "  maxpool2d1        \t(None, 32, 3, 3)    \tproduces     288 outputs\n",
        "  dropout0          \t(None, 32, 3, 3)    \tproduces     288 outputs\n",
        "  dense0            \t(None, 100)         \tproduces     100 outputs\n",
        "  dense1            \t(None, 50)          \tproduces      50 outputs\n",
        "  output0           \t(None, 10)          \tproduces      10 outputs\n",
        " Epoch | Train loss | Valid loss | Train/Val | Valid acc | Dur\n",
        "-------|------------|------------|-----------|-----------|------"
       ]
      },
      {
       "output_type": "stream",
       "stream": "stdout",
       "text": [
        "\n",
        "     0 |   3.219809 |   0.956840 |    3.365  |  0.6849   | 8.3s"
       ]
      },
      {
       "output_type": "stream",
       "stream": "stdout",
       "text": [
        "\n",
        "     1 |   1.030115 |   0.531812 |    1.937  |  0.8306   | 7.8s"
       ]
      },
      {
       "output_type": "stream",
       "stream": "stdout",
       "text": [
        "\n",
        "     2 |   0.728128 |   0.372206 |    1.956  |  0.8755   | 8.3s"
       ]
      },
      {
       "output_type": "stream",
       "stream": "stdout",
       "text": [
        "\n",
        "     3 |   0.563324 |   0.286050 |    1.969  |  0.9166   | 7.8s"
       ]
      },
      {
       "output_type": "stream",
       "stream": "stdout",
       "text": [
        "\n",
        "     4 |   0.453111 |   0.309904 |    1.462  |  0.9091   | 7.9s"
       ]
      },
      {
       "output_type": "stream",
       "stream": "stdout",
       "text": [
        "\n",
        "     5 |   0.459801 |   0.231212 |    1.989  |  0.9278   | 8.1s"
       ]
      },
      {
       "output_type": "stream",
       "stream": "stdout",
       "text": [
        "\n",
        "     6 |   0.354992 |   0.257551 |    1.378  |  0.9128   | 8.0s"
       ]
      },
      {
       "output_type": "stream",
       "stream": "stdout",
       "text": [
        "\n",
        "     7 |   0.357120 |   0.236311 |    1.511  |  0.9253   | 7.9s"
       ]
      },
      {
       "output_type": "stream",
       "stream": "stdout",
       "text": [
        "\n",
        "     8 |   0.337516 |   0.261205 |    1.292  |  0.9228   | 8.1s"
       ]
      },
      {
       "output_type": "stream",
       "stream": "stdout",
       "text": [
        "\n",
        "     9 |   0.296676 |   0.240599 |    1.233  |  0.9265   | 7.9s"
       ]
      },
      {
       "output_type": "stream",
       "stream": "stdout",
       "text": [
        "\n"
       ]
      },
      {
       "metadata": {},
       "output_type": "pyout",
       "prompt_number": 16,
       "text": [
        "NeuralNet(cost_function=<function crossentropy at 0x00000000168DE588>,\n",
        "     eval_size=0.2,\n",
        "     iterator=<nolearn.lasagne.BatchIterator object at 0x0000000016BC5A58>,\n",
        "     lambda2=None,\n",
        "     layers=[<netz.layers.InputLayer object at 0x000000002500C2B0>, <netz.layers.Conv2DLayer object at 0x000000002500C390>, <netz.layers.MaxPool2DLayer object at 0x000000002500C358>, <netz.layers.Conv2DLayer object at 0x000000002500C240>, <netz.layers.MaxPool2DLayer object at 0x000000002500C1D0>, <netz.l...rs.DenseLayer object at 0x00000000207634E0>, <netz.layers.OutputLayer object at 0x00000000248FB6D8>],\n",
        "     updater=<netz.updaters.Adadelta object at 0x0000000020B01128>,\n",
        "     verbose=1)"
       ]
      }
     ],
     "prompt_number": 16
    },
    {
     "cell_type": "heading",
     "level": 3,
     "metadata": {},
     "source": [
      "Adagrad"
     ]
    },
    {
     "cell_type": "code",
     "collapsed": false,
     "input": [
      "layers2b = [InputLayer(),\n",
      "           Conv2DLayer(16, (7, 7), nonlinearity=rectify),\n",
      "           MaxPool2DLayer(ds=(3, 3)),\n",
      "           Conv2DLayer(32, (4, 4), nonlinearity=rectify),\n",
      "           MaxPool2DLayer(),\n",
      "           DropoutLayer(p=0.5),\n",
      "           DenseLayer(100, nonlinearity=rectify),\n",
      "           DenseLayer(50, nonlinearity=rectify),\n",
      "           OutputLayer()]"
     ],
     "language": "python",
     "metadata": {},
     "outputs": [],
     "prompt_number": 17
    },
    {
     "cell_type": "code",
     "collapsed": false,
     "input": [
      "net2b = NeuralNet(layers2b, cost_function=crossentropy, updater=Adagrad(), verbose=1, eval_size=0.2)"
     ],
     "language": "python",
     "metadata": {},
     "outputs": [],
     "prompt_number": 18
    },
    {
     "cell_type": "code",
     "collapsed": false,
     "input": [
      "net2b.fit(X2D, y, max_iter=10)"
     ],
     "language": "python",
     "metadata": {},
     "outputs": [
      {
       "output_type": "stream",
       "stream": "stdout",
       "text": [
        " ~=* Neural Network with 43484 learnable parameters *=~ \n",
        "  input0            \t(None, 1, 28, 28)   \tproduces     784 outputs\n",
        "  conv2d0           \t(None, 16, 22, 22)  \tproduces    7744 outputs\n",
        "  maxpool2d0        \t(None, 16, 8, 8)    \tproduces    1024 outputs\n",
        "  conv2d1           \t(None, 32, 5, 5)    \tproduces     800 outputs\n",
        "  maxpool2d1        \t(None, 32, 3, 3)    \tproduces     288 outputs\n",
        "  dropout0          \t(None, 32, 3, 3)    \tproduces     288 outputs\n",
        "  dense0            \t(None, 100)         \tproduces     100 outputs\n",
        "  dense1            \t(None, 50)          \tproduces      50 outputs\n",
        "  output0           \t(None, 10)          \tproduces      10 outputs\n",
        " Epoch | Train loss | Valid loss | Train/Val | Valid acc | Dur\n",
        "-------|------------|------------|-----------|-----------|------"
       ]
      },
      {
       "output_type": "stream",
       "stream": "stdout",
       "text": [
        "\n",
        "     0 |        nan |        nan |      nan  |  0.0996   | 7.8s"
       ]
      },
      {
       "output_type": "stream",
       "stream": "stdout",
       "text": [
        "\n",
        "     1 |        nan |        nan |      nan  |  0.0996   | 7.7s"
       ]
      },
      {
       "output_type": "stream",
       "stream": "stdout",
       "text": [
        "\n",
        "     2 |        nan |        nan |      nan  |  0.0996   | 7.8s"
       ]
      },
      {
       "output_type": "stream",
       "stream": "stdout",
       "text": [
        "\n",
        "     3 |        nan |        nan |      nan  |  0.0996   | 7.8s"
       ]
      },
      {
       "output_type": "stream",
       "stream": "stdout",
       "text": [
        "\n",
        "     4 |        nan |        nan |      nan  |  0.0996   | 7.5s"
       ]
      },
      {
       "output_type": "stream",
       "stream": "stdout",
       "text": [
        "\n",
        "     5 |        nan |        nan |      nan  |  0.0996   | 7.8s"
       ]
      },
      {
       "output_type": "stream",
       "stream": "stdout",
       "text": [
        "\n",
        "     6 |        nan |        nan |      nan  |  0.0996   | 7.8s"
       ]
      },
      {
       "output_type": "stream",
       "stream": "stdout",
       "text": [
        "\n",
        "     7 |        nan |        nan |      nan  |  0.0996   | 8.0s"
       ]
      },
      {
       "output_type": "stream",
       "stream": "stdout",
       "text": [
        "\n",
        "     8 |        nan |        nan |      nan  |  0.0996   | 7.5s"
       ]
      },
      {
       "output_type": "stream",
       "stream": "stdout",
       "text": [
        "\n",
        "     9 |        nan |        nan |      nan  |  0.0996   | 7.5s"
       ]
      },
      {
       "output_type": "stream",
       "stream": "stdout",
       "text": [
        "\n"
       ]
      },
      {
       "metadata": {},
       "output_type": "pyout",
       "prompt_number": 19,
       "text": [
        "NeuralNet(cost_function=<function crossentropy at 0x00000000168DE588>,\n",
        "     eval_size=0.2,\n",
        "     iterator=<nolearn.lasagne.BatchIterator object at 0x0000000016BC5A58>,\n",
        "     lambda2=None,\n",
        "     layers=[<netz.layers.InputLayer object at 0x00000000259C18D0>, <netz.layers.Conv2DLayer object at 0x00000000259C17B8>, <netz.layers.MaxPool2DLayer object at 0x000000002593FD30>, <netz.layers.Conv2DLayer object at 0x000000002593FB70>, <netz.layers.MaxPool2DLayer object at 0x000000002593F710>, <netz.l...rs.DenseLayer object at 0x00000000208373C8>, <netz.layers.OutputLayer object at 0x00000000259ABFD0>],\n",
        "     updater=<netz.updaters.Adagrad object at 0x0000000024133C18>,\n",
        "     verbose=1)"
       ]
      }
     ],
     "prompt_number": 19
    },
    {
     "cell_type": "heading",
     "level": 3,
     "metadata": {},
     "source": [
      "RMSProp"
     ]
    },
    {
     "cell_type": "code",
     "collapsed": false,
     "input": [
      "layers3 = [InputLayer(),\n",
      "           Conv2DLayer(16, (7, 7), nonlinearity=rectify),\n",
      "           MaxPool2DLayer(ds=(3, 3)),\n",
      "           Conv2DLayer(32, (4, 4), nonlinearity=rectify),\n",
      "           MaxPool2DLayer(),\n",
      "           DropoutLayer(p=0.5),\n",
      "           DenseLayer(100, nonlinearity=rectify),\n",
      "           DenseLayer(50, nonlinearity=rectify),\n",
      "           OutputLayer()]"
     ],
     "language": "python",
     "metadata": {},
     "outputs": [],
     "prompt_number": 20
    },
    {
     "cell_type": "code",
     "collapsed": false,
     "input": [
      "net3 = NeuralNet(layers3, cost_function=crossentropy, updater=RMSProp(), verbose=1, eval_size=0.2)"
     ],
     "language": "python",
     "metadata": {},
     "outputs": [],
     "prompt_number": 21
    },
    {
     "cell_type": "code",
     "collapsed": false,
     "input": [
      "net3.fit(X2D, y, max_iter=10)"
     ],
     "language": "python",
     "metadata": {},
     "outputs": [
      {
       "output_type": "stream",
       "stream": "stdout",
       "text": [
        " ~=* Neural Network with 43484 learnable parameters *=~ \n",
        "  input0            \t(None, 1, 28, 28)   \tproduces     784 outputs\n",
        "  conv2d0           \t(None, 16, 22, 22)  \tproduces    7744 outputs\n",
        "  maxpool2d0        \t(None, 16, 8, 8)    \tproduces    1024 outputs\n",
        "  conv2d1           \t(None, 32, 5, 5)    \tproduces     800 outputs\n",
        "  maxpool2d1        \t(None, 32, 3, 3)    \tproduces     288 outputs\n",
        "  dropout0          \t(None, 32, 3, 3)    \tproduces     288 outputs\n",
        "  dense0            \t(None, 100)         \tproduces     100 outputs\n",
        "  dense1            \t(None, 50)          \tproduces      50 outputs\n",
        "  output0           \t(None, 10)          \tproduces      10 outputs\n",
        " Epoch | Train loss | Valid loss | Train/Val | Valid acc | Dur\n",
        "-------|------------|------------|-----------|-----------|------"
       ]
      },
      {
       "output_type": "stream",
       "stream": "stdout",
       "text": [
        "\n",
        "     0 |        nan |        nan |      nan  |  0.0996   | 7.8s"
       ]
      },
      {
       "output_type": "stream",
       "stream": "stdout",
       "text": [
        "\n",
        "     1 |        nan |        nan |      nan  |  0.0996   | 7.6s"
       ]
      },
      {
       "output_type": "stream",
       "stream": "stdout",
       "text": [
        "\n",
        "     2 |        nan |        nan |      nan  |  0.0996   | 7.9s"
       ]
      },
      {
       "output_type": "stream",
       "stream": "stdout",
       "text": [
        "\n",
        "     3 |        nan |        nan |      nan  |  0.0996   | 8.1s"
       ]
      },
      {
       "output_type": "stream",
       "stream": "stdout",
       "text": [
        "\n",
        "     4 |        nan |        nan |      nan  |  0.0996   | 7.7s"
       ]
      },
      {
       "output_type": "stream",
       "stream": "stdout",
       "text": [
        "\n",
        "     5 |        nan |        nan |      nan  |  0.0996   | 7.8s"
       ]
      },
      {
       "output_type": "stream",
       "stream": "stdout",
       "text": [
        "\n",
        "     6 |        nan |        nan |      nan  |  0.0996   | 7.7s"
       ]
      },
      {
       "output_type": "stream",
       "stream": "stdout",
       "text": [
        "\n",
        "     7 |        nan |        nan |      nan  |  0.0996   | 9.4s"
       ]
      },
      {
       "output_type": "stream",
       "stream": "stdout",
       "text": [
        "\n",
        "     8 |        nan |        nan |      nan  |  0.0996   | 11.1s"
       ]
      },
      {
       "output_type": "stream",
       "stream": "stdout",
       "text": [
        "\n",
        "     9 |        nan |        nan |      nan  |  0.0996   | 10.9s"
       ]
      },
      {
       "output_type": "stream",
       "stream": "stdout",
       "text": [
        "\n"
       ]
      },
      {
       "metadata": {},
       "output_type": "pyout",
       "prompt_number": 22,
       "text": [
        "NeuralNet(cost_function=<function crossentropy at 0x00000000168DE588>,\n",
        "     eval_size=0.2,\n",
        "     iterator=<nolearn.lasagne.BatchIterator object at 0x0000000016BC5A58>,\n",
        "     lambda2=None,\n",
        "     layers=[<netz.layers.InputLayer object at 0x0000000027A2EAC8>, <netz.layers.Conv2DLayer object at 0x0000000027A48D68>, <netz.layers.MaxPool2DLayer object at 0x0000000027A48DA0>, <netz.layers.Conv2DLayer object at 0x0000000027A48320>, <netz.layers.MaxPool2DLayer object at 0x0000000027A48358>, <netz.l...rs.DenseLayer object at 0x000000002417B4A8>, <netz.layers.OutputLayer object at 0x0000000027A48390>],\n",
        "     updater=<netz.updaters.RMSProp object at 0x00000000269EAE80>,\n",
        "     verbose=1)"
       ]
      }
     ],
     "prompt_number": 22
    },
    {
     "cell_type": "heading",
     "level": 3,
     "metadata": {},
     "source": [
      "Batch Normalization"
     ]
    },
    {
     "cell_type": "code",
     "collapsed": false,
     "input": [
      "layers4 = [InputLayer(),\n",
      "           Conv2DLayer(16, (7, 7), nonlinearity=rectify),\n",
      "           BatchNormLayer(),\n",
      "           MaxPool2DLayer(ds=(3, 3)),\n",
      "           Conv2DLayer(32, (4, 4), nonlinearity=rectify),\n",
      "           BatchNormLayer(),\n",
      "           MaxPool2DLayer(),\n",
      "           DropoutLayer(p=0.5),\n",
      "           DenseLayer(100, nonlinearity=rectify),\n",
      "           BatchNormLayer(),\n",
      "           DenseLayer(50, nonlinearity=rectify),\n",
      "           BatchNormLayer(),\n",
      "           OutputLayer()]"
     ],
     "language": "python",
     "metadata": {},
     "outputs": [],
     "prompt_number": 23
    },
    {
     "cell_type": "code",
     "collapsed": false,
     "input": [
      "net4 = NeuralNet(layers4, cost_function=crossentropy, updater=Adadelta(), verbose=1, eval_size=0.2)"
     ],
     "language": "python",
     "metadata": {},
     "outputs": [],
     "prompt_number": 24
    },
    {
     "cell_type": "code",
     "collapsed": false,
     "input": [
      "net4.fit(X2D, y, max_iter=10)"
     ],
     "language": "python",
     "metadata": {},
     "outputs": [
      {
       "output_type": "stream",
       "stream": "stdout",
       "text": [
        " ~=* Neural Network with 43880 learnable parameters *=~ \n",
        "  input0            \t(None, 1, 28, 28)   \tproduces     784 outputs\n",
        "  conv2d0           \t(None, 16, 22, 22)  \tproduces    7744 outputs\n",
        "  batchnorm0        \t(None, 16, 22, 22)  \tproduces    7744 outputs\n",
        "  maxpool2d0        \t(None, 16, 8, 8)    \tproduces    1024 outputs\n",
        "  conv2d1           \t(None, 32, 5, 5)    \tproduces     800 outputs\n",
        "  batchnorm1        \t(None, 32, 5, 5)    \tproduces     800 outputs\n",
        "  maxpool2d1        \t(None, 32, 3, 3)    \tproduces     288 outputs\n",
        "  dropout0          \t(None, 32, 3, 3)    \tproduces     288 outputs\n",
        "  dense0            \t(None, 100)         \tproduces     100 outputs\n",
        "  batchnorm2        \t(None, 100)         \tproduces     100 outputs\n",
        "  dense1            \t(None, 50)          \tproduces      50 outputs\n",
        "  batchnorm3        \t(None, 50)          \tproduces      50 outputs\n",
        "  output0           \t(None, 10)          \tproduces      10 outputs\n",
        " Epoch | Train loss | Valid loss | Train/Val | Valid acc | Dur\n",
        "-------|------------|------------|-----------|-----------|------"
       ]
      },
      {
       "output_type": "stream",
       "stream": "stdout",
       "text": [
        "\n",
        "     0 |   2.357371 |   2.301412 |    1.024  |  0.1208   | 14.0s"
       ]
      },
      {
       "output_type": "stream",
       "stream": "stdout",
       "text": [
        "\n",
        "     1 |   2.292323 |   2.245224 |    1.021  |  0.1295   | 14.1s"
       ]
      },
      {
       "output_type": "stream",
       "stream": "stdout",
       "text": [
        "\n",
        "     2 |   2.221944 |   2.137348 |    1.040  |  0.2740   | 15.6s"
       ]
      },
      {
       "output_type": "stream",
       "stream": "stdout",
       "text": [
        "\n",
        "     3 |   2.116934 |   1.926423 |    1.099  |  0.3786   | 15.5s"
       ]
      },
      {
       "output_type": "stream",
       "stream": "stdout",
       "text": [
        "\n",
        "     4 |   1.977237 |   1.780524 |    1.110  |  0.4583   | 17.8s"
       ]
      },
      {
       "output_type": "stream",
       "stream": "stdout",
       "text": [
        "\n",
        "     5 |   1.801388 |   1.619999 |    1.112  |  0.4346   | 15.2s"
       ]
      },
      {
       "output_type": "stream",
       "stream": "stdout",
       "text": [
        "\n",
        "     6 |   1.633406 |   1.394766 |    1.171  |  0.5890   | 14.1s"
       ]
      },
      {
       "output_type": "stream",
       "stream": "stdout",
       "text": [
        "\n",
        "     7 |   1.464039 |   1.265031 |    1.157  |  0.6139   | 13.8s"
       ]
      },
      {
       "output_type": "stream",
       "stream": "stdout",
       "text": [
        "\n",
        "     8 |   1.317040 |   1.106516 |    1.190  |  0.6737   | 14.4s"
       ]
      },
      {
       "output_type": "stream",
       "stream": "stdout",
       "text": [
        "\n",
        "     9 |   1.194587 |   0.982063 |    1.216  |  0.7360   | 14.0s"
       ]
      },
      {
       "output_type": "stream",
       "stream": "stdout",
       "text": [
        "\n"
       ]
      },
      {
       "metadata": {},
       "output_type": "pyout",
       "prompt_number": 25,
       "text": [
        "NeuralNet(cost_function=<function crossentropy at 0x00000000168DE588>,\n",
        "     eval_size=0.2,\n",
        "     iterator=<nolearn.lasagne.BatchIterator object at 0x0000000016BC5A58>,\n",
        "     lambda2=None,\n",
        "     layers=[<netz.layers.InputLayer object at 0x00000000253446A0>, <netz.layers.Conv2DLayer object at 0x00000000253441D0>, <netz.layers.BatchNormLayer object at 0x000000001A919588>, <netz.layers.MaxPool2DLayer object at 0x00000000239D4080>, <netz.layers.Conv2DLayer object at 0x00000000239D40B8>, <netz.l...atchNormLayer object at 0x0000000029225278>, <netz.layers.OutputLayer object at 0x0000000029225400>],\n",
        "     updater=<netz.updaters.Adadelta object at 0x00000000289EF6A0>,\n",
        "     verbose=1)"
       ]
      }
     ],
     "prompt_number": 25
    },
    {
     "cell_type": "heading",
     "level": 4,
     "metadata": {},
     "source": [
      "less dropout"
     ]
    },
    {
     "cell_type": "code",
     "collapsed": false,
     "input": [
      "layers4b = [InputLayer(),\n",
      "           Conv2DLayer(16, (7, 7), nonlinearity=rectify),\n",
      "           BatchNormLayer(),\n",
      "           MaxPool2DLayer(ds=(3, 3)),\n",
      "           Conv2DLayer(32, (4, 4), nonlinearity=rectify),\n",
      "           BatchNormLayer(),\n",
      "           MaxPool2DLayer(),\n",
      "           DropoutLayer(p=0.1),\n",
      "           DenseLayer(100, nonlinearity=rectify),\n",
      "           BatchNormLayer(),\n",
      "           DenseLayer(50, nonlinearity=rectify),\n",
      "           BatchNormLayer(),\n",
      "           OutputLayer()]"
     ],
     "language": "python",
     "metadata": {},
     "outputs": [],
     "prompt_number": 48
    },
    {
     "cell_type": "code",
     "collapsed": false,
     "input": [
      "net4b = NeuralNet(layers4b, cost_function=crossentropy, updater=Adadelta(), verbose=1, eval_size=0.2)"
     ],
     "language": "python",
     "metadata": {},
     "outputs": [],
     "prompt_number": 49
    },
    {
     "cell_type": "code",
     "collapsed": false,
     "input": [
      "net4b.fit(X2D, y, max_iter=10)"
     ],
     "language": "python",
     "metadata": {},
     "outputs": [
      {
       "output_type": "stream",
       "stream": "stdout",
       "text": [
        " ~=* Neural Network with 43880 learnable parameters *=~ \n",
        "  input0            \t(None, 1, 28, 28)   \tproduces     784 outputs\n",
        "  conv2d0           \t(None, 16, 22, 22)  \tproduces    7744 outputs\n",
        "  batchnorm0        \t(None, 16, 22, 22)  \tproduces    7744 outputs\n",
        "  maxpool2d0        \t(None, 16, 8, 8)    \tproduces    1024 outputs\n",
        "  conv2d1           \t(None, 32, 5, 5)    \tproduces     800 outputs\n",
        "  batchnorm1        \t(None, 32, 5, 5)    \tproduces     800 outputs\n",
        "  maxpool2d1        \t(None, 32, 3, 3)    \tproduces     288 outputs\n",
        "  dropout0          \t(None, 32, 3, 3)    \tproduces     288 outputs\n",
        "  dense0            \t(None, 100)         \tproduces     100 outputs\n",
        "  batchnorm2        \t(None, 100)         \tproduces     100 outputs\n",
        "  dense1            \t(None, 50)          \tproduces      50 outputs\n",
        "  batchnorm3        \t(None, 50)          \tproduces      50 outputs\n",
        "  output0           \t(None, 10)          \tproduces      10 outputs\n",
        " Epoch | Train loss | Valid loss | Train/Val | Valid acc | Dur\n",
        "-------|------------|------------|-----------|-----------|------"
       ]
      },
      {
       "output_type": "stream",
       "stream": "stdout",
       "text": [
        "\n",
        "     0 |   2.338996 |   2.278730 |    1.026  |  0.1308   | 15.0s"
       ]
      },
      {
       "output_type": "stream",
       "stream": "stdout",
       "text": [
        "\n",
        "     1 |   2.166777 |   2.136280 |    1.014  |  0.1719   | 17.7s"
       ]
      },
      {
       "output_type": "stream",
       "stream": "stdout",
       "text": [
        "\n",
        "     2 |   1.976921 |   1.910081 |    1.035  |  0.4047   | 15.8s"
       ]
      },
      {
       "output_type": "stream",
       "stream": "stdout",
       "text": [
        "\n",
        "     3 |   1.776642 |   1.619490 |    1.097  |  0.5392   | 17.9s"
       ]
      },
      {
       "output_type": "stream",
       "stream": "stdout",
       "text": [
        "\n",
        "     4 |   1.566279 |   1.440474 |    1.087  |  0.5778   | 16.9s"
       ]
      },
      {
       "output_type": "stream",
       "stream": "stdout",
       "text": [
        "\n",
        "     5 |   1.384725 |   1.292636 |    1.071  |  0.6326   | 13.7s"
       ]
      },
      {
       "output_type": "stream",
       "stream": "stdout",
       "text": [
        "\n",
        "     6 |   1.196346 |   1.129455 |    1.059  |  0.6949   | 16.0s"
       ]
      },
      {
       "output_type": "stream",
       "stream": "stdout",
       "text": [
        "\n",
        "     7 |   1.071355 |   0.996389 |    1.075  |  0.7186   | 16.0s"
       ]
      },
      {
       "output_type": "stream",
       "stream": "stdout",
       "text": [
        "\n",
        "     8 |   0.931194 |   0.890913 |    1.045  |  0.7460   | 15.1s"
       ]
      },
      {
       "output_type": "stream",
       "stream": "stdout",
       "text": [
        "\n",
        "     9 |   0.839955 |   0.773880 |    1.085  |  0.7821   | 15.0s"
       ]
      },
      {
       "output_type": "stream",
       "stream": "stdout",
       "text": [
        "\n"
       ]
      },
      {
       "metadata": {},
       "output_type": "pyout",
       "prompt_number": 50,
       "text": [
        "NeuralNet(cost_function=<function crossentropy at 0x00000000168DE588>,\n",
        "     eval_size=0.2,\n",
        "     iterator=<nolearn.lasagne.BatchIterator object at 0x0000000016BC5A58>,\n",
        "     lambda2=None,\n",
        "     layers=[<netz.layers.InputLayer object at 0x000000002A4ACBE0>, <netz.layers.Conv2DLayer object at 0x000000002A4ACB70>, <netz.layers.BatchNormLayer object at 0x000000002A4AC5C0>, <netz.layers.MaxPool2DLayer object at 0x000000002A4ACC18>, <netz.layers.Conv2DLayer object at 0x000000002A4AC908>, <netz.l...atchNormLayer object at 0x000000002A4AC240>, <netz.layers.OutputLayer object at 0x000000002A8E8668>],\n",
        "     updater=<netz.updaters.Adadelta object at 0x000000002AA58208>,\n",
        "     verbose=1)"
       ]
      }
     ],
     "prompt_number": 50
    },
    {
     "cell_type": "code",
     "collapsed": false,
     "input": [],
     "language": "python",
     "metadata": {},
     "outputs": []
    },
    {
     "cell_type": "code",
     "collapsed": false,
     "input": [],
     "language": "python",
     "metadata": {},
     "outputs": []
    },
    {
     "cell_type": "code",
     "collapsed": false,
     "input": [
      "Xs = T.tensor4('Xs')"
     ],
     "language": "python",
     "metadata": {},
     "outputs": [],
     "prompt_number": 32
    },
    {
     "cell_type": "code",
     "collapsed": false,
     "input": [
      "fun2 = theano.function([Xs], net2.layers[2].get_output(Xs, True))"
     ],
     "language": "python",
     "metadata": {},
     "outputs": [],
     "prompt_number": 39
    },
    {
     "cell_type": "code",
     "collapsed": false,
     "input": [
      "fun4 = theano.function([Xs], net4.layers[2].get_output(Xs, True))"
     ],
     "language": "python",
     "metadata": {},
     "outputs": [],
     "prompt_number": 40
    },
    {
     "cell_type": "code",
     "collapsed": false,
     "input": [
      "act2, act4 = fun2(X2D), fun4(X2D)"
     ],
     "language": "python",
     "metadata": {},
     "outputs": [],
     "prompt_number": 43
    },
    {
     "cell_type": "code",
     "collapsed": false,
     "input": [
      "np.abs(act2).mean(), np.abs(act2).std()"
     ],
     "language": "python",
     "metadata": {},
     "outputs": [
      {
       "metadata": {},
       "output_type": "pyout",
       "prompt_number": 46,
       "text": [
        "(1.5639813820143502, 1.9039122321524542)"
       ]
      }
     ],
     "prompt_number": 46
    },
    {
     "cell_type": "code",
     "collapsed": false,
     "input": [
      "np.abs(act4).mean(), np.abs(act4).std()"
     ],
     "language": "python",
     "metadata": {},
     "outputs": [
      {
       "metadata": {},
       "output_type": "pyout",
       "prompt_number": 47,
       "text": [
        "(0.40836836842368668, 0.24061387636310064)"
       ]
      }
     ],
     "prompt_number": 47
    },
    {
     "cell_type": "code",
     "collapsed": false,
     "input": [],
     "language": "python",
     "metadata": {},
     "outputs": []
    },
    {
     "cell_type": "code",
     "collapsed": false,
     "input": [
      "act = net4.layers[-1].get_output(X2D, True)"
     ],
     "language": "python",
     "metadata": {},
     "outputs": [],
     "prompt_number": 30
    },
    {
     "cell_type": "code",
     "collapsed": false,
     "input": [
      "ll = net4.layers[2]"
     ],
     "language": "python",
     "metadata": {},
     "outputs": [],
     "prompt_number": 26
    },
    {
     "cell_type": "code",
     "collapsed": false,
     "input": [
      "ll.mean_ema_.get_value()"
     ],
     "language": "python",
     "metadata": {},
     "outputs": [
      {
       "metadata": {},
       "output_type": "pyout",
       "prompt_number": 27,
       "text": [
        "array([[[[ 0.69873518]],\n",
        "\n",
        "        [[ 1.30833186]],\n",
        "\n",
        "        [[ 0.83682386]],\n",
        "\n",
        "        [[ 0.19803668]],\n",
        "\n",
        "        [[ 1.08619087]],\n",
        "\n",
        "        [[ 0.38121763]],\n",
        "\n",
        "        [[ 0.54968384]],\n",
        "\n",
        "        [[ 0.35286094]],\n",
        "\n",
        "        [[ 0.33099553]],\n",
        "\n",
        "        [[ 1.54835641]],\n",
        "\n",
        "        [[ 0.86895313]],\n",
        "\n",
        "        [[ 0.72485844]],\n",
        "\n",
        "        [[ 0.62863958]],\n",
        "\n",
        "        [[ 1.0913593 ]],\n",
        "\n",
        "        [[ 1.22543804]],\n",
        "\n",
        "        [[ 1.81035791]]]])"
       ]
      }
     ],
     "prompt_number": 27
    },
    {
     "cell_type": "code",
     "collapsed": false,
     "input": [],
     "language": "python",
     "metadata": {},
     "outputs": []
    }
   ],
   "metadata": {}
  }
 ]
}